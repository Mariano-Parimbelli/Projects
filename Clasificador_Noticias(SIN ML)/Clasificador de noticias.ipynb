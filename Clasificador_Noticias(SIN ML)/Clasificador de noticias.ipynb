{
 "cells": [
  {
   "cell_type": "code",
   "execution_count": 4,
   "id": "24ae80fc",
   "metadata": {},
   "outputs": [],
   "source": [
    "#LIBRERIAS\n",
    "import spacy\n",
    "import pandas as pd\n",
    "import numpy as np\n",
    "import re\n",
    "from nltk.tokenize import word_tokenize\n",
    "from bs4 import BeautifulSoup\n",
    "import requests"
   ]
  },
  {
   "cell_type": "code",
   "execution_count": 5,
   "id": "bf305abd",
   "metadata": {
    "code_folding": [
     0
    ],
    "run_control": {
     "marked": true
    }
   },
   "outputs": [],
   "source": [
    "#carga de textos para entrenar\n",
    "df1= open('noticias/ciencia.txt',encoding='utf-8')\n",
    "ciencia=df1.read().split(\"|\")\n",
    "\n",
    "df2= open('noticias/deportes.txt',encoding='utf-8')\n",
    "deportes=df2.read().split(\"|\")\n",
    "\n",
    "df3= open('noticias/economia.txt',encoding='utf-8')\n",
    "economia=df3.read().split(\"|\")\n",
    "\n",
    "df4= open('noticias/politica.txt',encoding='utf-8')\n",
    "politica=df4.read().split(\"|\")\n",
    "\n",
    "#df5= open('prueba3.txt',encoding='utf-8')\n",
    "#prueba3=df5.read().split(\"|\")"
   ]
  },
  {
   "cell_type": "markdown",
   "id": "496bd1b0",
   "metadata": {},
   "source": [
    "*LINK DE LA NOTICIA A CLASIFICAR*"
   ]
  },
  {
   "cell_type": "code",
   "execution_count": 6,
   "id": "499e5939",
   "metadata": {
    "code_folding": []
   },
   "outputs": [],
   "source": [
    "\n",
    "url=\\\n",
    "\"https://www.infobae.com/salud/2022/04/26/el-confinamiento-afecto-mas-a-las-mujeres-que-a-los-hombres-segun-la-ciencia/\""
   ]
  },
  {
   "cell_type": "code",
   "execution_count": null,
   "id": "06f4ed3b",
   "metadata": {},
   "outputs": [],
   "source": [
    " "
   ]
  },
  {
   "cell_type": "code",
   "execution_count": 7,
   "id": "6c902201",
   "metadata": {
    "code_folding": [
     0
    ],
    "run_control": {
     "marked": true
    }
   },
   "outputs": [],
   "source": [
    "def Cargar_Noticia(url):\n",
    "    global cuerpo\n",
    "    llamada = requests.get(url)\n",
    "    datos_soup = BeautifulSoup(llamada.text, 'html.parser')\n",
    "\n",
    "    titulo = datos_soup.find_all(\"h1\",class_=\"article-headline\")\n",
    "    sub_titulo = datos_soup.find_all(\"h2\",class_=\"article-subheadline\")\n",
    "    texto = datos_soup.find_all(\"p\",class_=\"paragraph\")\n",
    "    cuerpo = []\n",
    "    # Guardamos los titulos en lista_titulos\n",
    "    for dato in titulo:\n",
    "        cuerpo.append(dato.get_text())\n",
    "\n",
    "    for dato in sub_titulo:\n",
    "        cuerpo.append(dato.get_text())\n",
    "\n",
    "    for dato in texto:\n",
    "        cuerpo.append(dato.get_text())\n",
    "\n",
    "Cargar_Noticia(url)"
   ]
  },
  {
   "cell_type": "code",
   "execution_count": 8,
   "id": "17d8358e",
   "metadata": {},
   "outputs": [],
   "source": [
    "Texto_inicial=cuerpo"
   ]
  },
  {
   "cell_type": "code",
   "execution_count": 9,
   "id": "5cf3552a",
   "metadata": {
    "scrolled": true
   },
   "outputs": [
    {
     "data": {
      "text/plain": [
       "['El confinamiento afectó más a las mujeres que a los hombres, según la ciencia',\n",
       " 'Dos investigaciones publicadas en la revista The Lancet Public Health evaluaron los impactos de la pandemia en la salud mental, en 15 países. Cuál fue la influencia de las cuarentenas',\n",
       " 'Las medidas de restricción contra el COVID-19 están asociadas con una salud mental ligeramente peor y evaluaciones de vida más bajas, según dos nuevos estudios que revisan datos de 15 países entre abril de 2020 y junio de 2021, publicados en la revista The Lancet Public Health, que han revelado que la población de los países que intentaron controlar la transmisión están más afectados por el COVID-19 que la de las personas de países que intentaron suprimir la transmisión.',\n",
       " 'El primer estudio indica que el tipo y el momento de la restricción pandémica juegan un factor en la determinación de los impactos en la salud mental mientras que el segundo sugiere que diferentes grupos los sienten de manera desproporcionada.',\n",
       " 'Los estudios señalan que los impactos en la salud mental asociados con los encierros fueron peores para las mujeres y las mujeres que vivían en hogares con niños dependientes en comparación con los hombres de todas las edades. A nivel nacional, los países que intentaron eliminar la transmisión comunitaria de COVID-19 dentro de sus fronteras (eliminadores) experimentaron menos muertes y tendencias de salud mental equivalentes o mejores durante la pandemia que los países que intentaron controlar en lugar de eliminar la transmisión (mitigadores).',\n",
       " 'En el transcurso de la pandemia, los gobiernos de todo el mundo emplearon diversas estrategias y emitieron una variedad de pautas para contener la pandemia de COVID-19. Sin embargo, las medidas de contención no fueron homogéneas; algunos países adoptaron estrategias de eliminación ambiciosas con objetivos de transmisión comunitaria cero. Otros países optaron por ralentizar la transmisión a través de una combinación de cierres intermitentes, cierres de lugares de trabajo, negocios y escuelas, distanciamiento social, uso de mascarillas y la cancelación de reuniones públicas y transporte público.',\n",
       " 'Así, se detalla que países como Corea del Sur y Japón implementaron acciones tempranas y específicas, como restricciones de viajes internacionales, pruebas y rastreo de contactos, lo que resultó en niveles más bajos de infecciones por COVID-19 y les permitió optar por estrategias de contención internas más indulgentes.',\n",
       " 'Por el contrario, los países mitigadores como Francia y el Reino Unido optaron por restricciones de viaje internacionales menos prohibitivas y se propusieron controlar, en lugar de eliminar, al virus a través de medidas de política internas estrictas y prolongadas, incluidos el distanciamiento físico y los requisitos de quedarse en casa.',\n",
       " '“Las respuestas gubernamentales a la pandemia de COVID-19 han sido ampliamente debatidas. A primera vista, puede parecer que los países eliminadores implementaron estrategias mucho más duras que otros países debido a sus prohibiciones de viajes internacionales ampliamente informadas. Pero, en realidad, las personas dentro de estas fronteras disfrutaron más libertad y medidas de contención doméstica menos restrictivas en general que los ciudadanos de los países mitigadores”, comentó la doctora Lara Aknin, de la Universidad Simon Fraser (Canadá).',\n",
       " 'El tipo de contención determina el impacto en la salud mental',\n",
       " 'Para evaluar cómo la variación en las restricciones de política de COVID-19 afecta la salud mental, el primer estudio combinó datos de rigurosidad de política diaria con datos de salud mental capturados quincenalmente de muestras de 15 países. Los países se agruparon en función de su respuesta al COVID-19 desde abril de 2020 hasta junio de 2021 como eliminadores (Australia, Japón, Singapur y Corea del Sur) o mitigadores (Canadá, Dinamarca, Finlandia, Francia, Alemania, Italia, Países Bajos, Noruega, España, Suecia y el Reino Unido).',\n",
       " 'En los países mitigadores, hubo un vínculo más fuerte entre las políticas de contención severas y una evaluación de vida más baja en comparación con los países eliminadores. Al observar las políticas individuales, aquellas que conducen a una pérdida de conexión social y que se adoptan principalmente en países mitigadores (p. ej., restricciones a las reuniones y requisitos de quedarse en casa) se asociaron con una mayor angustia psicológica y evaluaciones de vida más bajas.',\n",
       " 'Por otro lado, políticas como el cierre de escuelas, lugares de trabajo, eventos públicos y transporte público, así como las restricciones a los viajes nacionales, no estaban vinculadas a la salud mental. Quizás sorprendentemente, la cantidad de días consecutivos pasados bajo niveles altos o bajos de restricciones pandémicas no arrojó ninguna diferencia en los resultados de salud mental.',\n",
       " 'Las medidas políticas más estrictas se asociaron en general con opiniones más bajas sobre el manejo de la pandemia por parte del gobierno y, por lo tanto, sobre la salud mental. Las evaluaciones de cómo el gobierno manejó la pandemia fueron más positivas en los países eliminadores en comparación con los países mitigadores.',\n",
       " 'Por su parte, el segundo estudio, basado en datos representativos a nivel nacional de Australia, subraya que los impactos del confinamiento en la salud mental no se sintieron por igual en todos los grupos demográficos. Los autores explotaron un experimento natural que surgió del bloqueo único de Victoria, mientras que otras jurisdicciones permanecieron sin restricciones, para aislar el impacto causal del bloqueo.',\n",
       " 'Los autores utilizaron datos de más de 20.000 personas incluidas en la Encuesta de Dinámica Laboral, de Ingresos y de Hogares en Australia (HILDA). Compararon la salud mental de las personas en el estado de Victoria durante el confinamiento (el grupo de tratamiento) en relación con su salud mental el año anterior al confinamiento y compararon este cambio relativo con el cambio relativo de la salud mental de los residentes que viven en el resto de Australia (el grupo de tratamiento, grupo de control) que estaban relativamente libres de restricciones',\n",
       " 'Las mujeres tenían más probabilidades de sufrir consecuencias de salud mental que los hombres, especialmente aquellas entre 20 y 29 años de edad. No hubo efectos significativos para los adolescentes de ambos sexos ni para los hombres más jóvenes (de 20 a 29 años). Mientras tanto, los hombres de 55 años o más vieron una mejora en su salud mental durante el encierro, el único grupo demográfico que lo hizo.',\n",
       " 'Con información de Europa Press',\n",
       " 'SEGUIR LEYENDO:']"
      ]
     },
     "execution_count": 9,
     "metadata": {},
     "output_type": "execute_result"
    }
   ],
   "source": [
    "Texto_inicial"
   ]
  },
  {
   "cell_type": "code",
   "execution_count": 10,
   "id": "926e5bb7",
   "metadata": {
    "code_folding": [
     0
    ]
   },
   "outputs": [],
   "source": [
    "def removeCharacters(text):\n",
    "    global texto\n",
    "    characters = \",.:?’_¡»—“¿%;!/”-«``''©@)°C(\\\"\\n\"\n",
    "    text= ''.join( x for x in text if x not in characters)\n",
    "    text= ''.join([i for i in text if not i.isdigit()])\n",
    "\n",
    "    characters = \",.:?’_¡»—“¿%;!/”-«``''©@)°C(\\\"\\n\"\n",
    "    text= ''.join( x for x in text if x not in characters)\n",
    "    text= ''.join([i for i in text if not i.isdigit()])\n",
    "    text = text.lower()\n",
    "    texto=word_tokenize(text)\n",
    "     "
   ]
  },
  {
   "cell_type": "code",
   "execution_count": 11,
   "id": "67ce71e9",
   "metadata": {},
   "outputs": [],
   "source": [
    "removeCharacters(Texto_inicial)"
   ]
  },
  {
   "cell_type": "code",
   "execution_count": 12,
   "id": "0cb84878",
   "metadata": {
    "code_folding": [
     1
    ],
    "scrolled": true
   },
   "outputs": [],
   "source": [
    " #LE SACO LAS STOP WORDS\n",
    "def stopwords(texto):\n",
    "    #texto=ciencia\n",
    "    \n",
    "    global texto_limpio\n",
    "    f = open('stopwords.txt', 'r', encoding='utf8')\n",
    "    stopwords = f.read().split('\\n')\n",
    "    f.close()\n",
    "    \" \".join(stopwords)\n",
    "\n",
    "    palabras=list(texto)\n",
    "\n",
    "    texto_limpio = [\" \".join([\n",
    "                              palabra for palabra in palabras.split()\n",
    "                              if palabra not in stopwords])\n",
    "                              for palabras in palabras]"
   ]
  },
  {
   "cell_type": "code",
   "execution_count": 13,
   "id": "7afac176",
   "metadata": {},
   "outputs": [],
   "source": [
    "stopwords(texto)"
   ]
  },
  {
   "cell_type": "code",
   "execution_count": 14,
   "id": "0cf0a853",
   "metadata": {
    "code_folding": [
     0
    ]
   },
   "outputs": [],
   "source": [
    "#diccionario de freciencias\n",
    "def Diccionarios(textoDiccionario):\n",
    "    global diccionario1\n",
    "    diccionario1={}\n",
    "    for  palabra in textoDiccionario:\n",
    "        if palabra in diccionario1:\n",
    "            diccionario1[palabra] += 1\n",
    "        else:\n",
    "            diccionario1[palabra]=1\n",
    "    for palabra in diccionario1:\n",
    "        frecuencia_abs=diccionario1[palabra]"
   ]
  },
  {
   "cell_type": "code",
   "execution_count": 15,
   "id": "f1633d20",
   "metadata": {},
   "outputs": [],
   "source": [
    "Diccionarios(texto_limpio)"
   ]
  },
  {
   "cell_type": "code",
   "execution_count": 16,
   "id": "3e986d70",
   "metadata": {
    "code_folding": [
     0
    ]
   },
   "outputs": [],
   "source": [
    "def dicFrecuencias(Diccionario):\n",
    "    global noticia_analizar\n",
    "    #transformo el diccionario en dataframe\n",
    "    df=pd.DataFrame(list(diccionario1.items()), columns=['Palabra' , 'Cantidad'])\n",
    " \n",
    "    #eliminamos valores duplicados\n",
    "    df=df.drop_duplicates()\n",
    "    df=df.sort_values( 'Cantidad',ascending=False) #ordeno de mas repetidos a menos\n",
    "    indexNames = df[ df[\"Palabra\"] == \"\" ].index\n",
    "    df.drop(indexNames , inplace=True)\n",
    "    noticia_analizar=df"
   ]
  },
  {
   "cell_type": "code",
   "execution_count": 17,
   "id": "9b43d38b",
   "metadata": {},
   "outputs": [],
   "source": [
    "dicFrecuencias(diccionario1)"
   ]
  },
  {
   "cell_type": "code",
   "execution_count": 18,
   "id": "302fe952",
   "metadata": {},
   "outputs": [
    {
     "data": {
      "text/html": [
       "<div>\n",
       "<style scoped>\n",
       "    .dataframe tbody tr th:only-of-type {\n",
       "        vertical-align: middle;\n",
       "    }\n",
       "\n",
       "    .dataframe tbody tr th {\n",
       "        vertical-align: top;\n",
       "    }\n",
       "\n",
       "    .dataframe thead th {\n",
       "        text-align: right;\n",
       "    }\n",
       "</style>\n",
       "<table border=\"1\" class=\"dataframe\">\n",
       "  <thead>\n",
       "    <tr style=\"text-align: right;\">\n",
       "      <th></th>\n",
       "      <th>Palabra</th>\n",
       "      <th>Cantidad</th>\n",
       "    </tr>\n",
       "  </thead>\n",
       "  <tbody>\n",
       "    <tr>\n",
       "      <th>18</th>\n",
       "      <td>países</td>\n",
       "      <td>21</td>\n",
       "    </tr>\n",
       "    <tr>\n",
       "      <th>16</th>\n",
       "      <td>salud</td>\n",
       "      <td>17</td>\n",
       "    </tr>\n",
       "    <tr>\n",
       "      <th>17</th>\n",
       "      <td>mental</td>\n",
       "      <td>15</td>\n",
       "    </tr>\n",
       "    <tr>\n",
       "      <th>24</th>\n",
       "      <td>ovid</td>\n",
       "      <td>8</td>\n",
       "    </tr>\n",
       "    <tr>\n",
       "      <th>15</th>\n",
       "      <td>pandemia</td>\n",
       "      <td>7</td>\n",
       "    </tr>\n",
       "    <tr>\n",
       "      <th>136</th>\n",
       "      <td>restricciones</td>\n",
       "      <td>7</td>\n",
       "    </tr>\n",
       "    <tr>\n",
       "      <th>102</th>\n",
       "      <td>contención</td>\n",
       "      <td>5</td>\n",
       "    </tr>\n",
       "    <tr>\n",
       "      <th>35</th>\n",
       "      <td>datos</td>\n",
       "      <td>5</td>\n",
       "    </tr>\n",
       "    <tr>\n",
       "      <th>22</th>\n",
       "      <td>medidas</td>\n",
       "      <td>5</td>\n",
       "    </tr>\n",
       "    <tr>\n",
       "      <th>82</th>\n",
       "      <td>eliminadores</td>\n",
       "      <td>5</td>\n",
       "    </tr>\n",
       "  </tbody>\n",
       "</table>\n",
       "</div>"
      ],
      "text/plain": [
       "           Palabra  Cantidad\n",
       "18          países        21\n",
       "16           salud        17\n",
       "17          mental        15\n",
       "24            ovid         8\n",
       "15        pandemia         7\n",
       "136  restricciones         7\n",
       "102     contención         5\n",
       "35           datos         5\n",
       "22         medidas         5\n",
       "82    eliminadores         5"
      ]
     },
     "execution_count": 18,
     "metadata": {},
     "output_type": "execute_result"
    }
   ],
   "source": [
    "noticia_analizar.head(10)"
   ]
  },
  {
   "cell_type": "code",
   "execution_count": 19,
   "id": "9e3df061",
   "metadata": {
    "code_folding": [
     0
    ],
    "run_control": {
     "marked": false
    }
   },
   "outputs": [],
   "source": [
    "#df_Ciencia=pd.DataFrame(noticia_analizar)\n",
    "#df_Ciencia.to_csv('df_Ciencia.csv', index=False)\n",
    "df_Ciencia=pd.read_csv(\"df_Ciencia.csv\")\n",
    "\n",
    "\n",
    "#df_Deportes=pd.DataFrame(noticia_analizar)\n",
    "#df_Deportes.to_csv('df_Deportes.csv', index=False)\n",
    "df_Deportes=pd.read_csv(\"df_Deportes.csv\")\n",
    "\n",
    "\n",
    "#df_Economia=pd.DataFrame(noticia_analizar)\n",
    "#df_Economia.to_csv('df_Economia.csv', index=False)\n",
    "df_Economia=pd.read_csv(\"df_Economia.csv\")\n",
    "\n",
    "#df_Politica=pd.DataFrame(noticia_analizar)\n",
    "#df_Politica.to_csv('df_Politica.csv', index=False)\n",
    "df_Politica=pd.read_csv(\"df_Politica.csv\")\n",
    "\n",
    "Clasificar=pd.DataFrame(noticia_analizar)"
   ]
  },
  {
   "cell_type": "code",
   "execution_count": 20,
   "id": "d9672030",
   "metadata": {
    "scrolled": true
   },
   "outputs": [
    {
     "data": {
      "text/html": [
       "<div>\n",
       "<style scoped>\n",
       "    .dataframe tbody tr th:only-of-type {\n",
       "        vertical-align: middle;\n",
       "    }\n",
       "\n",
       "    .dataframe tbody tr th {\n",
       "        vertical-align: top;\n",
       "    }\n",
       "\n",
       "    .dataframe thead th {\n",
       "        text-align: right;\n",
       "    }\n",
       "</style>\n",
       "<table border=\"1\" class=\"dataframe\">\n",
       "  <thead>\n",
       "    <tr style=\"text-align: right;\">\n",
       "      <th></th>\n",
       "      <th>Palabra</th>\n",
       "      <th>Cantidad</th>\n",
       "    </tr>\n",
       "  </thead>\n",
       "  <tbody>\n",
       "    <tr>\n",
       "      <th>0</th>\n",
       "      <td>datos</td>\n",
       "      <td>45</td>\n",
       "    </tr>\n",
       "    <tr>\n",
       "      <th>1</th>\n",
       "      <td>años</td>\n",
       "      <td>41</td>\n",
       "    </tr>\n",
       "    <tr>\n",
       "      <th>2</th>\n",
       "      <td>investigadores</td>\n",
       "      <td>33</td>\n",
       "    </tr>\n",
       "    <tr>\n",
       "      <th>3</th>\n",
       "      <td>científicos</td>\n",
       "      <td>32</td>\n",
       "    </tr>\n",
       "    <tr>\n",
       "      <th>4</th>\n",
       "      <td>estudios</td>\n",
       "      <td>24</td>\n",
       "    </tr>\n",
       "    <tr>\n",
       "      <th>5</th>\n",
       "      <td>suelo</td>\n",
       "      <td>23</td>\n",
       "    </tr>\n",
       "    <tr>\n",
       "      <th>6</th>\n",
       "      <td>rwd</td>\n",
       "      <td>21</td>\n",
       "    </tr>\n",
       "    <tr>\n",
       "      <th>7</th>\n",
       "      <td>estudio</td>\n",
       "      <td>21</td>\n",
       "    </tr>\n",
       "    <tr>\n",
       "      <th>8</th>\n",
       "      <td>foto</td>\n",
       "      <td>20</td>\n",
       "    </tr>\n",
       "    <tr>\n",
       "      <th>9</th>\n",
       "      <td>expertos</td>\n",
       "      <td>20</td>\n",
       "    </tr>\n",
       "  </tbody>\n",
       "</table>\n",
       "</div>"
      ],
      "text/plain": [
       "          Palabra  Cantidad\n",
       "0           datos        45\n",
       "1            años        41\n",
       "2  investigadores        33\n",
       "3     científicos        32\n",
       "4        estudios        24\n",
       "5           suelo        23\n",
       "6             rwd        21\n",
       "7         estudio        21\n",
       "8            foto        20\n",
       "9        expertos        20"
      ]
     },
     "metadata": {},
     "output_type": "display_data"
    },
    {
     "data": {
      "text/html": [
       "<div>\n",
       "<style scoped>\n",
       "    .dataframe tbody tr th:only-of-type {\n",
       "        vertical-align: middle;\n",
       "    }\n",
       "\n",
       "    .dataframe tbody tr th {\n",
       "        vertical-align: top;\n",
       "    }\n",
       "\n",
       "    .dataframe thead th {\n",
       "        text-align: right;\n",
       "    }\n",
       "</style>\n",
       "<table border=\"1\" class=\"dataframe\">\n",
       "  <thead>\n",
       "    <tr style=\"text-align: right;\">\n",
       "      <th></th>\n",
       "      <th>Palabra</th>\n",
       "      <th>Cantidad</th>\n",
       "    </tr>\n",
       "  </thead>\n",
       "  <tbody>\n",
       "    <tr>\n",
       "      <th>0</th>\n",
       "      <td>juegos</td>\n",
       "      <td>23</td>\n",
       "    </tr>\n",
       "    <tr>\n",
       "      <th>1</th>\n",
       "      <td>mayo</td>\n",
       "      <td>19</td>\n",
       "    </tr>\n",
       "    <tr>\n",
       "      <th>2</th>\n",
       "      <td>liga</td>\n",
       "      <td>19</td>\n",
       "    </tr>\n",
       "    <tr>\n",
       "      <th>3</th>\n",
       "      <td>luego</td>\n",
       "      <td>14</td>\n",
       "    </tr>\n",
       "    <tr>\n",
       "      <th>4</th>\n",
       "      <td>años</td>\n",
       "      <td>13</td>\n",
       "    </tr>\n",
       "    <tr>\n",
       "      <th>5</th>\n",
       "      <td>gran</td>\n",
       "      <td>13</td>\n",
       "    </tr>\n",
       "    <tr>\n",
       "      <th>6</th>\n",
       "      <td>selecciones</td>\n",
       "      <td>12</td>\n",
       "    </tr>\n",
       "    <tr>\n",
       "      <th>7</th>\n",
       "      <td>tiene</td>\n",
       "      <td>12</td>\n",
       "    </tr>\n",
       "    <tr>\n",
       "      <th>8</th>\n",
       "      <td>ov</td>\n",
       "      <td>12</td>\n",
       "    </tr>\n",
       "    <tr>\n",
       "      <th>9</th>\n",
       "      <td>equipo</td>\n",
       "      <td>12</td>\n",
       "    </tr>\n",
       "  </tbody>\n",
       "</table>\n",
       "</div>"
      ],
      "text/plain": [
       "       Palabra  Cantidad\n",
       "0       juegos        23\n",
       "1         mayo        19\n",
       "2         liga        19\n",
       "3        luego        14\n",
       "4         años        13\n",
       "5         gran        13\n",
       "6  selecciones        12\n",
       "7        tiene        12\n",
       "8           ov        12\n",
       "9       equipo        12"
      ]
     },
     "metadata": {},
     "output_type": "display_data"
    },
    {
     "data": {
      "text/html": [
       "<div>\n",
       "<style scoped>\n",
       "    .dataframe tbody tr th:only-of-type {\n",
       "        vertical-align: middle;\n",
       "    }\n",
       "\n",
       "    .dataframe tbody tr th {\n",
       "        vertical-align: top;\n",
       "    }\n",
       "\n",
       "    .dataframe thead th {\n",
       "        text-align: right;\n",
       "    }\n",
       "</style>\n",
       "<table border=\"1\" class=\"dataframe\">\n",
       "  <thead>\n",
       "    <tr style=\"text-align: right;\">\n",
       "      <th></th>\n",
       "      <th>Palabra</th>\n",
       "      <th>Cantidad</th>\n",
       "    </tr>\n",
       "  </thead>\n",
       "  <tbody>\n",
       "    <tr>\n",
       "      <th>0</th>\n",
       "      <td>inflación</td>\n",
       "      <td>72</td>\n",
       "    </tr>\n",
       "    <tr>\n",
       "      <th>1</th>\n",
       "      <td>millones</td>\n",
       "      <td>42</td>\n",
       "    </tr>\n",
       "    <tr>\n",
       "      <th>2</th>\n",
       "      <td>deuda</td>\n",
       "      <td>40</td>\n",
       "    </tr>\n",
       "    <tr>\n",
       "      <th>3</th>\n",
       "      <td>gobierno</td>\n",
       "      <td>34</td>\n",
       "    </tr>\n",
       "    <tr>\n",
       "      <th>4</th>\n",
       "      <td>economía</td>\n",
       "      <td>33</td>\n",
       "    </tr>\n",
       "    <tr>\n",
       "      <th>5</th>\n",
       "      <td>$</td>\n",
       "      <td>28</td>\n",
       "    </tr>\n",
       "    <tr>\n",
       "      <th>6</th>\n",
       "      <td>banco</td>\n",
       "      <td>28</td>\n",
       "    </tr>\n",
       "    <tr>\n",
       "      <th>7</th>\n",
       "      <td>pesos</td>\n",
       "      <td>27</td>\n",
       "    </tr>\n",
       "    <tr>\n",
       "      <th>8</th>\n",
       "      <td>subsidios</td>\n",
       "      <td>27</td>\n",
       "    </tr>\n",
       "    <tr>\n",
       "      <th>9</th>\n",
       "      <td>guzmán</td>\n",
       "      <td>25</td>\n",
       "    </tr>\n",
       "  </tbody>\n",
       "</table>\n",
       "</div>"
      ],
      "text/plain": [
       "     Palabra  Cantidad\n",
       "0  inflación        72\n",
       "1   millones        42\n",
       "2      deuda        40\n",
       "3   gobierno        34\n",
       "4   economía        33\n",
       "5          $        28\n",
       "6      banco        28\n",
       "7      pesos        27\n",
       "8  subsidios        27\n",
       "9     guzmán        25"
      ]
     },
     "metadata": {},
     "output_type": "display_data"
    },
    {
     "data": {
      "text/html": [
       "<div>\n",
       "<style scoped>\n",
       "    .dataframe tbody tr th:only-of-type {\n",
       "        vertical-align: middle;\n",
       "    }\n",
       "\n",
       "    .dataframe tbody tr th {\n",
       "        vertical-align: top;\n",
       "    }\n",
       "\n",
       "    .dataframe thead th {\n",
       "        text-align: right;\n",
       "    }\n",
       "</style>\n",
       "<table border=\"1\" class=\"dataframe\">\n",
       "  <thead>\n",
       "    <tr style=\"text-align: right;\">\n",
       "      <th></th>\n",
       "      <th>Palabra</th>\n",
       "      <th>Cantidad</th>\n",
       "    </tr>\n",
       "  </thead>\n",
       "  <tbody>\n",
       "    <tr>\n",
       "      <th>0</th>\n",
       "      <td>gobierno</td>\n",
       "      <td>62</td>\n",
       "    </tr>\n",
       "    <tr>\n",
       "      <th>1</th>\n",
       "      <td>política</td>\n",
       "      <td>41</td>\n",
       "    </tr>\n",
       "    <tr>\n",
       "      <th>2</th>\n",
       "      <td>presidente</td>\n",
       "      <td>39</td>\n",
       "    </tr>\n",
       "    <tr>\n",
       "      <th>3</th>\n",
       "      <td>argentina</td>\n",
       "      <td>34</td>\n",
       "    </tr>\n",
       "    <tr>\n",
       "      <th>4</th>\n",
       "      <td>está</td>\n",
       "      <td>27</td>\n",
       "    </tr>\n",
       "    <tr>\n",
       "      <th>5</th>\n",
       "      <td>alcalde</td>\n",
       "      <td>27</td>\n",
       "    </tr>\n",
       "    <tr>\n",
       "      <th>6</th>\n",
       "      <td>país</td>\n",
       "      <td>26</td>\n",
       "    </tr>\n",
       "    <tr>\n",
       "      <th>7</th>\n",
       "      <td>años</td>\n",
       "      <td>26</td>\n",
       "    </tr>\n",
       "    <tr>\n",
       "      <th>8</th>\n",
       "      <td>gente</td>\n",
       "      <td>25</td>\n",
       "    </tr>\n",
       "    <tr>\n",
       "      <th>9</th>\n",
       "      <td>milei</td>\n",
       "      <td>21</td>\n",
       "    </tr>\n",
       "  </tbody>\n",
       "</table>\n",
       "</div>"
      ],
      "text/plain": [
       "      Palabra  Cantidad\n",
       "0    gobierno        62\n",
       "1    política        41\n",
       "2  presidente        39\n",
       "3   argentina        34\n",
       "4        está        27\n",
       "5     alcalde        27\n",
       "6        país        26\n",
       "7        años        26\n",
       "8       gente        25\n",
       "9       milei        21"
      ]
     },
     "metadata": {},
     "output_type": "display_data"
    }
   ],
   "source": [
    "# Solo para mostrar contenido de los diccionarios\n",
    "display(df_Ciencia.head(10),df_Deportes.head(10),df_Economia.head(10),df_Politica.head(10))"
   ]
  },
  {
   "cell_type": "markdown",
   "id": "2e6d8c64",
   "metadata": {},
   "source": [
    "*Clasificador sin Machine Leaning*"
   ]
  },
  {
   "cell_type": "code",
   "execution_count": 21,
   "id": "f8a8e7e5",
   "metadata": {
    "code_folding": [
     1
    ]
   },
   "outputs": [
    {
     "name": "stdout",
     "output_type": "stream",
     "text": [
      "Deportes: 103\n",
      "Politica: 114\n",
      "Ciencia: 124\n",
      "Economia: 105\n",
      "Ciencia\n"
     ]
    },
    {
     "data": {
      "text/plain": [
       "Palabra     336\n",
       "Cantidad    336\n",
       "dtype: int64"
      ]
     },
     "execution_count": 21,
     "metadata": {},
     "output_type": "execute_result"
    }
   ],
   "source": [
    "def clasificacion(noticia):\n",
    "    global Resultado\n",
    "    comparativa=[df_Deportes,df_Politica,df_Ciencia,df_Economia]\n",
    "    Clasificacion=[\"Deportes\",\"Politica\",\"Ciencia\",\"Economia\"]\n",
    "    auxiliar=0\n",
    "    auxiliar2=-1\n",
    "    for j in comparativa:\n",
    "        a=pd.concat([noticia_analizar,j],axis=0)\n",
    "        a=a.drop([\"Cantidad\"],axis=1)\n",
    "        repetidos= a[\"Palabra\"].duplicated()\n",
    "        count=0\n",
    "\n",
    "        for i in repetidos:\n",
    "            if i == True:\n",
    "                count+=1\n",
    "\n",
    "                if auxiliar<count:\n",
    "                    auxiliar=count\n",
    "                    clasificado=auxiliar2+1 \n",
    "\n",
    "        auxiliar2+=1\n",
    "\n",
    "        print (Clasificacion[auxiliar2]+ \": \"+str(count))\n",
    "    print(Clasificacion[clasificado])\n",
    "    Resultado=Clasificacion[clasificado]\n",
    "\n",
    "clasificacion(noticia_analizar)\n",
    "noticia_analizar.count()\n",
    " "
   ]
  },
  {
   "cell_type": "code",
   "execution_count": 23,
   "id": "c07aed40",
   "metadata": {},
   "outputs": [
    {
     "name": "stdout",
     "output_type": "stream",
     "text": [
      "La Noticia es sobre: Ciencia\n"
     ]
    }
   ],
   "source": [
    " print(\"La Noticia es sobre: \" + Resultado)"
   ]
  },
  {
   "cell_type": "code",
   "execution_count": null,
   "id": "d1593086",
   "metadata": {},
   "outputs": [],
   "source": [
    " "
   ]
  },
  {
   "cell_type": "code",
   "execution_count": null,
   "id": "eb4080a3",
   "metadata": {},
   "outputs": [],
   "source": []
  }
 ],
 "metadata": {
  "kernelspec": {
   "display_name": "Python 3 (ipykernel)",
   "language": "python",
   "name": "python3"
  },
  "language_info": {
   "codemirror_mode": {
    "name": "ipython",
    "version": 3
   },
   "file_extension": ".py",
   "mimetype": "text/x-python",
   "name": "python",
   "nbconvert_exporter": "python",
   "pygments_lexer": "ipython3",
   "version": "3.10.0"
  },
  "toc": {
   "base_numbering": 1,
   "nav_menu": {},
   "number_sections": true,
   "sideBar": true,
   "skip_h1_title": false,
   "title_cell": "Table of Contents",
   "title_sidebar": "Contents",
   "toc_cell": false,
   "toc_position": {},
   "toc_section_display": true,
   "toc_window_display": false
  }
 },
 "nbformat": 4,
 "nbformat_minor": 5
}
