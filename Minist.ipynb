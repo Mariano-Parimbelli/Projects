{
 "cells": [
  {
   "cell_type": "code",
   "execution_count": 1,
   "id": "75fbe05f",
   "metadata": {},
   "outputs": [
    {
     "name": "stderr",
     "output_type": "stream",
     "text": [
      "C:\\Users\\lobo\\AppData\\Local\\Temp\\ipykernel_6556\\2765108913.py:23: DeprecationWarning: `import kerastuner` is deprecated, please use `import keras_tuner`.\n",
      "  import kerastuner as kt\n"
     ]
    }
   ],
   "source": [
    "import pandas as pd\n",
    "import numpy as np\n",
    "import pandas as pd\n",
    "import tensorflow as tf\n",
    "from tensorflow import keras\n",
    "from tensorflow.keras import Input\n",
    "from tensorflow.keras.models import Sequential\n",
    "from tensorflow.keras.layers import Dense\n",
    "from tensorflow.keras import initializers\n",
    "from sklearn.model_selection import train_test_split\n",
    "from keras.initializers import glorot_uniform  # Or your initializer of choice\n",
    "import keras.backend as K\n",
    "from keras.models import load_model\n",
    "import matplotlib.pyplot as plt\n",
    "from keras import *\n",
    "from keras.models import Sequential\n",
    "from sklearn.model_selection import RepeatedKFold, cross_val_score\n",
    "import sklearn\n",
    "from tensorflow.keras.wrappers.scikit_learn import KerasRegressor\n",
    "from sklearn.model_selection import cross_validate\n",
    "from keras.layers import Input\n",
    "from keras.layers import Dense\n",
    "import kerastuner as kt\n",
    "from sklearn.model_selection import GridSearchCV\n",
    "from sklearn.preprocessing import MinMaxScaler\n",
    "import seaborn as sns\n",
    "import plotly.express as px"
   ]
  },
  {
   "cell_type": "markdown",
   "id": "79ba4db2",
   "metadata": {},
   "source": [
    "# Clasificar numeros"
   ]
  },
  {
   "cell_type": "markdown",
   "id": "fedcb396",
   "metadata": {},
   "source": [
    "## importamos datos"
   ]
  },
  {
   "cell_type": "code",
   "execution_count": 53,
   "id": "3c3d44d3",
   "metadata": {},
   "outputs": [],
   "source": [
    "X=np.load('data/X_MNIST_60_mil.npy', allow_pickle=True)\n",
    "y=np.load('data/y_MNIST_60_mil.npy', allow_pickle=True)\n",
    "X_new=np.load('data/X_MNIST_10_mil.npy', allow_pickle=True)\n",
    "y = y.astype(np.uint8)   # algunos algoritmos dan error si los valores de y no son números"
   ]
  },
  {
   "cell_type": "markdown",
   "id": "6eb90a45",
   "metadata": {},
   "source": [
    "The MNIST database (Modified National Institute of Standards and Technology database) is a large database of handwritten digits that is commonly used for training various image processing systems.  The database is also widely used for training and testing in the field of machine learning. "
   ]
  },
  {
   "cell_type": "code",
   "execution_count": 104,
   "id": "2fdb6f1b",
   "metadata": {},
   "outputs": [
    {
     "data": {
      "text/html": [
       "<div>\n",
       "<style scoped>\n",
       "    .dataframe tbody tr th:only-of-type {\n",
       "        vertical-align: middle;\n",
       "    }\n",
       "\n",
       "    .dataframe tbody tr th {\n",
       "        vertical-align: top;\n",
       "    }\n",
       "\n",
       "    .dataframe thead th {\n",
       "        text-align: right;\n",
       "    }\n",
       "</style>\n",
       "<table border=\"1\" class=\"dataframe\">\n",
       "  <thead>\n",
       "    <tr style=\"text-align: right;\">\n",
       "      <th></th>\n",
       "      <th>0</th>\n",
       "      <th>1</th>\n",
       "      <th>2</th>\n",
       "      <th>3</th>\n",
       "      <th>4</th>\n",
       "      <th>5</th>\n",
       "      <th>6</th>\n",
       "      <th>7</th>\n",
       "      <th>8</th>\n",
       "      <th>9</th>\n",
       "      <th>...</th>\n",
       "      <th>774</th>\n",
       "      <th>775</th>\n",
       "      <th>776</th>\n",
       "      <th>777</th>\n",
       "      <th>778</th>\n",
       "      <th>779</th>\n",
       "      <th>780</th>\n",
       "      <th>781</th>\n",
       "      <th>782</th>\n",
       "      <th>783</th>\n",
       "    </tr>\n",
       "  </thead>\n",
       "  <tbody>\n",
       "    <tr>\n",
       "      <th>0</th>\n",
       "      <td>0.0</td>\n",
       "      <td>0.0</td>\n",
       "      <td>0.0</td>\n",
       "      <td>0.0</td>\n",
       "      <td>0.0</td>\n",
       "      <td>0.0</td>\n",
       "      <td>0.0</td>\n",
       "      <td>0.0</td>\n",
       "      <td>0.0</td>\n",
       "      <td>0.0</td>\n",
       "      <td>...</td>\n",
       "      <td>0.0</td>\n",
       "      <td>0.0</td>\n",
       "      <td>0.0</td>\n",
       "      <td>0.0</td>\n",
       "      <td>0.0</td>\n",
       "      <td>0.0</td>\n",
       "      <td>0.0</td>\n",
       "      <td>0.0</td>\n",
       "      <td>0.0</td>\n",
       "      <td>0.0</td>\n",
       "    </tr>\n",
       "    <tr>\n",
       "      <th>1</th>\n",
       "      <td>0.0</td>\n",
       "      <td>0.0</td>\n",
       "      <td>0.0</td>\n",
       "      <td>0.0</td>\n",
       "      <td>0.0</td>\n",
       "      <td>0.0</td>\n",
       "      <td>0.0</td>\n",
       "      <td>0.0</td>\n",
       "      <td>0.0</td>\n",
       "      <td>0.0</td>\n",
       "      <td>...</td>\n",
       "      <td>0.0</td>\n",
       "      <td>0.0</td>\n",
       "      <td>0.0</td>\n",
       "      <td>0.0</td>\n",
       "      <td>0.0</td>\n",
       "      <td>0.0</td>\n",
       "      <td>0.0</td>\n",
       "      <td>0.0</td>\n",
       "      <td>0.0</td>\n",
       "      <td>0.0</td>\n",
       "    </tr>\n",
       "    <tr>\n",
       "      <th>2</th>\n",
       "      <td>0.0</td>\n",
       "      <td>0.0</td>\n",
       "      <td>0.0</td>\n",
       "      <td>0.0</td>\n",
       "      <td>0.0</td>\n",
       "      <td>0.0</td>\n",
       "      <td>0.0</td>\n",
       "      <td>0.0</td>\n",
       "      <td>0.0</td>\n",
       "      <td>0.0</td>\n",
       "      <td>...</td>\n",
       "      <td>0.0</td>\n",
       "      <td>0.0</td>\n",
       "      <td>0.0</td>\n",
       "      <td>0.0</td>\n",
       "      <td>0.0</td>\n",
       "      <td>0.0</td>\n",
       "      <td>0.0</td>\n",
       "      <td>0.0</td>\n",
       "      <td>0.0</td>\n",
       "      <td>0.0</td>\n",
       "    </tr>\n",
       "    <tr>\n",
       "      <th>3</th>\n",
       "      <td>0.0</td>\n",
       "      <td>0.0</td>\n",
       "      <td>0.0</td>\n",
       "      <td>0.0</td>\n",
       "      <td>0.0</td>\n",
       "      <td>0.0</td>\n",
       "      <td>0.0</td>\n",
       "      <td>0.0</td>\n",
       "      <td>0.0</td>\n",
       "      <td>0.0</td>\n",
       "      <td>...</td>\n",
       "      <td>0.0</td>\n",
       "      <td>0.0</td>\n",
       "      <td>0.0</td>\n",
       "      <td>0.0</td>\n",
       "      <td>0.0</td>\n",
       "      <td>0.0</td>\n",
       "      <td>0.0</td>\n",
       "      <td>0.0</td>\n",
       "      <td>0.0</td>\n",
       "      <td>0.0</td>\n",
       "    </tr>\n",
       "    <tr>\n",
       "      <th>4</th>\n",
       "      <td>0.0</td>\n",
       "      <td>0.0</td>\n",
       "      <td>0.0</td>\n",
       "      <td>0.0</td>\n",
       "      <td>0.0</td>\n",
       "      <td>0.0</td>\n",
       "      <td>0.0</td>\n",
       "      <td>0.0</td>\n",
       "      <td>0.0</td>\n",
       "      <td>0.0</td>\n",
       "      <td>...</td>\n",
       "      <td>0.0</td>\n",
       "      <td>0.0</td>\n",
       "      <td>0.0</td>\n",
       "      <td>0.0</td>\n",
       "      <td>0.0</td>\n",
       "      <td>0.0</td>\n",
       "      <td>0.0</td>\n",
       "      <td>0.0</td>\n",
       "      <td>0.0</td>\n",
       "      <td>0.0</td>\n",
       "    </tr>\n",
       "    <tr>\n",
       "      <th>...</th>\n",
       "      <td>...</td>\n",
       "      <td>...</td>\n",
       "      <td>...</td>\n",
       "      <td>...</td>\n",
       "      <td>...</td>\n",
       "      <td>...</td>\n",
       "      <td>...</td>\n",
       "      <td>...</td>\n",
       "      <td>...</td>\n",
       "      <td>...</td>\n",
       "      <td>...</td>\n",
       "      <td>...</td>\n",
       "      <td>...</td>\n",
       "      <td>...</td>\n",
       "      <td>...</td>\n",
       "      <td>...</td>\n",
       "      <td>...</td>\n",
       "      <td>...</td>\n",
       "      <td>...</td>\n",
       "      <td>...</td>\n",
       "      <td>...</td>\n",
       "    </tr>\n",
       "    <tr>\n",
       "      <th>9995</th>\n",
       "      <td>0.0</td>\n",
       "      <td>0.0</td>\n",
       "      <td>0.0</td>\n",
       "      <td>0.0</td>\n",
       "      <td>0.0</td>\n",
       "      <td>0.0</td>\n",
       "      <td>0.0</td>\n",
       "      <td>0.0</td>\n",
       "      <td>0.0</td>\n",
       "      <td>0.0</td>\n",
       "      <td>...</td>\n",
       "      <td>0.0</td>\n",
       "      <td>0.0</td>\n",
       "      <td>0.0</td>\n",
       "      <td>0.0</td>\n",
       "      <td>0.0</td>\n",
       "      <td>0.0</td>\n",
       "      <td>0.0</td>\n",
       "      <td>0.0</td>\n",
       "      <td>0.0</td>\n",
       "      <td>0.0</td>\n",
       "    </tr>\n",
       "    <tr>\n",
       "      <th>9996</th>\n",
       "      <td>0.0</td>\n",
       "      <td>0.0</td>\n",
       "      <td>0.0</td>\n",
       "      <td>0.0</td>\n",
       "      <td>0.0</td>\n",
       "      <td>0.0</td>\n",
       "      <td>0.0</td>\n",
       "      <td>0.0</td>\n",
       "      <td>0.0</td>\n",
       "      <td>0.0</td>\n",
       "      <td>...</td>\n",
       "      <td>0.0</td>\n",
       "      <td>0.0</td>\n",
       "      <td>0.0</td>\n",
       "      <td>0.0</td>\n",
       "      <td>0.0</td>\n",
       "      <td>0.0</td>\n",
       "      <td>0.0</td>\n",
       "      <td>0.0</td>\n",
       "      <td>0.0</td>\n",
       "      <td>0.0</td>\n",
       "    </tr>\n",
       "    <tr>\n",
       "      <th>9997</th>\n",
       "      <td>0.0</td>\n",
       "      <td>0.0</td>\n",
       "      <td>0.0</td>\n",
       "      <td>0.0</td>\n",
       "      <td>0.0</td>\n",
       "      <td>0.0</td>\n",
       "      <td>0.0</td>\n",
       "      <td>0.0</td>\n",
       "      <td>0.0</td>\n",
       "      <td>0.0</td>\n",
       "      <td>...</td>\n",
       "      <td>0.0</td>\n",
       "      <td>0.0</td>\n",
       "      <td>0.0</td>\n",
       "      <td>0.0</td>\n",
       "      <td>0.0</td>\n",
       "      <td>0.0</td>\n",
       "      <td>0.0</td>\n",
       "      <td>0.0</td>\n",
       "      <td>0.0</td>\n",
       "      <td>0.0</td>\n",
       "    </tr>\n",
       "    <tr>\n",
       "      <th>9998</th>\n",
       "      <td>0.0</td>\n",
       "      <td>0.0</td>\n",
       "      <td>0.0</td>\n",
       "      <td>0.0</td>\n",
       "      <td>0.0</td>\n",
       "      <td>0.0</td>\n",
       "      <td>0.0</td>\n",
       "      <td>0.0</td>\n",
       "      <td>0.0</td>\n",
       "      <td>0.0</td>\n",
       "      <td>...</td>\n",
       "      <td>0.0</td>\n",
       "      <td>0.0</td>\n",
       "      <td>0.0</td>\n",
       "      <td>0.0</td>\n",
       "      <td>0.0</td>\n",
       "      <td>0.0</td>\n",
       "      <td>0.0</td>\n",
       "      <td>0.0</td>\n",
       "      <td>0.0</td>\n",
       "      <td>0.0</td>\n",
       "    </tr>\n",
       "    <tr>\n",
       "      <th>9999</th>\n",
       "      <td>0.0</td>\n",
       "      <td>0.0</td>\n",
       "      <td>0.0</td>\n",
       "      <td>0.0</td>\n",
       "      <td>0.0</td>\n",
       "      <td>0.0</td>\n",
       "      <td>0.0</td>\n",
       "      <td>0.0</td>\n",
       "      <td>0.0</td>\n",
       "      <td>0.0</td>\n",
       "      <td>...</td>\n",
       "      <td>0.0</td>\n",
       "      <td>0.0</td>\n",
       "      <td>0.0</td>\n",
       "      <td>0.0</td>\n",
       "      <td>0.0</td>\n",
       "      <td>0.0</td>\n",
       "      <td>0.0</td>\n",
       "      <td>0.0</td>\n",
       "      <td>0.0</td>\n",
       "      <td>0.0</td>\n",
       "    </tr>\n",
       "  </tbody>\n",
       "</table>\n",
       "<p>10000 rows × 784 columns</p>\n",
       "</div>"
      ],
      "text/plain": [
       "      0    1    2    3    4    5    6    7    8    9    ...  774  775  776  \\\n",
       "0     0.0  0.0  0.0  0.0  0.0  0.0  0.0  0.0  0.0  0.0  ...  0.0  0.0  0.0   \n",
       "1     0.0  0.0  0.0  0.0  0.0  0.0  0.0  0.0  0.0  0.0  ...  0.0  0.0  0.0   \n",
       "2     0.0  0.0  0.0  0.0  0.0  0.0  0.0  0.0  0.0  0.0  ...  0.0  0.0  0.0   \n",
       "3     0.0  0.0  0.0  0.0  0.0  0.0  0.0  0.0  0.0  0.0  ...  0.0  0.0  0.0   \n",
       "4     0.0  0.0  0.0  0.0  0.0  0.0  0.0  0.0  0.0  0.0  ...  0.0  0.0  0.0   \n",
       "...   ...  ...  ...  ...  ...  ...  ...  ...  ...  ...  ...  ...  ...  ...   \n",
       "9995  0.0  0.0  0.0  0.0  0.0  0.0  0.0  0.0  0.0  0.0  ...  0.0  0.0  0.0   \n",
       "9996  0.0  0.0  0.0  0.0  0.0  0.0  0.0  0.0  0.0  0.0  ...  0.0  0.0  0.0   \n",
       "9997  0.0  0.0  0.0  0.0  0.0  0.0  0.0  0.0  0.0  0.0  ...  0.0  0.0  0.0   \n",
       "9998  0.0  0.0  0.0  0.0  0.0  0.0  0.0  0.0  0.0  0.0  ...  0.0  0.0  0.0   \n",
       "9999  0.0  0.0  0.0  0.0  0.0  0.0  0.0  0.0  0.0  0.0  ...  0.0  0.0  0.0   \n",
       "\n",
       "      777  778  779  780  781  782  783  \n",
       "0     0.0  0.0  0.0  0.0  0.0  0.0  0.0  \n",
       "1     0.0  0.0  0.0  0.0  0.0  0.0  0.0  \n",
       "2     0.0  0.0  0.0  0.0  0.0  0.0  0.0  \n",
       "3     0.0  0.0  0.0  0.0  0.0  0.0  0.0  \n",
       "4     0.0  0.0  0.0  0.0  0.0  0.0  0.0  \n",
       "...   ...  ...  ...  ...  ...  ...  ...  \n",
       "9995  0.0  0.0  0.0  0.0  0.0  0.0  0.0  \n",
       "9996  0.0  0.0  0.0  0.0  0.0  0.0  0.0  \n",
       "9997  0.0  0.0  0.0  0.0  0.0  0.0  0.0  \n",
       "9998  0.0  0.0  0.0  0.0  0.0  0.0  0.0  \n",
       "9999  0.0  0.0  0.0  0.0  0.0  0.0  0.0  \n",
       "\n",
       "[10000 rows x 784 columns]"
      ]
     },
     "execution_count": 104,
     "metadata": {},
     "output_type": "execute_result"
    }
   ],
   "source": [
    "n=pd.DataFrame(X_new)\n",
    "n"
   ]
  },
  {
   "cell_type": "code",
   "execution_count": 4,
   "id": "6ab2a86e",
   "metadata": {},
   "outputs": [
    {
     "data": {
      "text/plain": [
       "(60000, 28, 28)"
      ]
     },
     "execution_count": 4,
     "metadata": {},
     "output_type": "execute_result"
    }
   ],
   "source": [
    "X_img=np.resize(X,(60000,28,28))\n",
    "X_img.shape"
   ]
  },
  {
   "cell_type": "markdown",
   "id": "f07e8442",
   "metadata": {},
   "source": [
    "## show Datos"
   ]
  },
  {
   "cell_type": "code",
   "execution_count": 5,
   "id": "61ad98e1",
   "metadata": {
    "scrolled": true
   },
   "outputs": [
    {
     "data": {
      "image/png": "[encoded data removed]",
      "text/plain": [
       "<Figure size 720x720 with 24 Axes>"
      ]
     },
     "metadata": {
      "needs_background": "light"
     },
     "output_type": "display_data"
    }
   ],
   "source": [
    "pos_inicial=500            # Seleccionar a partir de qué imagen queremos ver ésa y las  23 imágenes siguientes\n",
    "\n",
    "plt.figure(figsize = (10,10))               # tamaño de todo el plot\n",
    "plt.subplots_adjust(wspace=0.3, hspace=0.3) # para ajustar los espaciados entre cada subplot, como % del total\n",
    "\n",
    "for i in range(0,24):\n",
    "    # cargamos la imagen en cada subplot con imshow()\n",
    "    plt.subplot(4,6,i+1)\n",
    "    plt.imshow(X_img[pos_inicial+i], cmap='binary', vmin=0, vmax=255) \n",
    "    # Info sobre los mapas de color cmap: https://matplotlib.org/3.3.3/tutorials/colors/colormaps.html\n",
    "    plt.title(y[pos_inicial+i])         # obtenemos la clase desde y_clases\n",
    "\n",
    "plt.show()\n"
   ]
  },
  {
   "cell_type": "markdown",
   "id": "9234526d",
   "metadata": {},
   "source": [
    "El unico preprocesamiento que voy a hacer es Normalizar los datos"
   ]
  },
  {
   "cell_type": "code",
   "execution_count": 6,
   "id": "2a46e2c3",
   "metadata": {},
   "outputs": [],
   "source": [
    "X=pd.DataFrame(X)\n",
    "y=pd.DataFrame(y)"
   ]
  },
  {
   "cell_type": "code",
   "execution_count": 7,
   "id": "1c8bfe0f",
   "metadata": {},
   "outputs": [],
   "source": [
    "X = X / 255\n",
    "X_new = X_new / 255"
   ]
  },
  {
   "cell_type": "code",
   "execution_count": 8,
   "id": "247c1dcb",
   "metadata": {},
   "outputs": [],
   "source": [
    "X_train, X_test, y_train, y_test = train_test_split(X, y, test_size=0.2, random_state=123)\n",
    "X_val_train,X_val_test,y_val_train,y_val_test=train_test_split(X_train,y_train,test_size=0.20,random_state=123)\n",
    "  "
   ]
  },
  {
   "cell_type": "code",
   "execution_count": null,
   "id": "30170741",
   "metadata": {},
   "outputs": [],
   "source": [
    " "
   ]
  },
  {
   "cell_type": "markdown",
   "id": "6175564d",
   "metadata": {},
   "source": [
    "## Test con hyperband"
   ]
  },
  {
   "cell_type": "code",
   "execution_count": 9,
   "id": "209b93cb",
   "metadata": {},
   "outputs": [],
   "source": [
    "def crear_modelo(hp): \n",
    "    global modelo\n",
    "    # arquitectura:\n",
    "    modelo = Sequential()\n",
    "    \n",
    "    #cargamos la capa de entrada\n",
    "    modelo.add(keras.layers.Flatten(input_shape= (784,), name= \"Entrada\"))\n",
    "    \n",
    "    # cargamos los valores de los hiperparámetros\n",
    "    \n",
    "    hp_initializer=hp.Choice('kernel_initializer',values=['uniform','glorot_uniform','random_uniform','variance_scaling','truncated_normal'])\n",
    "    \n",
    "    hp_activation= hp.Choice( 'activation', values=['elu','selu', 'relu', 'swish','sigmoid','softmax'])\n",
    "    \n",
    "    hp_optimizer=hp.Choice('optimizer', values=['sgd','adam','adadelta','Adamax','RMSprop','Nadam'])\n",
    "    \n",
    "    hp_neuronas_1=hp.Int(name='units_1',min_value=10,max_value=50, step=2)\n",
    "    \n",
    "    hp_neuronas_2=hp.Int(name='units_2',min_value=10,max_value=50, step=1)\n",
    "    \n",
    "    # Ahora vamos con las hidden layers\n",
    "    modelo.add( keras.layers.Dense(units=hp_neuronas_1, kernel_initializer= hp_initializer, activation= hp_activation ))\n",
    "    \n",
    "    modelo.add( keras.layers.Dense(units=hp_neuronas_2, kernel_initializer= hp_initializer ,  activation= hp_activation ))\n",
    "    \n",
    "    # Capa de salida: observe que en la capa de salida pasamos el valor fijo de 'sigmoid' para activacion\n",
    "    modelo.add( keras.layers.Dense(units=len(np.unique(y_train)), kernel_initializer= hp_initializer , activation=\"softmax\", name=\"Salida\" )) \n",
    "    \n",
    "    # compilación:\n",
    "    modelo.compile(loss=\"sparse_categorical_crossentropy\" , optimizer= hp_optimizer , metrics=[ 'accuracy' ])\n",
    "\n",
    "    return modelo"
   ]
  },
  {
   "cell_type": "code",
   "execution_count": 10,
   "id": "36b9eecb",
   "metadata": {},
   "outputs": [
    {
     "name": "stdout",
     "output_type": "stream",
     "text": [
      "INFO:tensorflow:Reloading Oracle from existing project salida-hyperband\\MNIST_05\\oracle.json\n",
      "INFO:tensorflow:Reloading Tuner from salida-hyperband\\MNIST_05\\tuner0.json\n"
     ]
    }
   ],
   "source": [
    "tuner=kt.Hyperband(crear_modelo,\n",
    "                     objective = 'val_accuracy', \n",
    "                     max_epochs = 50,\n",
    "                     factor = 10,\n",
    "                     directory = 'salida-hyperband',\n",
    "                     project_name = 'MNIST_05')  # OJO CAMBIAR NOMBRE DE ARCHIVO EN CADA CORRIDA\n",
    "\n",
    "# Nota: los directorios y project_name los crea automáticamente, \n",
    "# PERO CUIDAR QUE EL NOMBRE DEL ARCHIVO NO EXISTA PREVIAMENTE"
   ]
  },
  {
   "cell_type": "code",
   "execution_count": 11,
   "id": "fc489e41",
   "metadata": {},
   "outputs": [],
   "source": [
    " class ClearTrainingOutput(tf.keras.callbacks.Callback):\n",
    "    def on_train_end(*args, **kwargs):\n",
    "        IPython.display.clear_output(wait = True)"
   ]
  },
  {
   "cell_type": "code",
   "execution_count": 12,
   "id": "6aad5937",
   "metadata": {},
   "outputs": [
    {
     "name": "stdout",
     "output_type": "stream",
     "text": [
      "Trial 131 Complete [00h 06m 32s]\n",
      "val_accuracy: 0.981333315372467\n",
      "\n",
      "Best val_accuracy So Far: 0.9828333258628845\n",
      "Total elapsed time: 00h 10m 15s\n",
      "INFO:tensorflow:Oracle triggered exit\n"
     ]
    }
   ],
   "source": [
    " tuner.search(X_train, y_train, epochs = 50\n",
    "             ,validation_data = (X_test, y_test)) \n",
    "             #,callbacks = [ClearTrainingOutput()])"
   ]
  },
  {
   "cell_type": "code",
   "execution_count": 13,
   "id": "06f9f075",
   "metadata": {},
   "outputs": [],
   "source": [
    "mejores_hiperparametros = tuner.get_best_hyperparameters(num_trials = 1)[0]"
   ]
  },
  {
   "cell_type": "code",
   "execution_count": 14,
   "id": "fd59a0e0",
   "metadata": {},
   "outputs": [
    {
     "data": {
      "text/plain": [
       "'random_uniform'"
      ]
     },
     "execution_count": 14,
     "metadata": {},
     "output_type": "execute_result"
    }
   ],
   "source": [
    "mejores_hiperparametros.get('kernel_initializer')"
   ]
  },
  {
   "cell_type": "code",
   "execution_count": 15,
   "id": "235bc695",
   "metadata": {},
   "outputs": [
    {
     "data": {
      "text/plain": [
       "'relu'"
      ]
     },
     "execution_count": 15,
     "metadata": {},
     "output_type": "execute_result"
    }
   ],
   "source": [
    "mejores_hiperparametros.get('activation')"
   ]
  },
  {
   "cell_type": "code",
   "execution_count": 16,
   "id": "2ef95f99",
   "metadata": {},
   "outputs": [
    {
     "data": {
      "text/plain": [
       "'Nadam'"
      ]
     },
     "execution_count": 16,
     "metadata": {},
     "output_type": "execute_result"
    }
   ],
   "source": [
    "mejores_hiperparametros.get('optimizer')  "
   ]
  },
  {
   "cell_type": "code",
   "execution_count": 17,
   "id": "2f3b08a7",
   "metadata": {},
   "outputs": [
    {
     "data": {
      "text/plain": [
       "402"
      ]
     },
     "execution_count": 17,
     "metadata": {},
     "output_type": "execute_result"
    }
   ],
   "source": [
    "mejores_hiperparametros.get('units_1')"
   ]
  },
  {
   "cell_type": "code",
   "execution_count": 18,
   "id": "45b887b0",
   "metadata": {},
   "outputs": [
    {
     "data": {
      "text/plain": [
       "403"
      ]
     },
     "execution_count": 18,
     "metadata": {},
     "output_type": "execute_result"
    }
   ],
   "source": [
    "mejores_hiperparametros.get('units_2')"
   ]
  },
  {
   "cell_type": "markdown",
   "id": "ab3117e6",
   "metadata": {},
   "source": [
    "keras.layers.Flatten sirve para poner una fila al lado de la otra para poder pasarlo por la red neurobal ya que en forma matricial no se podria"
   ]
  },
  {
   "cell_type": "markdown",
   "id": "bf70772d",
   "metadata": {},
   "source": [
    "Ahora volvemos a crean rnn pero con los mejores hiperparametros"
   ]
  },
  {
   "cell_type": "code",
   "execution_count": 23,
   "id": "f4fbfd18",
   "metadata": {},
   "outputs": [
    {
     "name": "stdout",
     "output_type": "stream",
     "text": [
      "Epoch 1/50\n",
      "1500/1500 [==============================] - 10s 6ms/step - loss: 0.2152 - accuracy: 0.9351 - val_loss: 0.1158 - val_accuracy: 0.9672\n",
      "Epoch 2/50\n",
      "1500/1500 [==============================] - 9s 6ms/step - loss: 0.0870 - accuracy: 0.9722 - val_loss: 0.1000 - val_accuracy: 0.9707\n",
      "Epoch 3/50\n",
      "1500/1500 [==============================] - 9s 6ms/step - loss: 0.0581 - accuracy: 0.9809 - val_loss: 0.0940 - val_accuracy: 0.9735\n",
      "Epoch 4/50\n",
      "1500/1500 [==============================] - 9s 6ms/step - loss: 0.0440 - accuracy: 0.9859 - val_loss: 0.1073 - val_accuracy: 0.9717\n",
      "Epoch 5/50\n",
      "1500/1500 [==============================] - 9s 6ms/step - loss: 0.0360 - accuracy: 0.9880 - val_loss: 0.0969 - val_accuracy: 0.9737\n",
      "Epoch 6/50\n",
      "1500/1500 [==============================] - 9s 6ms/step - loss: 0.0280 - accuracy: 0.9909 - val_loss: 0.1085 - val_accuracy: 0.9761\n",
      "Epoch 7/50\n",
      "1500/1500 [==============================] - 9s 6ms/step - loss: 0.0240 - accuracy: 0.9919 - val_loss: 0.0939 - val_accuracy: 0.9797\n",
      "Epoch 8/50\n",
      "1500/1500 [==============================] - 9s 6ms/step - loss: 0.0232 - accuracy: 0.9927 - val_loss: 0.0998 - val_accuracy: 0.9804\n",
      "Epoch 9/50\n",
      "1500/1500 [==============================] - 10s 7ms/step - loss: 0.0178 - accuracy: 0.9942 - val_loss: 0.1142 - val_accuracy: 0.9785\n",
      "Epoch 10/50\n",
      "1500/1500 [==============================] - 10s 7ms/step - loss: 0.0212 - accuracy: 0.9940 - val_loss: 0.1200 - val_accuracy: 0.9755\n",
      "Epoch 11/50\n",
      "1500/1500 [==============================] - 10s 6ms/step - loss: 0.0156 - accuracy: 0.9954 - val_loss: 0.1429 - val_accuracy: 0.9766\n",
      "Epoch 12/50\n",
      "1500/1500 [==============================] - 9s 6ms/step - loss: 0.0157 - accuracy: 0.9957 - val_loss: 0.1346 - val_accuracy: 0.9763\n",
      "Epoch 13/50\n",
      "1500/1500 [==============================] - 9s 6ms/step - loss: 0.0146 - accuracy: 0.9960 - val_loss: 0.1355 - val_accuracy: 0.9769\n",
      "Epoch 14/50\n",
      "1500/1500 [==============================] - 9s 6ms/step - loss: 0.0137 - accuracy: 0.9958 - val_loss: 0.1331 - val_accuracy: 0.9795\n",
      "Epoch 15/50\n",
      "1500/1500 [==============================] - 10s 6ms/step - loss: 0.0148 - accuracy: 0.9955 - val_loss: 0.1256 - val_accuracy: 0.9795\n",
      "Epoch 16/50\n",
      "1500/1500 [==============================] - 10s 7ms/step - loss: 0.0125 - accuracy: 0.9965 - val_loss: 0.1359 - val_accuracy: 0.9794\n",
      "Epoch 17/50\n",
      "1500/1500 [==============================] - 10s 7ms/step - loss: 0.0110 - accuracy: 0.9969 - val_loss: 0.1616 - val_accuracy: 0.9776\n",
      "Epoch 18/50\n",
      "1500/1500 [==============================] - 9s 6ms/step - loss: 0.0122 - accuracy: 0.9963 - val_loss: 0.1400 - val_accuracy: 0.9801\n",
      "Epoch 19/50\n",
      "1500/1500 [==============================] - 9s 6ms/step - loss: 0.0085 - accuracy: 0.9975 - val_loss: 0.1537 - val_accuracy: 0.9805\n",
      "Epoch 20/50\n",
      "1500/1500 [==============================] - 9s 6ms/step - loss: 0.0142 - accuracy: 0.9960 - val_loss: 0.1822 - val_accuracy: 0.9747\n",
      "Epoch 21/50\n",
      "1500/1500 [==============================] - 9s 6ms/step - loss: 0.0134 - accuracy: 0.9964 - val_loss: 0.1680 - val_accuracy: 0.9789\n",
      "Epoch 22/50\n",
      "1500/1500 [==============================] - 9s 6ms/step - loss: 0.0080 - accuracy: 0.9977 - val_loss: 0.1549 - val_accuracy: 0.9794\n",
      "Epoch 23/50\n",
      "1500/1500 [==============================] - 9s 6ms/step - loss: 0.0069 - accuracy: 0.9983 - val_loss: 0.1707 - val_accuracy: 0.9803\n",
      "Epoch 24/50\n",
      "1500/1500 [==============================] - 9s 6ms/step - loss: 0.0138 - accuracy: 0.9970 - val_loss: 0.1935 - val_accuracy: 0.9772\n",
      "Epoch 25/50\n",
      "1500/1500 [==============================] - 9s 6ms/step - loss: 0.0122 - accuracy: 0.9974 - val_loss: 0.1615 - val_accuracy: 0.9810\n",
      "Epoch 26/50\n",
      "1500/1500 [==============================] - 9s 6ms/step - loss: 0.0074 - accuracy: 0.9977 - val_loss: 0.1698 - val_accuracy: 0.9817\n",
      "Epoch 27/50\n",
      "1500/1500 [==============================] - 9s 6ms/step - loss: 0.0073 - accuracy: 0.9979 - val_loss: 0.1649 - val_accuracy: 0.9819\n",
      "Epoch 28/50\n",
      "1500/1500 [==============================] - 9s 6ms/step - loss: 0.0127 - accuracy: 0.9970 - val_loss: 0.2104 - val_accuracy: 0.9778\n",
      "Epoch 29/50\n",
      "1500/1500 [==============================] - 9s 6ms/step - loss: 0.0099 - accuracy: 0.9974 - val_loss: 0.1894 - val_accuracy: 0.9812\n",
      "Epoch 30/50\n",
      "1500/1500 [==============================] - 9s 6ms/step - loss: 0.0088 - accuracy: 0.9979 - val_loss: 0.2471 - val_accuracy: 0.9751\n",
      "Epoch 31/50\n",
      "1500/1500 [==============================] - 9s 6ms/step - loss: 0.0096 - accuracy: 0.9980 - val_loss: 0.2065 - val_accuracy: 0.9798\n",
      "Epoch 32/50\n",
      "1500/1500 [==============================] - 9s 6ms/step - loss: 0.0069 - accuracy: 0.9984 - val_loss: 0.2093 - val_accuracy: 0.9779\n",
      "Epoch 33/50\n",
      "1500/1500 [==============================] - 9s 6ms/step - loss: 0.0123 - accuracy: 0.9975 - val_loss: 0.2064 - val_accuracy: 0.9811\n",
      "Epoch 34/50\n",
      "1500/1500 [==============================] - 9s 6ms/step - loss: 0.0067 - accuracy: 0.9985 - val_loss: 0.1967 - val_accuracy: 0.9812\n",
      "Epoch 35/50\n",
      "1500/1500 [==============================] - 9s 6ms/step - loss: 0.0097 - accuracy: 0.9981 - val_loss: 0.2395 - val_accuracy: 0.9772\n",
      "Epoch 36/50\n",
      "1500/1500 [==============================] - 9s 6ms/step - loss: 0.0086 - accuracy: 0.9980 - val_loss: 0.2407 - val_accuracy: 0.9781\n",
      "Epoch 37/50\n",
      "1500/1500 [==============================] - 9s 6ms/step - loss: 0.0070 - accuracy: 0.9983 - val_loss: 0.2072 - val_accuracy: 0.9809\n",
      "Epoch 38/50\n",
      "1500/1500 [==============================] - 9s 6ms/step - loss: 0.0061 - accuracy: 0.9987 - val_loss: 0.2359 - val_accuracy: 0.9808\n",
      "Epoch 39/50\n",
      "1500/1500 [==============================] - 9s 6ms/step - loss: 0.0103 - accuracy: 0.9975 - val_loss: 0.2540 - val_accuracy: 0.9797\n",
      "Epoch 40/50\n",
      "1500/1500 [==============================] - 9s 6ms/step - loss: 0.0060 - accuracy: 0.9986 - val_loss: 0.2913 - val_accuracy: 0.9779\n",
      "Epoch 41/50\n",
      "1500/1500 [==============================] - 9s 6ms/step - loss: 0.0053 - accuracy: 0.9987 - val_loss: 0.3034 - val_accuracy: 0.9787\n",
      "Epoch 42/50\n",
      "1500/1500 [==============================] - 9s 6ms/step - loss: 0.0123 - accuracy: 0.9976 - val_loss: 0.2405 - val_accuracy: 0.9796\n",
      "Epoch 43/50\n",
      "1500/1500 [==============================] - 9s 6ms/step - loss: 0.0060 - accuracy: 0.9985 - val_loss: 0.2507 - val_accuracy: 0.9790\n",
      "Epoch 44/50\n",
      "1500/1500 [==============================] - 9s 6ms/step - loss: 0.0123 - accuracy: 0.9975 - val_loss: 0.2778 - val_accuracy: 0.9781\n",
      "Epoch 45/50\n",
      "1500/1500 [==============================] - 9s 6ms/step - loss: 0.0062 - accuracy: 0.9989 - val_loss: 0.2882 - val_accuracy: 0.9820\n",
      "Epoch 46/50\n",
      "1500/1500 [==============================] - 9s 6ms/step - loss: 0.0091 - accuracy: 0.9982 - val_loss: 0.2959 - val_accuracy: 0.9799\n",
      "Epoch 47/50\n",
      "1500/1500 [==============================] - 9s 6ms/step - loss: 0.0095 - accuracy: 0.9985 - val_loss: 0.2798 - val_accuracy: 0.9800\n",
      "Epoch 48/50\n",
      "1500/1500 [==============================] - 9s 6ms/step - loss: 0.0071 - accuracy: 0.9988 - val_loss: 0.2852 - val_accuracy: 0.9800\n",
      "Epoch 49/50\n",
      "1500/1500 [==============================] - 9s 6ms/step - loss: 0.0090 - accuracy: 0.9981 - val_loss: 0.2703 - val_accuracy: 0.9813\n",
      "Epoch 50/50\n",
      "1500/1500 [==============================] - 9s 6ms/step - loss: 0.0064 - accuracy: 0.9985 - val_loss: 0.2514 - val_accuracy: 0.9801\n"
     ]
    },
    {
     "data": {
      "text/plain": [
       "<keras.callbacks.History at 0x1ebf6a826b0>"
      ]
     },
     "execution_count": 23,
     "metadata": {},
     "output_type": "execute_result"
    }
   ],
   "source": [
    "modelo1 = tuner.hypermodel.build(mejores_hiperparametros)\n",
    "modelo1.fit(X_train, y_train, epochs = 50, \n",
    "             validation_data = (X_test, y_test))"
   ]
  },
  {
   "cell_type": "markdown",
   "id": "bcd3b276",
   "metadata": {},
   "source": [
    "## Lo que se espera en la vida real"
   ]
  },
  {
   "cell_type": "code",
   "execution_count": 31,
   "id": "d515b135",
   "metadata": {},
   "outputs": [],
   "source": [
    "history= pd.DataFrame(modelo1.history.history)\n",
    "array_history2=np.array(history)"
   ]
  },
  {
   "cell_type": "code",
   "execution_count": 36,
   "id": "d7027362",
   "metadata": {},
   "outputs": [
    {
     "data": {
      "image/png": "[encoded data removed]",
      "text/plain": [
       "<Figure size 720x504 with 1 Axes>"
      ]
     },
     "metadata": {
      "needs_background": "light"
     },
     "output_type": "display_data"
    }
   ],
   "source": [
    "history.plot(figsize=(10, 7),grid=True, title=\"Learning Curves\",ylim=(0,1.2));"
   ]
  },
  {
   "cell_type": "markdown",
   "id": "dc6c955d",
   "metadata": {},
   "source": [
    "## produccion"
   ]
  },
  {
   "cell_type": "markdown",
   "id": "e92f1745",
   "metadata": {},
   "source": [
    " Entrenamos con todos los datos"
   ]
  },
  {
   "cell_type": "code",
   "execution_count": 38,
   "id": "a5cec95b",
   "metadata": {
    "scrolled": true
   },
   "outputs": [
    {
     "name": "stdout",
     "output_type": "stream",
     "text": [
      "Epoch 1/18\n",
      "1875/1875 [==============================] - 11s 6ms/step - loss: 0.0885 - accuracy: 0.9934\n",
      "Epoch 2/18\n",
      "1875/1875 [==============================] - 13s 7ms/step - loss: 0.0152 - accuracy: 0.9971\n",
      "Epoch 3/18\n",
      "1875/1875 [==============================] - 12s 6ms/step - loss: 0.0088 - accuracy: 0.9981\n",
      "Epoch 4/18\n",
      "1875/1875 [==============================] - 11s 6ms/step - loss: 0.0115 - accuracy: 0.9980\n",
      "Epoch 5/18\n",
      "1875/1875 [==============================] - 10s 6ms/step - loss: 0.0100 - accuracy: 0.9982\n",
      "Epoch 6/18\n",
      "1875/1875 [==============================] - 10s 6ms/step - loss: 0.0083 - accuracy: 0.9984\n",
      "Epoch 7/18\n",
      "1875/1875 [==============================] - 10s 5ms/step - loss: 0.0098 - accuracy: 0.9986\n",
      "Epoch 8/18\n",
      "1875/1875 [==============================] - 11s 6ms/step - loss: 0.0085 - accuracy: 0.9985\n",
      "Epoch 9/18\n",
      "1875/1875 [==============================] - 11s 6ms/step - loss: 0.0125 - accuracy: 0.9979\n",
      "Epoch 10/18\n",
      "1875/1875 [==============================] - 10s 5ms/step - loss: 0.0043 - accuracy: 0.9990\n",
      "Epoch 11/18\n",
      "1875/1875 [==============================] - 10s 6ms/step - loss: 0.0082 - accuracy: 0.9984\n",
      "Epoch 12/18\n",
      "1875/1875 [==============================] - 10s 6ms/step - loss: 0.0112 - accuracy: 0.9985\n",
      "Epoch 13/18\n",
      "1875/1875 [==============================] - 10s 5ms/step - loss: 0.0075 - accuracy: 0.9989\n",
      "Epoch 14/18\n",
      "1875/1875 [==============================] - 10s 6ms/step - loss: 0.0076 - accuracy: 0.9988\n",
      "Epoch 15/18\n",
      "1875/1875 [==============================] - 10s 6ms/step - loss: 0.0083 - accuracy: 0.9987\n",
      "Epoch 16/18\n",
      "1875/1875 [==============================] - 10s 5ms/step - loss: 0.0054 - accuracy: 0.9988\n",
      "Epoch 17/18\n",
      "1875/1875 [==============================] - 10s 6ms/step - loss: 0.0124 - accuracy: 0.9984\n",
      "Epoch 18/18\n",
      "1875/1875 [==============================] - 10s 6ms/step - loss: 0.0089 - accuracy: 0.9987\n"
     ]
    },
    {
     "data": {
      "text/plain": [
       "<keras.callbacks.History at 0x1ec2ee1b6a0>"
      ]
     },
     "execution_count": 38,
     "metadata": {},
     "output_type": "execute_result"
    }
   ],
   "source": [
    "modelo1.fit(X,y,epochs=18)"
   ]
  },
  {
   "cell_type": "markdown",
   "id": "20a097ad",
   "metadata": {},
   "source": [
    "guardamos el modelo"
   ]
  },
  {
   "cell_type": "code",
   "execution_count": 119,
   "id": "a89de44a",
   "metadata": {},
   "outputs": [],
   "source": [
    "modelo1.save(\"mnist_trained_99.h5\")"
   ]
  },
  {
   "cell_type": "code",
   "execution_count": null,
   "id": "0c0fcd55",
   "metadata": {},
   "outputs": [],
   "source": [
    "#import joblib\n",
    "#joblib.dump(modelo2,\"rnn_minist.pkl\")\n",
    " \n",
    "#tf.saved_model.save(modelo2, \"rnn\")\n",
    "#modelo2.save_weights(\"my_model.h5\")"
   ]
  },
  {
   "cell_type": "code",
   "execution_count": null,
   "id": "d29e4252",
   "metadata": {},
   "outputs": [],
   "source": []
  }
 ],
 "metadata": {
  "kernelspec": {
   "display_name": "Python 3 (ipykernel)",
   "language": "python",
   "name": "python3"
  },
  "language_info": {
   "codemirror_mode": {
    "name": "ipython",
    "version": 3
   },
   "file_extension": ".py",
   "mimetype": "text/x-python",
   "name": "python",
   "nbconvert_exporter": "python",
   "pygments_lexer": "ipython3",
   "version": "3.10.0"
  },
  "toc": {
   "base_numbering": 1,
   "nav_menu": {},
   "number_sections": true,
   "sideBar": true,
   "skip_h1_title": false,
   "title_cell": "Table of Contents",
   "title_sidebar": "Contents",
   "toc_cell": false,
   "toc_position": {},
   "toc_section_display": true,
   "toc_window_display": false
  }
 },
 "nbformat": 4,
 "nbformat_minor": 5
}
