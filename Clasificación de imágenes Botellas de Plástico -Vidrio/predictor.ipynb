{
 "cells": [
  {
   "cell_type": "markdown",
   "id": "096fae60",
   "metadata": {},
   "source": [
    "# Predictor  "
   ]
  },
  {
   "cell_type": "code",
   "execution_count": 92,
   "id": "bccde5e6",
   "metadata": {
    "ExecuteTime": {
     "end_time": "2022-11-09T14:38:26.136559Z",
     "start_time": "2022-11-09T14:38:25.596561Z"
    }
   },
   "outputs": [],
   "source": [
    "import numpy as np\n",
    "from keras.models import load_model\n",
    "from tensorflow.keras.utils import load_img,img_to_array\n",
    "longitud, altura = 150, 150\n",
    "modelo = './modelo/modelo.h5'\n",
    "pesos_modelo = './modelo/pesos.h5'\n",
    "cnn = load_model(modelo)\n",
    "cnn.load_weights(pesos_modelo)\n"
   ]
  },
  {
   "cell_type": "code",
   "execution_count": 98,
   "id": "4bb83653",
   "metadata": {
    "ExecuteTime": {
     "end_time": "2022-11-09T14:39:56.258420Z",
     "start_time": "2022-11-09T14:39:56.239421Z"
    },
    "run_control": {
     "marked": true
    }
   },
   "outputs": [],
   "source": [
    "\n",
    "def predict(file):\n",
    "  x = load_img(file, target_size=(longitud, altura))\n",
    "  x = img_to_array(x)\n",
    "  x = np.expand_dims(x, axis=0)\n",
    "  array = cnn.predict(x)\n",
    "  result = array[0]\n",
    "  answer = np.argmax(result)\n",
    "  if answer == 0:\n",
    "    print(\"--Prediccion: Plastico\")\n",
    "  elif answer == 1:\n",
    "    print(\"--Prediccion: Vidrio\")\n",
    " \n",
    "\n",
    "  return answer"
   ]
  },
  {
   "cell_type": "code",
   "execution_count": null,
   "id": "21df04c1",
   "metadata": {
    "ExecuteTime": {
     "end_time": "2022-11-09T14:36:01.194304Z",
     "start_time": "2022-11-09T14:36:01.147306Z"
    }
   },
   "outputs": [],
   "source": [
    " "
   ]
  },
  {
   "cell_type": "code",
   "execution_count": 94,
   "id": "cab99db0",
   "metadata": {
    "ExecuteTime": {
     "end_time": "2022-11-09T14:38:26.168561Z",
     "start_time": "2022-11-09T14:38:26.153560Z"
    }
   },
   "outputs": [],
   "source": [
    "#CARGAMOS TODOS LOS ARCHIVOS DE LA CARPETA QUE CONTIENE LAS IMAGENES CRUDAS\n",
    "file_list = []\n",
    "import os\n",
    "for dirname, _, filenames in os.walk('./test'):\n",
    "    for filename in filenames:\n",
    "        file_list.append(os.path.join(dirname, filename))"
   ]
  },
  {
   "cell_type": "markdown",
   "id": "276e0d95",
   "metadata": {},
   "source": [
    "# Nombres de las fotos"
   ]
  },
  {
   "cell_type": "code",
   "execution_count": 95,
   "id": "8731a239",
   "metadata": {
    "ExecuteTime": {
     "end_time": "2022-11-09T14:38:26.183562Z",
     "start_time": "2022-11-09T14:38:26.169560Z"
    },
    "scrolled": true
   },
   "outputs": [
    {
     "data": {
      "text/plain": [
       "['./test\\\\plastico (1).jpg',\n",
       " './test\\\\plastico (2).jpg',\n",
       " './test\\\\plastico (3).jpg',\n",
       " './test\\\\plastico 4.jpg',\n",
       " './test\\\\plastico5.jpg',\n",
       " './test\\\\vidrio.png',\n",
       " './test\\\\vidrio1.jpg',\n",
       " './test\\\\vidrio2.jpg',\n",
       " './test\\\\vidrio3.jpg',\n",
       " './test\\\\vidrio4.jpg']"
      ]
     },
     "execution_count": 95,
     "metadata": {},
     "output_type": "execute_result"
    }
   ],
   "source": [
    "file_list"
   ]
  },
  {
   "cell_type": "markdown",
   "id": "e741bc42",
   "metadata": {},
   "source": [
    "# Resultados"
   ]
  },
  {
   "cell_type": "code",
   "execution_count": 99,
   "id": "86e00f18",
   "metadata": {
    "ExecuteTime": {
     "end_time": "2022-11-09T14:40:37.850991Z",
     "start_time": "2022-11-09T14:40:37.346993Z"
    }
   },
   "outputs": [
    {
     "name": "stdout",
     "output_type": "stream",
     "text": [
      "1/1 [==============================] - 0s 29ms/step\n",
      "--Prediccion: Plastico\n",
      "Imagen original: ./test\\plastico (1).jpg\n",
      "\n",
      "1/1 [==============================] - 0s 24ms/step\n",
      "--Prediccion: Plastico\n",
      "Imagen original: ./test\\plastico (2).jpg\n",
      "\n",
      "1/1 [==============================] - 0s 24ms/step\n",
      "--Prediccion: Plastico\n",
      "Imagen original: ./test\\plastico (3).jpg\n",
      "\n",
      "1/1 [==============================] - 0s 24ms/step\n",
      "--Prediccion: Plastico\n",
      "Imagen original: ./test\\plastico 4.jpg\n",
      "\n",
      "1/1 [==============================] - 0s 25ms/step\n",
      "--Prediccion: Plastico\n",
      "Imagen original: ./test\\plastico5.jpg\n",
      "\n",
      "1/1 [==============================] - 0s 25ms/step\n",
      "--Prediccion: Vidrio\n",
      "Imagen original: ./test\\vidrio.png\n",
      "\n",
      "1/1 [==============================] - 0s 24ms/step\n",
      "--Prediccion: Plastico\n",
      "Imagen original: ./test\\vidrio1.jpg\n",
      "\n",
      "1/1 [==============================] - 0s 24ms/step\n",
      "--Prediccion: Vidrio\n",
      "Imagen original: ./test\\vidrio2.jpg\n",
      "\n",
      "1/1 [==============================] - 0s 24ms/step\n",
      "--Prediccion: Vidrio\n",
      "Imagen original: ./test\\vidrio3.jpg\n",
      "\n",
      "1/1 [==============================] - 0s 24ms/step\n",
      "--Prediccion: Vidrio\n",
      "Imagen original: ./test\\vidrio4.jpg\n",
      "\n"
     ]
    }
   ],
   "source": [
    "\n",
    "for i in file_list:\n",
    "    predict(i)\n",
    "    print(\"Imagen original: \"+i)\n",
    "    print()"
   ]
  }
 ],
 "metadata": {
  "kernelspec": {
   "display_name": "Python 3 (ipykernel)",
   "language": "python",
   "name": "python3"
  },
  "language_info": {
   "codemirror_mode": {
    "name": "ipython",
    "version": 3
   },
   "file_extension": ".py",
   "mimetype": "text/x-python",
   "name": "python",
   "nbconvert_exporter": "python",
   "pygments_lexer": "ipython3",
   "version": "3.9.16"
  },
  "toc": {
   "base_numbering": 1,
   "nav_menu": {},
   "number_sections": true,
   "sideBar": true,
   "skip_h1_title": false,
   "title_cell": "Table of Contents",
   "title_sidebar": "Contents",
   "toc_cell": false,
   "toc_position": {},
   "toc_section_display": true,
   "toc_window_display": false
  }
 },
 "nbformat": 4,
 "nbformat_minor": 5
}
