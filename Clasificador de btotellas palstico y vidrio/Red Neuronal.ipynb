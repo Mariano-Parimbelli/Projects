{
 "cells": [
  {
   "cell_type": "markdown",
   "id": "67e1a0dd",
   "metadata": {
    "code_folding": []
   },
   "source": [
    "## Clasificación de botellas de vidrio y de plastico"
   ]
  },
  {
   "cell_type": "code",
   "execution_count": 1,
   "id": "9966dca8",
   "metadata": {
    "ExecuteTime": {
     "end_time": "2022-11-09T12:12:16.932590Z",
     "start_time": "2022-11-09T12:12:12.189114Z"
    }
   },
   "outputs": [],
   "source": [
    "import sys\n",
    "import os\n",
    "import tensorflow as tf\n",
    "from tensorflow.keras.preprocessing.image import ImageDataGenerator\n",
    "#from tensorflow.python.keras.preprocessing.image import ImageDataGenerator\n",
    "from tensorflow.python.keras import optimizers\n",
    "from tensorflow.python.keras.models import Sequential\n",
    "from tensorflow.python.keras.layers import Dropout, Flatten, Dense, Activation\n",
    "from tensorflow.python.keras.layers import  Convolution2D, MaxPooling2D\n",
    "from tensorflow.python.keras import backend as K\n",
    "import pandas as pd\n",
    "import numpy as np"
   ]
  },
  {
   "cell_type": "markdown",
   "id": "a4ec7eb7",
   "metadata": {},
   "source": [
    "## Importamos los datos"
   ]
  },
  {
   "cell_type": "code",
   "execution_count": 10,
   "id": "8f82f2c8",
   "metadata": {
    "ExecuteTime": {
     "end_time": "2022-11-09T12:25:39.488582Z",
     "start_time": "2022-11-09T12:25:39.482581Z"
    }
   },
   "outputs": [],
   "source": [
    "K.clear_session()\n",
    "data_entrenamiento = './data/entrenamiento' #Cargamos data de entrenamiento\n",
    "data_validacion = './data/validacion' # #Cargamos data para testear\n",
    "todos_datos='./data/todo'\n",
    "\n",
    " \n",
    "# Parametros de la red\n",
    " \n",
    "epocas=10 \n",
    "longitud, altura = 150, 150\n",
    "batch_size = 32\n",
    "pasos = 500\n",
    "validation_steps = 300\n",
    "filtrosConv1 = 32 # filtros que aplicamos en cada convolucion  desp de 1ra cambia la prof a 64\n",
    "filtrosConv2 = 64 # filtros que aplicamos en cada convolucion \n",
    "tamano_filtro1 = (3, 3) \n",
    "tamano_filtro2 = (2, 2)\n",
    "\n",
    "#El Max-Pooling es un proceso de discretización basado en muestras. (su papel es reducir el tamaño de las imágenes)\n",
    "tamano_pool = (2, 2)\n",
    "clases = 2 #cantidad de clases a entrenar\n",
    "lr = 0.0004 #learning rate\n"
   ]
  },
  {
   "cell_type": "markdown",
   "id": "05d2aae0",
   "metadata": {},
   "source": [
    "## Transformamos las imagenes"
   ]
  },
  {
   "cell_type": "code",
   "execution_count": 11,
   "id": "b8c63d27",
   "metadata": {
    "ExecuteTime": {
     "end_time": "2022-11-09T12:25:40.539579Z",
     "start_time": "2022-11-09T12:25:39.833581Z"
    }
   },
   "outputs": [
    {
     "name": "stdout",
     "output_type": "stream",
     "text": [
      "Found 8132 images belonging to 2 classes.\n",
      "Found 2000 images belonging to 2 classes.\n",
      "Found 10132 images belonging to 2 classes.\n"
     ]
    }
   ],
   "source": [
    "#Preparamos nuestras imagenes\n",
    "entrenamiento_datagen = ImageDataGenerator(\n",
    "    rescale=1. / 255, # los calores quedaran entre 0 y 1\n",
    "    shear_range=0.2, #  inclina las imagenes para variar\n",
    "    zoom_range=0.2, # algunas les hace zoom y otras no \n",
    "    horizontal_flip=True)# Toma imagen y la invierte para que la red aprenda direccionalidad)\n",
    "\n",
    "test_datagen = ImageDataGenerator(rescale=1. / 255) # datos de validacion solo rescalamos.\n",
    "\n",
    "\n",
    "\n",
    "entrenamiento_generador = entrenamiento_datagen.flow_from_directory(\n",
    "    data_entrenamiento,\n",
    "    target_size=(altura, longitud),\n",
    "    batch_size=batch_size, # tamaño del batch\n",
    "    class_mode='categorical') # categoria en vidrio y plastico\n",
    "\n",
    "\n",
    "\n",
    "validacion_generador = test_datagen.flow_from_directory(\n",
    "    data_validacion,\n",
    "    target_size=(altura, longitud),\n",
    "    batch_size=batch_size,\n",
    "    class_mode='categorical')\n",
    "\n",
    "\n",
    "all_data= test_datagen.flow_from_directory(\n",
    "    todos_datos,\n",
    "    target_size=(altura, longitud),\n",
    "    batch_size=batch_size,\n",
    "    class_mode='categorical')\n",
    "\n"
   ]
  },
  {
   "cell_type": "markdown",
   "id": "019bb4eb",
   "metadata": {},
   "source": [
    "creamos generador Nuestras imagenes son grandes (por ejemplo 500x500). En estos casos, intentar entrenar el modelo requiere de mucha memoria que no tenemos, por lo que es necesario dividir el proceso de entrenamiento en bloques (o batchs, en inglés)(en nuestro caso lo definimos en 32) de menor tamaño de imágenes.Para ello, Keras cuenta con la clase ImageDataGenerator, que nos permite generar dichos bloques, además de realizar la técnica llamada data augmentation."
   ]
  },
  {
   "cell_type": "markdown",
   "id": "eecfe3f6",
   "metadata": {},
   "source": [
    "## Creamos la Red"
   ]
  },
  {
   "cell_type": "code",
   "execution_count": 4,
   "id": "3f12a833",
   "metadata": {
    "scrolled": true
   },
   "outputs": [
    {
     "name": "stdout",
     "output_type": "stream",
     "text": [
      "FUNCION DE ACTIVACION: =======>  ['sigmoid']\n",
      "Epoch 1/10\n",
      "500/500 [==============================] - 217s 434ms/step - loss: 1.0019 - accuracy: 0.4982 - val_loss: 0.6933 - val_accuracy: 0.4980\n",
      "Epoch 2/10\n",
      "500/500 [==============================] - 216s 432ms/step - loss: 0.7044 - accuracy: 0.5012 - val_loss: 0.7025 - val_accuracy: 0.4975\n",
      "Epoch 3/10\n",
      "500/500 [==============================] - 218s 437ms/step - loss: 0.7001 - accuracy: 0.5009 - val_loss: 0.6933 - val_accuracy: 0.4993\n",
      "Epoch 4/10\n",
      "500/500 [==============================] - 216s 433ms/step - loss: 0.7004 - accuracy: 0.5028 - val_loss: 0.6949 - val_accuracy: 0.5003\n",
      "Epoch 5/10\n",
      "500/500 [==============================] - 216s 432ms/step - loss: 0.7002 - accuracy: 0.5048 - val_loss: 0.7055 - val_accuracy: 0.4998\n",
      "Epoch 6/10\n",
      "500/500 [==============================] - 219s 439ms/step - loss: 0.7011 - accuracy: 0.5041 - val_loss: 0.6933 - val_accuracy: 0.4996\n",
      "Epoch 7/10\n",
      "500/500 [==============================] - 223s 446ms/step - loss: 0.6995 - accuracy: 0.4980 - val_loss: 0.6948 - val_accuracy: 0.4992\n",
      "Epoch 8/10\n",
      "500/500 [==============================] - 220s 441ms/step - loss: 0.7020 - accuracy: 0.4933 - val_loss: 0.6935 - val_accuracy: 0.5023\n",
      "Epoch 9/10\n",
      "500/500 [==============================] - 219s 439ms/step - loss: 0.6996 - accuracy: 0.4999 - val_loss: 0.7089 - val_accuracy: 0.4981\n",
      "Epoch 10/10\n",
      "500/500 [==============================] - 216s 432ms/step - loss: 0.7003 - accuracy: 0.5015 - val_loss: 0.6948 - val_accuracy: 0.4991\n",
      "BEST AC 0.5023 --- VAL LOSS: 0.6933\n",
      "EPOCH: 7\n",
      "___________________________________________________________________________________\n",
      "FUNCION DE ACTIVACION: =======>  ['relu']\n",
      "Epoch 1/10\n",
      "500/500 [==============================] - 204s 408ms/step - loss: 0.4385 - accuracy: 0.8637 - val_loss: 0.2412 - val_accuracy: 0.9075\n",
      "Epoch 2/10\n",
      "500/500 [==============================] - 206s 413ms/step - loss: 0.1999 - accuracy: 0.9241 - val_loss: 0.1559 - val_accuracy: 0.9407\n",
      "Epoch 3/10\n",
      "500/500 [==============================] - 207s 414ms/step - loss: 0.1637 - accuracy: 0.9400 - val_loss: 0.1456 - val_accuracy: 0.9506\n",
      "Epoch 4/10\n",
      "500/500 [==============================] - 207s 413ms/step - loss: 0.1445 - accuracy: 0.9489 - val_loss: 0.0907 - val_accuracy: 0.9665\n",
      "Epoch 5/10\n",
      "500/500 [==============================] - 206s 413ms/step - loss: 0.1125 - accuracy: 0.9597 - val_loss: 0.0891 - val_accuracy: 0.9710\n",
      "Epoch 6/10\n",
      "500/500 [==============================] - 206s 412ms/step - loss: 0.1034 - accuracy: 0.9648 - val_loss: 0.0720 - val_accuracy: 0.9752\n",
      "Epoch 7/10\n",
      "500/500 [==============================] - 206s 412ms/step - loss: 0.0807 - accuracy: 0.9717 - val_loss: 0.1009 - val_accuracy: 0.9605\n",
      "Epoch 8/10\n",
      "500/500 [==============================] - 207s 413ms/step - loss: 0.0772 - accuracy: 0.9748 - val_loss: 0.0650 - val_accuracy: 0.9777\n",
      "Epoch 9/10\n",
      "500/500 [==============================] - 206s 413ms/step - loss: 0.0741 - accuracy: 0.9755 - val_loss: 0.0815 - val_accuracy: 0.9699\n",
      "Epoch 10/10\n",
      "500/500 [==============================] - 206s 412ms/step - loss: 0.0659 - accuracy: 0.9789 - val_loss: 0.0788 - val_accuracy: 0.9736\n",
      "BEST AC 0.9777 --- VAL LOSS: 0.0650\n",
      "EPOCH: 7\n",
      "___________________________________________________________________________________\n",
      "FUNCION DE ACTIVACION: =======>  ['selu']\n",
      "Epoch 1/10\n",
      "500/500 [==============================] - 220s 440ms/step - loss: 1.0718 - accuracy: 0.7689 - val_loss: 0.3985 - val_accuracy: 0.8465\n",
      "Epoch 2/10\n",
      "500/500 [==============================] - 219s 439ms/step - loss: 0.4033 - accuracy: 0.8408 - val_loss: 0.3105 - val_accuracy: 0.8775\n",
      "Epoch 3/10\n",
      "500/500 [==============================] - 209s 419ms/step - loss: 0.3069 - accuracy: 0.8702 - val_loss: 0.2345 - val_accuracy: 0.8978\n",
      "Epoch 4/10\n",
      "500/500 [==============================] - 208s 416ms/step - loss: 0.2637 - accuracy: 0.8867 - val_loss: 0.2044 - val_accuracy: 0.9222\n",
      "Epoch 5/10\n",
      "500/500 [==============================] - 208s 416ms/step - loss: 0.2522 - accuracy: 0.8961 - val_loss: 0.2088 - val_accuracy: 0.9171\n",
      "Epoch 6/10\n",
      "500/500 [==============================] - 212s 424ms/step - loss: 0.2443 - accuracy: 0.9020 - val_loss: 0.2208 - val_accuracy: 0.9059\n",
      "Epoch 7/10\n",
      "500/500 [==============================] - 220s 441ms/step - loss: 0.2384 - accuracy: 0.9039 - val_loss: 0.2389 - val_accuracy: 0.8904\n",
      "Epoch 8/10\n",
      "500/500 [==============================] - 221s 443ms/step - loss: 0.2178 - accuracy: 0.9142 - val_loss: 0.1845 - val_accuracy: 0.9266\n",
      "Epoch 9/10\n",
      "500/500 [==============================] - 219s 438ms/step - loss: 0.2291 - accuracy: 0.9079 - val_loss: 0.2460 - val_accuracy: 0.8888\n",
      "Epoch 10/10\n",
      "500/500 [==============================] - 219s 439ms/step - loss: 0.2099 - accuracy: 0.9156 - val_loss: 0.1877 - val_accuracy: 0.9287\n",
      "BEST AC 0.9287 --- VAL LOSS: 0.1845\n",
      "EPOCH: 9\n",
      "___________________________________________________________________________________\n",
      "FUNCION DE ACTIVACION: =======>  ['softmax']\n",
      "Epoch 1/10\n",
      "500/500 [==============================] - 250s 500ms/step - loss: 0.6472 - accuracy: 0.5898 - val_loss: 0.7306 - val_accuracy: 0.5013\n",
      "Epoch 2/10\n",
      "500/500 [==============================] - 249s 499ms/step - loss: 0.7026 - accuracy: 0.5001 - val_loss: 0.6935 - val_accuracy: 0.4999\n",
      "Epoch 3/10\n",
      "500/500 [==============================] - 250s 501ms/step - loss: 0.6574 - accuracy: 0.5662 - val_loss: 0.5944 - val_accuracy: 0.7148\n",
      "Epoch 4/10\n",
      "500/500 [==============================] - 244s 487ms/step - loss: 0.6687 - accuracy: 0.5856 - val_loss: 0.6768 - val_accuracy: 0.6001\n",
      "Epoch 5/10\n",
      "500/500 [==============================] - 244s 489ms/step - loss: 0.6510 - accuracy: 0.5842 - val_loss: 0.6210 - val_accuracy: 0.6756\n",
      "Epoch 6/10\n",
      "500/500 [==============================] - 243s 487ms/step - loss: 0.6569 - accuracy: 0.5966 - val_loss: 0.6118 - val_accuracy: 0.7181\n",
      "Epoch 7/10\n",
      "500/500 [==============================] - 244s 487ms/step - loss: 0.6300 - accuracy: 0.6070 - val_loss: 0.5887 - val_accuracy: 0.7362\n",
      "Epoch 8/10\n",
      "500/500 [==============================] - 244s 487ms/step - loss: 0.6138 - accuracy: 0.6254 - val_loss: 0.5944 - val_accuracy: 0.7206\n",
      "Epoch 9/10\n",
      "500/500 [==============================] - 244s 487ms/step - loss: 0.6337 - accuracy: 0.6093 - val_loss: 0.6196 - val_accuracy: 0.6210\n",
      "Epoch 10/10\n",
      "500/500 [==============================] - 243s 487ms/step - loss: 0.6069 - accuracy: 0.6323 - val_loss: 0.5477 - val_accuracy: 0.7708\n",
      "BEST AC 0.7708 --- VAL LOSS: 0.5477\n",
      "EPOCH: 9\n",
      "___________________________________________________________________________________\n",
      "FUNCION DE ACTIVACION: =======>  ['softplus']\n",
      "Epoch 1/10\n",
      "500/500 [==============================] - 222s 443ms/step - loss: 1.3530 - accuracy: 0.5032 - val_loss: 0.6932 - val_accuracy: 0.5005\n",
      "Epoch 2/10\n",
      "500/500 [==============================] - 222s 444ms/step - loss: 0.6932 - accuracy: 0.4938 - val_loss: 0.6932 - val_accuracy: 0.4983\n",
      "Epoch 3/10\n",
      "500/500 [==============================] - 222s 444ms/step - loss: 0.6932 - accuracy: 0.4999 - val_loss: 0.6933 - val_accuracy: 0.5004\n",
      "Epoch 4/10\n",
      "500/500 [==============================] - 222s 444ms/step - loss: 0.6932 - accuracy: 0.4955 - val_loss: 0.6932 - val_accuracy: 0.5025\n",
      "Epoch 5/10\n",
      "500/500 [==============================] - 222s 444ms/step - loss: 0.6932 - accuracy: 0.4924 - val_loss: 0.6931 - val_accuracy: 0.5015\n",
      "Epoch 6/10\n",
      "500/500 [==============================] - 223s 445ms/step - loss: 0.6932 - accuracy: 0.4952 - val_loss: 0.6931 - val_accuracy: 0.4998\n",
      "Epoch 7/10\n",
      "500/500 [==============================] - 223s 446ms/step - loss: 0.6932 - accuracy: 0.5018 - val_loss: 0.6932 - val_accuracy: 0.5007\n",
      "Epoch 8/10\n",
      "500/500 [==============================] - 222s 445ms/step - loss: 0.6932 - accuracy: 0.5002 - val_loss: 0.6932 - val_accuracy: 0.5006\n",
      "Epoch 9/10\n",
      "500/500 [==============================] - 222s 444ms/step - loss: 0.6932 - accuracy: 0.4966 - val_loss: 0.6931 - val_accuracy: 0.5003\n",
      "Epoch 10/10\n",
      "500/500 [==============================] - 222s 444ms/step - loss: 0.6932 - accuracy: 0.4992 - val_loss: 0.6931 - val_accuracy: 0.4992\n",
      "BEST AC 0.5025 --- VAL LOSS: 0.6931\n",
      "EPOCH: 3\n",
      "___________________________________________________________________________________\n",
      "FUNCION DE ACTIVACION: =======>  ['elu']\n",
      "Epoch 1/10\n",
      "500/500 [==============================] - 214s 428ms/step - loss: 0.8514 - accuracy: 0.7798 - val_loss: 0.3582 - val_accuracy: 0.8481\n",
      "Epoch 2/10\n",
      "500/500 [==============================] - 216s 431ms/step - loss: 0.3745 - accuracy: 0.8432 - val_loss: 0.2472 - val_accuracy: 0.8928\n",
      "Epoch 3/10\n",
      "500/500 [==============================] - 216s 431ms/step - loss: 0.3000 - accuracy: 0.8741 - val_loss: 0.2989 - val_accuracy: 0.8789\n",
      "Epoch 4/10\n",
      "500/500 [==============================] - 216s 431ms/step - loss: 0.2743 - accuracy: 0.8870 - val_loss: 0.2497 - val_accuracy: 0.8916\n",
      "Epoch 5/10\n",
      "500/500 [==============================] - 215s 431ms/step - loss: 0.2619 - accuracy: 0.8897 - val_loss: 0.2589 - val_accuracy: 0.8815\n",
      "Epoch 6/10\n",
      "500/500 [==============================] - 215s 430ms/step - loss: 0.2486 - accuracy: 0.8947 - val_loss: 0.2260 - val_accuracy: 0.9075\n",
      "Epoch 7/10\n",
      "500/500 [==============================] - 215s 431ms/step - loss: 0.2431 - accuracy: 0.9022 - val_loss: 0.2102 - val_accuracy: 0.9145\n",
      "Epoch 8/10\n",
      "500/500 [==============================] - 215s 430ms/step - loss: 0.2398 - accuracy: 0.9018 - val_loss: 0.1926 - val_accuracy: 0.9224\n",
      "Epoch 9/10\n",
      "500/500 [==============================] - 215s 430ms/step - loss: 0.2292 - accuracy: 0.9078 - val_loss: 0.2182 - val_accuracy: 0.9036\n",
      "Epoch 10/10\n",
      "500/500 [==============================] - 216s 432ms/step - loss: 0.2169 - accuracy: 0.9170 - val_loss: 0.1562 - val_accuracy: 0.9354\n",
      "BEST AC 0.9354 --- VAL LOSS: 0.1562\n",
      "EPOCH: 9\n",
      "___________________________________________________________________________________\n",
      "FUNCION DE ACTIVACION: =======>  ['tanh']\n",
      "Epoch 1/10\n",
      "500/500 [==============================] - 218s 435ms/step - loss: 0.7770 - accuracy: 0.6388 - val_loss: 0.5348 - val_accuracy: 0.7255\n",
      "Epoch 2/10\n",
      "500/500 [==============================] - 219s 439ms/step - loss: 0.5902 - accuracy: 0.6853 - val_loss: 0.5143 - val_accuracy: 0.7315\n",
      "Epoch 3/10\n",
      "500/500 [==============================] - 216s 433ms/step - loss: 0.5386 - accuracy: 0.7134 - val_loss: 0.5471 - val_accuracy: 0.6983\n",
      "Epoch 4/10\n",
      "500/500 [==============================] - 216s 433ms/step - loss: 0.5287 - accuracy: 0.7265 - val_loss: 0.5204 - val_accuracy: 0.7323\n",
      "Epoch 5/10\n",
      "500/500 [==============================] - 216s 432ms/step - loss: 0.5562 - accuracy: 0.7008 - val_loss: 0.5223 - val_accuracy: 0.7310\n",
      "Epoch 6/10\n",
      "500/500 [==============================] - 216s 432ms/step - loss: 0.5434 - accuracy: 0.7122 - val_loss: 0.5424 - val_accuracy: 0.7105\n",
      "Epoch 7/10\n",
      "500/500 [==============================] - 216s 432ms/step - loss: 0.5549 - accuracy: 0.7066 - val_loss: 0.5490 - val_accuracy: 0.7349\n",
      "Epoch 8/10\n",
      "500/500 [==============================] - 216s 432ms/step - loss: 0.5686 - accuracy: 0.6940 - val_loss: 0.5268 - val_accuracy: 0.7380\n",
      "Epoch 9/10\n",
      "500/500 [==============================] - 216s 433ms/step - loss: 0.5339 - accuracy: 0.7181 - val_loss: 0.5321 - val_accuracy: 0.7258\n",
      "Epoch 10/10\n",
      "500/500 [==============================] - 216s 431ms/step - loss: 0.5419 - accuracy: 0.7151 - val_loss: 0.5320 - val_accuracy: 0.7148\n",
      "BEST AC 0.7380 --- VAL LOSS: 0.5143\n",
      "EPOCH: 7\n",
      "___________________________________________________________________________________\n"
     ]
    }
   ],
   "source": [
    " Resumen=[]\n",
    "funAct=[\"sigmoid\",\"relu\",\"selu\",\"softmax\",\"softplus\",\"elu\",\"tanh\"]\n",
    "for i in funAct:\n",
    "    cnn = Sequential() # definimos\n",
    "    cnn.add(Convolution2D(filtrosConv1, tamano_filtro1, padding =\"same\",\\\n",
    "                          input_shape=(longitud, altura, 3), activation=i))\n",
    "    print(\"FUNCION DE ACTIVACION: =======> \",[i])\n",
    "\n",
    "    #Agregamos capa de pooling  (su papel es reducir el tamaño de las imágenes)\n",
    "    cnn.add(MaxPooling2D(pool_size=tamano_pool))\n",
    "\n",
    "    cnn.add(Convolution2D(filtrosConv2, tamano_filtro2, padding =\"same\"))\n",
    "    cnn.add(MaxPooling2D(pool_size=tamano_pool))\n",
    "\n",
    "    cnn.add(Flatten()) # aplicamos faltten\n",
    "    cnn.add(Dense(256, activation=i))\n",
    "\n",
    "    cnn.add(Dropout(0.5)) #en cada iteracion apagamos de manera aleatorio el 50% de las neuronas\n",
    "    #sirbe para darle \"plasticidad\" para que aprenda caminos diferentes y no siempre el mismo en cada iteracion\n",
    "\n",
    "    cnn.add(Dense(clases, activation='softmax'))\n",
    "\n",
    "    cnn.compile(loss='categorical_crossentropy',\n",
    "                optimizer='adam',\n",
    "                metrics=['accuracy'])\n",
    "    \n",
    "    \n",
    "    cnn.fit(\n",
    "        entrenamiento_generador,\n",
    "        steps_per_epoch=pasos,\n",
    "        epochs=epocas,\n",
    "        validation_data=validacion_generador,\n",
    "        validation_steps=validation_steps)\n",
    "    df_history= pd.DataFrame(cnn.history.history)\n",
    "    array_history=np.array(df_history)\n",
    "    print(\"BEST AC \"+  str(\"{:.4f}\".format(df_history.val_accuracy.max())) + \" --- VAL LOSS: \"+str(\"{:.4f}\".format(df_history.val_loss.min())))\n",
    "    print(\"EPOCH: \"+ str(np.argmax(array_history[:,3])))\n",
    "    Resumen.append(i + \" - BEST AC \"+  str(\"{:.4f}\".format(df_history.val_accuracy.max())) + \" --- VAL LOSS: \"+str(\"{:.4f}\".format(df_history.val_loss.min()))+ \" - EPOCH: \"+ str(np.argmax(array_history[:,3])))\n",
    "    print(\"___________________________________________________________________________________\")\n"
   ]
  },
  {
   "cell_type": "code",
   "execution_count": 8,
   "id": "86e088c7",
   "metadata": {},
   "outputs": [
    {
     "data": {
      "text/plain": [
       "['sigmoid - BEST AC 0.5023 --- VAL LOSS: 0.6933 - EPOCH: 7',\n",
       " 'relu - BEST AC 0.9777 --- VAL LOSS: 0.0650 - EPOCH: 7',\n",
       " 'selu - BEST AC 0.9287 --- VAL LOSS: 0.1845 - EPOCH: 9',\n",
       " 'softmax - BEST AC 0.7708 --- VAL LOSS: 0.5477 - EPOCH: 9',\n",
       " 'softplus - BEST AC 0.5025 --- VAL LOSS: 0.6931 - EPOCH: 3',\n",
       " 'elu - BEST AC 0.9354 --- VAL LOSS: 0.1562 - EPOCH: 9',\n",
       " 'tanh - BEST AC 0.7380 --- VAL LOSS: 0.5143 - EPOCH: 7']"
      ]
     },
     "execution_count": 8,
     "metadata": {},
     "output_type": "execute_result"
    }
   ],
   "source": [
    " Resumen "
   ]
  },
  {
   "cell_type": "markdown",
   "id": "e4cff7a2",
   "metadata": {},
   "source": [
    "['sigmoid - BEST AC 0.5023 --- VAL LOSS: 0.6933 - EPOCH: 7',                       \n",
    " 'relu - BEST AC 0.9777 --- VAL LOSS: 0.0650 - EPOCH: 7',                                 \n",
    " 'selu - BEST AC 0.9287 --- VAL LOSS: 0.1845 - EPOCH: 9',                            \n",
    " 'softmax - BEST AC 0.7708 --- VAL LOSS: 0.5477 - EPOCH: 9',                               \n",
    " 'softplus - BEST AC 0.5025 --- VAL LOSS: 0.6931 - EPOCH: 3',                              \n",
    " 'elu - BEST AC 0.9354 --- VAL LOSS: 0.1562 - EPOCH: 9',                               \n",
    " 'tanh - BEST AC 0.7380 --- VAL LOSS: 0.5143 - EPOCH: 7']                                   "
   ]
  },
  {
   "cell_type": "markdown",
   "id": "4802b283",
   "metadata": {},
   "source": [
    "Claramente los mejores resultados lo obtuvimos con relu, ademas de eso podemos ver que solo le tomo 7 epocas asique reducimos el tiempo de entrenamiento"
   ]
  },
  {
   "cell_type": "markdown",
   "id": "3bda5ece",
   "metadata": {},
   "source": [
    "Entrenamos los modelos con relu"
   ]
  },
  {
   "cell_type": "code",
   "execution_count": 19,
   "id": "1d6b2753",
   "metadata": {
    "ExecuteTime": {
     "end_time": "2022-11-09T14:26:37.674544Z",
     "start_time": "2022-11-09T14:08:57.007584Z"
    },
    "scrolled": true
   },
   "outputs": [
    {
     "name": "stderr",
     "output_type": "stream",
     "text": [
      "C:\\Users\\lobo\\anaconda3\\lib\\site-packages\\tensorflow\\python\\keras\\engine\\training.py:1961: UserWarning: `Model.fit_generator` is deprecated and will be removed in a future version. Please use `Model.fit`, which supports generators.\n",
      "  warnings.warn('`Model.fit_generator` is deprecated and '\n"
     ]
    },
    {
     "name": "stdout",
     "output_type": "stream",
     "text": [
      "Epoch 1/7\n",
      "500/500 [==============================] - 153s 305ms/step - loss: 0.4525 - accuracy: 0.8756\n",
      "Epoch 2/7\n",
      "500/500 [==============================] - 150s 301ms/step - loss: 0.1463 - accuracy: 0.9469\n",
      "Epoch 3/7\n",
      "500/500 [==============================] - 151s 302ms/step - loss: 0.0889 - accuracy: 0.9691\n",
      "Epoch 4/7\n",
      "500/500 [==============================] - 151s 302ms/step - loss: 0.0562 - accuracy: 0.9800\n",
      "Epoch 5/7\n",
      "500/500 [==============================] - 152s 303ms/step - loss: 0.0422 - accuracy: 0.9860\n",
      "Epoch 6/7\n",
      "500/500 [==============================] - 152s 305ms/step - loss: 0.0488 - accuracy: 0.9853\n",
      "Epoch 7/7\n",
      "500/500 [==============================] - 150s 300ms/step - loss: 0.0320 - accuracy: 0.9882\n"
     ]
    },
    {
     "data": {
      "text/plain": [
       "<tensorflow.python.keras.callbacks.History at 0x2e509641c70>"
      ]
     },
     "execution_count": 19,
     "metadata": {},
     "output_type": "execute_result"
    }
   ],
   "source": [
    "cnn2 = Sequential() # definimos\n",
    "cnn2.add(Convolution2D(filtrosConv1, tamano_filtro1, padding =\"same\",\\\n",
    "                      input_shape=(longitud, altura, 3), activation='relu'))\n",
    "\n",
    "#Agregamos capa de pooling \n",
    "cnn2.add(MaxPooling2D(pool_size=tamano_pool))\n",
    "\n",
    "cnn2.add(Convolution2D(filtrosConv2, tamano_filtro2, padding =\"same\"))\n",
    "cnn2.add(MaxPooling2D(pool_size=tamano_pool))\n",
    "\n",
    "cnn2.add(Flatten()) # aplicamos faltten\n",
    "cnn2.add(Dense(256, activation='relu'))\n",
    "\n",
    "cnn2.add(Dropout(0.5)) #en cada iteracion apagamos de manera aleatorio el 50% de las neuronas\n",
    "#sirbe para darle \"plasticidad\" para que aprenda caminos diferentes y no siempre el mismo en cada iteracion\n",
    "\n",
    "cnn2.add(Dense(clases, activation='softmax'))\n",
    "\n",
    "cnn2.compile(loss='categorical_crossentropy',\n",
    "            optimizer='adam',\n",
    "            metrics=['accuracy'])\n",
    "\n",
    "\n",
    "cnn2.fit_generator(\n",
    "    all_data,\n",
    "    steps_per_epoch=pasos,\n",
    "    epochs=7)\n",
    "\n",
    " \n",
    " "
   ]
  },
  {
   "cell_type": "markdown",
   "id": "16a3ee6e",
   "metadata": {},
   "source": [
    "## Creamos carpeta para guardar el modelo y lo guardamos"
   ]
  },
  {
   "cell_type": "code",
   "execution_count": 5,
   "id": "2d1b5d12",
   "metadata": {},
   "outputs": [],
   "source": [
    "target_dir = './modelo/'\n",
    "if not os.path.exists(target_dir):\n",
    "    os.mkdir(target_dir)\n",
    " "
   ]
  },
  {
   "cell_type": "code",
   "execution_count": 20,
   "id": "935ec0c8",
   "metadata": {
    "ExecuteTime": {
     "end_time": "2022-11-09T14:30:36.949245Z",
     "start_time": "2022-11-09T14:30:35.986734Z"
    }
   },
   "outputs": [],
   "source": [
    "#cnn2.save('./modelo/modelo.h5') # estructura\n",
    "#cnn2.save_weights('./modelo/pesos.h5') # pesos"
   ]
  },
  {
   "cell_type": "code",
   "execution_count": null,
   "id": "8abd41d6",
   "metadata": {},
   "outputs": [],
   "source": []
  },
  {
   "cell_type": "code",
   "execution_count": null,
   "id": "80017c50",
   "metadata": {},
   "outputs": [],
   "source": []
  }
 ],
 "metadata": {
  "kernelspec": {
   "display_name": "Python 3 (ipykernel)",
   "language": "python",
   "name": "python3"
  },
  "language_info": {
   "codemirror_mode": {
    "name": "ipython",
    "version": 3
   },
   "file_extension": ".py",
   "mimetype": "text/x-python",
   "name": "python",
   "nbconvert_exporter": "python",
   "pygments_lexer": "ipython3",
   "version": "3.9.16"
  },
  "toc": {
   "base_numbering": 1,
   "nav_menu": {},
   "number_sections": true,
   "sideBar": true,
   "skip_h1_title": false,
   "title_cell": "Table of Contents",
   "title_sidebar": "Contents",
   "toc_cell": false,
   "toc_position": {},
   "toc_section_display": true,
   "toc_window_display": false
  }
 },
 "nbformat": 4,
 "nbformat_minor": 5
}
