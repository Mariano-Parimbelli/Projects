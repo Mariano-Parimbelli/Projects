{
 "cells": [
  {
   "cell_type": "code",
   "execution_count": 1,
   "id": "3f82ee79",
   "metadata": {},
   "outputs": [
    {
     "data": {
      "text/plain": [
       "0"
      ]
     },
     "execution_count": 1,
     "metadata": {},
     "output_type": "execute_result"
    }
   ],
   "source": [
    "import os\n",
    "os.system('NOTEPAD.exe')"
   ]
  },
  {
   "cell_type": "code",
   "execution_count": null,
   "id": "ba269717",
   "metadata": {},
   "outputs": [],
   "source": []
  },
  {
   "cell_type": "code",
   "execution_count": 43,
   "id": "d8070fba",
   "metadata": {},
   "outputs": [],
   "source": [
    "import subprocess\n",
    "ruta='C:/Users/'+user+'/Desktop/programs/Word.lnk'\n",
    "childProcess = subprocess.Popen(ruta, shell=True)"
   ]
  },
  {
   "cell_type": "code",
   "execution_count": null,
   "id": "ee32279b",
   "metadata": {},
   "outputs": [],
   "source": [
    " "
   ]
  },
  {
   "cell_type": "code",
   "execution_count": 40,
   "id": "d82cb26c",
   "metadata": {},
   "outputs": [],
   "source": [
    "from getpass import getuser\n",
    "user=getuser()\n"
   ]
  },
  {
   "cell_type": "code",
   "execution_count": 41,
   "id": "ae77d67c",
   "metadata": {},
   "outputs": [
    {
     "data": {
      "text/plain": [
       "'lobo'"
      ]
     },
     "execution_count": 41,
     "metadata": {},
     "output_type": "execute_result"
    }
   ],
   "source": [
    "user"
   ]
  },
  {
   "cell_type": "code",
   "execution_count": null,
   "id": "2ecaf65a",
   "metadata": {},
   "outputs": [],
   "source": []
  },
  {
   "cell_type": "code",
   "execution_count": null,
   "id": "7080c9c4",
   "metadata": {},
   "outputs": [],
   "source": []
  }
 ],
 "metadata": {
  "kernelspec": {
   "display_name": "Python 3 (ipykernel)",
   "language": "python",
   "name": "python3"
  },
  "language_info": {
   "codemirror_mode": {
    "name": "ipython",
    "version": 3
   },
   "file_extension": ".py",
   "mimetype": "text/x-python",
   "name": "python",
   "nbconvert_exporter": "python",
   "pygments_lexer": "ipython3",
   "version": "3.10.0"
  },
  "toc": {
   "base_numbering": 1,
   "nav_menu": {},
   "number_sections": true,
   "sideBar": true,
   "skip_h1_title": false,
   "title_cell": "Table of Contents",
   "title_sidebar": "Contents",
   "toc_cell": false,
   "toc_position": {},
   "toc_section_display": true,
   "toc_window_display": false
  }
 },
 "nbformat": 4,
 "nbformat_minor": 5
}
