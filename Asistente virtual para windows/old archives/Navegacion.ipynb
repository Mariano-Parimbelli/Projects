{
 "cells": [
  {
   "cell_type": "code",
   "execution_count": 1,
   "id": "a1766bad",
   "metadata": {},
   "outputs": [],
   "source": [
    " \n",
    "import pyautogui\n",
    "import time"
   ]
  },
  {
   "cell_type": "markdown",
   "id": "3c402b08",
   "metadata": {
    "code_folding": [
     0
    ]
   },
   "source": [
    " ['\\t', '\\n', '\\r', ' ', '!', '\"', '#', '$', '%', '&', \"'\", '(',                   \n",
    "')', '*', '+', ',', '-', '.', '/', '0', '1', '2', '3', '4', '5', '6', '7',                         \n",
    "'8', '9', ':', ';', '<', '=', '>', '?', '@', '[', '\\\\', ']', '^', '_', '`',                        \n",
    "'a', 'b', 'c', 'd', 'e','f', 'g', 'h', 'i', 'j', 'k', 'l', 'm', 'n', 'o',               \n",
    "'p', 'q', 'r', 's', 't', 'u', 'v', 'w', 'x', 'y', 'z', '{', '|', '}', '~',          \n",
    "'accept', 'add', 'alt', 'altleft', 'altright', 'apps', 'backspace',               \n",
    "'browserback', 'browserfavorites', 'browserforward', 'browserhome',                  \n",
    "'browserrefresh', 'browsersearch', 'browserstop', 'capslock', 'clear',                   \n",
    "'convert', 'ctrl', 'ctrlleft', 'ctrlright', 'decimal', 'del', 'delete',               \n",
    "'divide', 'down', 'end', 'enter', 'esc', 'escape', 'execute', 'f1', 'f10',                  \n",
    "'f11', 'f12', 'f13', 'f14', 'f15', 'f16', 'f17', 'f18', 'f19', 'f2', 'f20',               \n",
    "'f21', 'f22', 'f23', 'f24', 'f3', 'f4', 'f5', 'f6', 'f7', 'f8', 'f9',               \n",
    "'final', 'fn', 'hanguel', 'hangul', 'hanja', 'help', 'home', 'insert', 'junja',               \n",
    "'kana', 'kanji', 'launchapp1', 'launchapp2', 'launchmail',                 \n",
    "'launchmediaselect', 'left', 'modechange', 'multiply', 'nexttrack',                    \n",
    "'nonconvert', 'num0', 'num1', 'num2', 'num3', 'num4', 'num5', 'num6',                \n",
    "'num7', 'num8', 'num9', 'numlock', 'pagedown', 'pageup', 'pause', 'pgdn',                      \n",
    "'pgup', 'playpause', 'prevtrack', 'print', 'printscreen', 'prntscrn',             \n",
    "'prtsc', 'prtscr', 'return', 'right', 'scrolllock', 'select', 'separator',             \n",
    "'shift', 'shiftleft', 'shiftright', 'sleep', 'space', 'stop', 'subtract', 'tab',                 \n",
    "'up', 'volumedown', 'volumemute', 'volumeup', 'win', 'w                              "
   ]
  },
  {
   "cell_type": "code",
   "execution_count": 2,
   "id": "7f9fbb83",
   "metadata": {},
   "outputs": [],
   "source": [
    " #ALT + D: Va hacia la barra de direcciones.\n",
    "     "
   ]
  },
  {
   "cell_type": "code",
   "execution_count": 3,
   "id": "f630e80d",
   "metadata": {
    "code_folding": [
     0,
     2,
     4,
     7,
     10,
     14,
     17,
     24,
     27,
     32,
     35,
     38,
     41,
     43,
     45,
     47
    ],
    "run_control": {
     "marked": false
    }
   },
   "outputs": [],
   "source": [
    "def nextTab():\n",
    "     pyautogui.hotkey(\"ctrlright\",\"pagedown\")\n",
    "def previusTab():\n",
    "    pyautogui.hotkey(\"ctrlright\",\"pageup\")\n",
    "def newTab():\n",
    "     pyautogui.keyUp('shift')  \n",
    "     pyautogui.hotkey('ctrl', 't')\n",
    "def newWindow():\n",
    "     pyautogui.keyUp('shift')  \n",
    "     pyautogui.hotkey('ctrl', 'n')\n",
    "def closeTab():\n",
    "    try:\n",
    "        pyautogui.keyUp('shift')  \n",
    "        pyautogui.hotkey('ctrl', 'w')\n",
    "    except:\n",
    "        pyautogui.keyUp('shift')  \n",
    "        pyautogui.hotkey('ctrl', 'f4')\n",
    "def minimize():\n",
    "    pyautogui.keyDown('alt')  \n",
    "    pyautogui.keyDown('space')\n",
    "    pyautogui.keyDown('n')\n",
    "    pyautogui.keyUp('alt')\n",
    "    pyautogui.keyUp('space')\n",
    "    pyautogui.keyUp('n')\n",
    "def minimizeAll():\n",
    "     pyautogui.keyUp('shift')  \n",
    "     pyautogui.hotkey('win', 'm')\n",
    "def closeWindowActual():\n",
    "    pyautogui.keyDown('alt')  \n",
    "    pyautogui.keyDown('f4')\n",
    "    pyautogui.keyUp('alt')\n",
    "    pyautogui.keyUp('f4')\n",
    "def openExplorerFiles():\n",
    "    pyautogui.keyUp('shift')  \n",
    "    pyautogui.hotkey('win', 'e')\n",
    "def openConfiguration():\n",
    "    pyautogui.keyUp('shift')  \n",
    "    pyautogui.hotkey('win', 'i')\n",
    "def lockSession():\n",
    "    pyautogui.keyUp('shift')  \n",
    "    pyautogui.hotkey('win', 'l')\n",
    "def previusPag(): \n",
    "    pyautogui.hotkey(\"alt\",\"left\")\n",
    "def play_pause():\n",
    "     pyautogui.hotkey(\"playpause\")\n",
    "def siguiente():\n",
    "     pyautogui.hotkey(\"nexttrack\")\n",
    "def anterior():\n",
    "     pyautogui.hotkey(\"prevtrack\")\n",
    "    \n",
    "#def moveMonitorWindow():"
   ]
  },
  {
   "cell_type": "code",
   "execution_count": null,
   "id": "6168a596",
   "metadata": {},
   "outputs": [],
   "source": [
    " "
   ]
  },
  {
   "cell_type": "code",
   "execution_count": null,
   "id": "e037c8f4",
   "metadata": {},
   "outputs": [],
   "source": []
  },
  {
   "cell_type": "code",
   "execution_count": null,
   "id": "c8358b0b",
   "metadata": {},
   "outputs": [],
   "source": [
    " "
   ]
  },
  {
   "cell_type": "code",
   "execution_count": null,
   "id": "30785a05",
   "metadata": {},
   "outputs": [],
   "source": [
    "\n",
    " \n"
   ]
  },
  {
   "cell_type": "code",
   "execution_count": null,
   "id": "3a470af0",
   "metadata": {},
   "outputs": [],
   "source": [
    " "
   ]
  },
  {
   "cell_type": "code",
   "execution_count": null,
   "id": "bc49ab6b",
   "metadata": {},
   "outputs": [],
   "source": []
  }
 ],
 "metadata": {
  "kernelspec": {
   "display_name": "Python 3 (ipykernel)",
   "language": "python",
   "name": "python3"
  },
  "language_info": {
   "codemirror_mode": {
    "name": "ipython",
    "version": 3
   },
   "file_extension": ".py",
   "mimetype": "text/x-python",
   "name": "python",
   "nbconvert_exporter": "python",
   "pygments_lexer": "ipython3",
   "version": "3.10.0"
  },
  "toc": {
   "base_numbering": 1,
   "nav_menu": {},
   "number_sections": true,
   "sideBar": true,
   "skip_h1_title": false,
   "title_cell": "Table of Contents",
   "title_sidebar": "Contents",
   "toc_cell": false,
   "toc_position": {},
   "toc_section_display": true,
   "toc_window_display": false
  }
 },
 "nbformat": 4,
 "nbformat_minor": 5
}
