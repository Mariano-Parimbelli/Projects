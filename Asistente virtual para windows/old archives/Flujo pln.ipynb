{
 "cells": [
  {
   "cell_type": "code",
   "execution_count": 46,
   "id": "722635d8",
   "metadata": {},
   "outputs": [],
   "source": [
    "from nltk.stem import SnowballStemmer\n",
    "from sklearn.model_selection import train_test_split\n",
    "from sklearn.metrics import confusion_matrix, accuracy_score, f1_score\n",
    "from sklearn.model_selection import GridSearchCV\n",
    "from sklearn.model_selection import cross_val_score \n",
    "import pickle\n",
    "from sklearn.feature_extraction.text import TfidfTransformer \n",
    "from sklearn.feature_extraction.text import CountVectorizer  \n",
    "import spacy\n",
    "from sklearn import *\n",
    "nlp=spacy.load('es_core_news_lg')\n",
    "spanish_stemmer = SnowballStemmer('spanish')\n",
    "import numpy as np\n",
    "import pandas as pd\n",
    "import sklearn\n",
    "import matplotlib.pyplot as plt\n",
    "import pandas as pd\n",
    "import numpy as np\n",
    "from sklearn import svm\n",
    "from sklearn.linear_model import LogisticRegression\n",
    "from sklearn.preprocessing import OrdinalEncoder\n",
    "from sklearn import linear_model\n",
    "from sklearn import *\n",
    "from sklearn.metrics import *\n",
    "from sklearn.compose import ColumnTransformer  \n",
    "from sklearn.preprocessing import OneHotEncoder\n",
    "from sklearn.preprocessing import MinMaxScaler\n",
    "from sklearn.preprocessing import StandardScaler\n",
    "import tensorflow as tf\n",
    "from tensorflow import keras\n",
    "from tensorflow.keras import Input\n",
    "from tensorflow.keras.models import Sequential\n",
    "from tensorflow.keras.layers import Dense\n",
    "from tensorflow.keras import initializers\n",
    "from sklearn.model_selection import train_test_split\n",
    "from keras.initializers import glorot_uniform  # Or your initializer of choice\n",
    "import keras.backend as K\n",
    "from keras.models import load_model\n",
    "import matplotlib.pyplot as plt"
   ]
  },
  {
   "cell_type": "code",
   "execution_count": 47,
   "id": "74e082fb",
   "metadata": {
    "run_control": {
     "marked": true
    }
   },
   "outputs": [
    {
     "data": {
      "text/html": [
       "<div>\n",
       "<style scoped>\n",
       "    .dataframe tbody tr th:only-of-type {\n",
       "        vertical-align: middle;\n",
       "    }\n",
       "\n",
       "    .dataframe tbody tr th {\n",
       "        vertical-align: top;\n",
       "    }\n",
       "\n",
       "    .dataframe thead th {\n",
       "        text-align: right;\n",
       "    }\n",
       "</style>\n",
       "<table border=\"1\" class=\"dataframe\">\n",
       "  <thead>\n",
       "    <tr style=\"text-align: right;\">\n",
       "      <th></th>\n",
       "      <th>sub_intencion</th>\n",
       "      <th>accion</th>\n",
       "    </tr>\n",
       "  </thead>\n",
       "  <tbody>\n",
       "    <tr>\n",
       "      <th>0</th>\n",
       "      <td>google</td>\n",
       "      <td>buscar_google</td>\n",
       "    </tr>\n",
       "    <tr>\n",
       "      <th>1</th>\n",
       "      <td>google</td>\n",
       "      <td>buscar_google</td>\n",
       "    </tr>\n",
       "  </tbody>\n",
       "</table>\n",
       "</div>"
      ],
      "text/plain": [
       "  sub_intencion         accion\n",
       "0        google  buscar_google\n",
       "1        google  buscar_google"
      ]
     },
     "execution_count": 47,
     "metadata": {},
     "output_type": "execute_result"
    }
   ],
   "source": [
    "#importamos datos\n",
    "df= pd.read_csv('data/intent.csv',sep=';',encoding='UTF-8') \n",
    "df=df.drop(columns=\"Unnamed: 5\")\n",
    "oraciones=df.drop(axis=1,columns=[\"id\",\"intencion\",\"sub_intencion\"])\n",
    "intencion=df.drop(axis=1,columns=['id','sub_intencion','oracion'])\n",
    "sub_intencion=df.drop(axis=1,columns=[\"id\",\"intencion\",\"oracion\"])\n",
    "\n",
    "sub_intencion.head(2)"
   ]
  },
  {
   "cell_type": "code",
   "execution_count": 48,
   "id": "daf06a9c",
   "metadata": {
    "code_folding": [
     0
    ],
    "run_control": {
     "marked": false
    }
   },
   "outputs": [],
   "source": [
    "def stopWords(corpus):\n",
    "    global oraciones_filtradas\n",
    "    f = open('stopwords.txt', 'r')\n",
    "    stopwords = f.read().split('\\n')\n",
    "    f.close()\n",
    "    \" \".join(stopwords)\n",
    "    oraciones=list(corpus)\n",
    "\n",
    "    oraciones_filtradas = [\" \".join([\n",
    "                              palabra for palabra in oracion.split()\n",
    "                              if palabra not in stopwords])\n",
    "                              for oracion in oraciones]"
   ]
  },
  {
   "cell_type": "code",
   "execution_count": 49,
   "id": "275b97bc",
   "metadata": {},
   "outputs": [],
   "source": [
    "stopWords(df['oracion'])"
   ]
  },
  {
   "cell_type": "code",
   "execution_count": 50,
   "id": "ff45802c",
   "metadata": {
    "code_folding": [
     1
    ]
   },
   "outputs": [],
   "source": [
    "oraciones_filtradas_lematizadas=[]\n",
    "for oracion in oraciones_filtradas:\n",
    "    oracion_lematizada = []\n",
    "    for palabra in oracion.split():\n",
    "        doc=nlp(palabra)\n",
    "        oracion_lematizada.append(doc[0].lemma_)\n",
    "    oraciones_filtradas_lematizadas.append(\" \".join(oracion_lematizada))\n",
    "    \n",
    "\n",
    "oraciones_filtradas_lematizadas_stemm=[]\n",
    "\n",
    "for oracion in oraciones_filtradas_lematizadas:\n",
    "    oracion_stemm = []\n",
    "    for palabra in oracion.split():\n",
    "        oracion_stemm.append(spanish_stemmer.stem(palabra))\n",
    "    oraciones_filtradas_lematizadas_stemm.append(\" \".join(oracion_stemm))\n",
    "    \n",
    "df['oracion'] = oraciones_filtradas_lematizadas_stemm\n",
    "df = df.drop_duplicates().reset_index(drop=True)\n",
    "df=df.drop(columns=\"id\")"
   ]
  },
  {
   "cell_type": "code",
   "execution_count": null,
   "id": "e70fe5f5",
   "metadata": {},
   "outputs": [],
   "source": []
  },
  {
   "cell_type": "code",
   "execution_count": 51,
   "id": "7012be0d",
   "metadata": {},
   "outputs": [],
   "source": [
    "df1=df.drop(columns=\"intencion\")\n",
    "df1=df1.drop(columns=\"sub_intencion\")"
   ]
  },
  {
   "cell_type": "code",
   "execution_count": 52,
   "id": "752c0210",
   "metadata": {},
   "outputs": [
    {
     "data": {
      "text/html": [
       "<div>\n",
       "<style scoped>\n",
       "    .dataframe tbody tr th:only-of-type {\n",
       "        vertical-align: middle;\n",
       "    }\n",
       "\n",
       "    .dataframe tbody tr th {\n",
       "        vertical-align: top;\n",
       "    }\n",
       "\n",
       "    .dataframe thead th {\n",
       "        text-align: right;\n",
       "    }\n",
       "</style>\n",
       "<table border=\"1\" class=\"dataframe\">\n",
       "  <thead>\n",
       "    <tr style=\"text-align: right;\">\n",
       "      <th></th>\n",
       "      <th>oracion</th>\n",
       "      <th>accion</th>\n",
       "    </tr>\n",
       "  </thead>\n",
       "  <tbody>\n",
       "    <tr>\n",
       "      <th>0</th>\n",
       "      <td>busc googl</td>\n",
       "      <td>buscar_google</td>\n",
       "    </tr>\n",
       "    <tr>\n",
       "      <th>1</th>\n",
       "      <td>busc</td>\n",
       "      <td>buscar_google</td>\n",
       "    </tr>\n",
       "    <tr>\n",
       "      <th>2</th>\n",
       "      <td>busc internet</td>\n",
       "      <td>buscar_google</td>\n",
       "    </tr>\n",
       "    <tr>\n",
       "      <th>3</th>\n",
       "      <td>quer busc</td>\n",
       "      <td>buscar_google</td>\n",
       "    </tr>\n",
       "    <tr>\n",
       "      <th>4</th>\n",
       "      <td>googl</td>\n",
       "      <td>buscar_google</td>\n",
       "    </tr>\n",
       "    <tr>\n",
       "      <th>...</th>\n",
       "      <td>...</td>\n",
       "      <td>...</td>\n",
       "    </tr>\n",
       "    <tr>\n",
       "      <th>219</th>\n",
       "      <td>yo ir qued sord</td>\n",
       "      <td>volumenMenos</td>\n",
       "    </tr>\n",
       "    <tr>\n",
       "      <th>220</th>\n",
       "      <td>el volum alto</td>\n",
       "      <td>volumenMenos</td>\n",
       "    </tr>\n",
       "    <tr>\n",
       "      <th>221</th>\n",
       "      <td>bajal volum</td>\n",
       "      <td>volumenMenos</td>\n",
       "    </tr>\n",
       "    <tr>\n",
       "      <th>222</th>\n",
       "      <td>baj poc volum</td>\n",
       "      <td>volumenMenos</td>\n",
       "    </tr>\n",
       "    <tr>\n",
       "      <th>223</th>\n",
       "      <td>nuev pestañ</td>\n",
       "      <td>new_tab</td>\n",
       "    </tr>\n",
       "  </tbody>\n",
       "</table>\n",
       "<p>224 rows × 2 columns</p>\n",
       "</div>"
      ],
      "text/plain": [
       "             oracion         accion\n",
       "0         busc googl  buscar_google\n",
       "1               busc  buscar_google\n",
       "2      busc internet  buscar_google\n",
       "3          quer busc  buscar_google\n",
       "4              googl  buscar_google\n",
       "..               ...            ...\n",
       "219  yo ir qued sord   volumenMenos\n",
       "220    el volum alto   volumenMenos\n",
       "221      bajal volum   volumenMenos\n",
       "222    baj poc volum   volumenMenos\n",
       "223      nuev pestañ        new_tab\n",
       "\n",
       "[224 rows x 2 columns]"
      ]
     },
     "execution_count": 52,
     "metadata": {},
     "output_type": "execute_result"
    }
   ],
   "source": [
    "df1"
   ]
  },
  {
   "cell_type": "code",
   "execution_count": 53,
   "id": "2d7baace",
   "metadata": {},
   "outputs": [
    {
     "name": "stderr",
     "output_type": "stream",
     "text": [
      "C:\\Users\\lobo\\anaconda3\\envs\\IA\\lib\\site-packages\\sklearn\\utils\\deprecation.py:87: FutureWarning: Function get_feature_names is deprecated; get_feature_names is deprecated in 1.0 and will be removed in 1.2. Please use get_feature_names_out instead.\n",
      "  warnings.warn(msg, category=FutureWarning)\n",
      "C:\\Users\\lobo\\anaconda3\\envs\\IA\\lib\\site-packages\\sklearn\\utils\\deprecation.py:87: FutureWarning: Function get_feature_names is deprecated; get_feature_names is deprecated in 1.0 and will be removed in 1.2. Please use get_feature_names_out instead.\n",
      "  warnings.warn(msg, category=FutureWarning)\n"
     ]
    }
   ],
   "source": [
    "\n",
    "    from sklearn.feature_extraction.text import CountVectorizer  \n",
    "    global carreras_listas\n",
    "    global carreras_listo\n",
    "    corpus=df1['oracion']\n",
    "\n",
    " \n",
    "    vectorizador = CountVectorizer(binary=False, ngram_range=(1,2))  \n",
    "    X = vectorizador.fit_transform(corpus)\n",
    "\n",
    "    pickle.dump(vectorizador.vocabulary_,open(\"carreras.pkl\",\"wb\"))\n",
    "    vocabulario = vectorizador.get_feature_names()\n",
    "\n",
    "    carreras_listas=pd.DataFrame(X.toarray(), columns=vectorizador.get_feature_names())\n",
    "\n",
    "\n",
    "    #TF IDF TRANSFORM\n",
    "    transformer = TfidfTransformer()  \n",
    "    carreras_listas =transformer.fit_transform(carreras_listas) \n",
    "\n",
    "    #lo paso a dataframe\n",
    "    carreras_listas=pd.DataFrame(carreras_listas.toarray(), columns=vectorizador.get_feature_names())\n",
    "    #le agrego la columna de oracion y carrera\n",
    "    oracion_listo=df1.join(carreras_listas)\n",
    "\n"
   ]
  },
  {
   "cell_type": "code",
   "execution_count": 54,
   "id": "1b41d72e",
   "metadata": {},
   "outputs": [
    {
     "data": {
      "text/html": [
       "<div>\n",
       "<style scoped>\n",
       "    .dataframe tbody tr th:only-of-type {\n",
       "        vertical-align: middle;\n",
       "    }\n",
       "\n",
       "    .dataframe tbody tr th {\n",
       "        vertical-align: top;\n",
       "    }\n",
       "\n",
       "    .dataframe thead th {\n",
       "        text-align: right;\n",
       "    }\n",
       "</style>\n",
       "<table border=\"1\" class=\"dataframe\">\n",
       "  <thead>\n",
       "    <tr style=\"text-align: right;\">\n",
       "      <th></th>\n",
       "      <th>oracion</th>\n",
       "      <th>accion</th>\n",
       "      <th>abrir</th>\n",
       "      <th>abrir alarm</th>\n",
       "      <th>abrir calculador</th>\n",
       "      <th>abrir carpet</th>\n",
       "      <th>abrir chrom</th>\n",
       "      <th>abrir configur</th>\n",
       "      <th>abrir googl</th>\n",
       "      <th>abrir naveg</th>\n",
       "      <th>...</th>\n",
       "      <th>what</th>\n",
       "      <th>what tim</th>\n",
       "      <th>wiki</th>\n",
       "      <th>wikipd</th>\n",
       "      <th>wikipedi</th>\n",
       "      <th>windows</th>\n",
       "      <th>www</th>\n",
       "      <th>yo</th>\n",
       "      <th>yo ir</th>\n",
       "      <th>youtub</th>\n",
       "    </tr>\n",
       "  </thead>\n",
       "  <tbody>\n",
       "    <tr>\n",
       "      <th>0</th>\n",
       "      <td>busc googl</td>\n",
       "      <td>buscar_google</td>\n",
       "      <td>0.0</td>\n",
       "      <td>0.0</td>\n",
       "      <td>0.0</td>\n",
       "      <td>0.0</td>\n",
       "      <td>0.0</td>\n",
       "      <td>0.0</td>\n",
       "      <td>0.0</td>\n",
       "      <td>0.0</td>\n",
       "      <td>...</td>\n",
       "      <td>0.0</td>\n",
       "      <td>0.0</td>\n",
       "      <td>0.0</td>\n",
       "      <td>0.0</td>\n",
       "      <td>0.0</td>\n",
       "      <td>0.0</td>\n",
       "      <td>0.0</td>\n",
       "      <td>0.000000</td>\n",
       "      <td>0.000000</td>\n",
       "      <td>0.0</td>\n",
       "    </tr>\n",
       "    <tr>\n",
       "      <th>1</th>\n",
       "      <td>busc</td>\n",
       "      <td>buscar_google</td>\n",
       "      <td>0.0</td>\n",
       "      <td>0.0</td>\n",
       "      <td>0.0</td>\n",
       "      <td>0.0</td>\n",
       "      <td>0.0</td>\n",
       "      <td>0.0</td>\n",
       "      <td>0.0</td>\n",
       "      <td>0.0</td>\n",
       "      <td>...</td>\n",
       "      <td>0.0</td>\n",
       "      <td>0.0</td>\n",
       "      <td>0.0</td>\n",
       "      <td>0.0</td>\n",
       "      <td>0.0</td>\n",
       "      <td>0.0</td>\n",
       "      <td>0.0</td>\n",
       "      <td>0.000000</td>\n",
       "      <td>0.000000</td>\n",
       "      <td>0.0</td>\n",
       "    </tr>\n",
       "    <tr>\n",
       "      <th>2</th>\n",
       "      <td>busc internet</td>\n",
       "      <td>buscar_google</td>\n",
       "      <td>0.0</td>\n",
       "      <td>0.0</td>\n",
       "      <td>0.0</td>\n",
       "      <td>0.0</td>\n",
       "      <td>0.0</td>\n",
       "      <td>0.0</td>\n",
       "      <td>0.0</td>\n",
       "      <td>0.0</td>\n",
       "      <td>...</td>\n",
       "      <td>0.0</td>\n",
       "      <td>0.0</td>\n",
       "      <td>0.0</td>\n",
       "      <td>0.0</td>\n",
       "      <td>0.0</td>\n",
       "      <td>0.0</td>\n",
       "      <td>0.0</td>\n",
       "      <td>0.000000</td>\n",
       "      <td>0.000000</td>\n",
       "      <td>0.0</td>\n",
       "    </tr>\n",
       "    <tr>\n",
       "      <th>3</th>\n",
       "      <td>quer busc</td>\n",
       "      <td>buscar_google</td>\n",
       "      <td>0.0</td>\n",
       "      <td>0.0</td>\n",
       "      <td>0.0</td>\n",
       "      <td>0.0</td>\n",
       "      <td>0.0</td>\n",
       "      <td>0.0</td>\n",
       "      <td>0.0</td>\n",
       "      <td>0.0</td>\n",
       "      <td>...</td>\n",
       "      <td>0.0</td>\n",
       "      <td>0.0</td>\n",
       "      <td>0.0</td>\n",
       "      <td>0.0</td>\n",
       "      <td>0.0</td>\n",
       "      <td>0.0</td>\n",
       "      <td>0.0</td>\n",
       "      <td>0.000000</td>\n",
       "      <td>0.000000</td>\n",
       "      <td>0.0</td>\n",
       "    </tr>\n",
       "    <tr>\n",
       "      <th>4</th>\n",
       "      <td>googl</td>\n",
       "      <td>buscar_google</td>\n",
       "      <td>0.0</td>\n",
       "      <td>0.0</td>\n",
       "      <td>0.0</td>\n",
       "      <td>0.0</td>\n",
       "      <td>0.0</td>\n",
       "      <td>0.0</td>\n",
       "      <td>0.0</td>\n",
       "      <td>0.0</td>\n",
       "      <td>...</td>\n",
       "      <td>0.0</td>\n",
       "      <td>0.0</td>\n",
       "      <td>0.0</td>\n",
       "      <td>0.0</td>\n",
       "      <td>0.0</td>\n",
       "      <td>0.0</td>\n",
       "      <td>0.0</td>\n",
       "      <td>0.000000</td>\n",
       "      <td>0.000000</td>\n",
       "      <td>0.0</td>\n",
       "    </tr>\n",
       "    <tr>\n",
       "      <th>...</th>\n",
       "      <td>...</td>\n",
       "      <td>...</td>\n",
       "      <td>...</td>\n",
       "      <td>...</td>\n",
       "      <td>...</td>\n",
       "      <td>...</td>\n",
       "      <td>...</td>\n",
       "      <td>...</td>\n",
       "      <td>...</td>\n",
       "      <td>...</td>\n",
       "      <td>...</td>\n",
       "      <td>...</td>\n",
       "      <td>...</td>\n",
       "      <td>...</td>\n",
       "      <td>...</td>\n",
       "      <td>...</td>\n",
       "      <td>...</td>\n",
       "      <td>...</td>\n",
       "      <td>...</td>\n",
       "      <td>...</td>\n",
       "      <td>...</td>\n",
       "    </tr>\n",
       "    <tr>\n",
       "      <th>219</th>\n",
       "      <td>yo ir qued sord</td>\n",
       "      <td>volumenMenos</td>\n",
       "      <td>0.0</td>\n",
       "      <td>0.0</td>\n",
       "      <td>0.0</td>\n",
       "      <td>0.0</td>\n",
       "      <td>0.0</td>\n",
       "      <td>0.0</td>\n",
       "      <td>0.0</td>\n",
       "      <td>0.0</td>\n",
       "      <td>...</td>\n",
       "      <td>0.0</td>\n",
       "      <td>0.0</td>\n",
       "      <td>0.0</td>\n",
       "      <td>0.0</td>\n",
       "      <td>0.0</td>\n",
       "      <td>0.0</td>\n",
       "      <td>0.0</td>\n",
       "      <td>0.347884</td>\n",
       "      <td>0.395825</td>\n",
       "      <td>0.0</td>\n",
       "    </tr>\n",
       "    <tr>\n",
       "      <th>220</th>\n",
       "      <td>el volum alto</td>\n",
       "      <td>volumenMenos</td>\n",
       "      <td>0.0</td>\n",
       "      <td>0.0</td>\n",
       "      <td>0.0</td>\n",
       "      <td>0.0</td>\n",
       "      <td>0.0</td>\n",
       "      <td>0.0</td>\n",
       "      <td>0.0</td>\n",
       "      <td>0.0</td>\n",
       "      <td>...</td>\n",
       "      <td>0.0</td>\n",
       "      <td>0.0</td>\n",
       "      <td>0.0</td>\n",
       "      <td>0.0</td>\n",
       "      <td>0.0</td>\n",
       "      <td>0.0</td>\n",
       "      <td>0.0</td>\n",
       "      <td>0.000000</td>\n",
       "      <td>0.000000</td>\n",
       "      <td>0.0</td>\n",
       "    </tr>\n",
       "    <tr>\n",
       "      <th>221</th>\n",
       "      <td>bajal volum</td>\n",
       "      <td>volumenMenos</td>\n",
       "      <td>0.0</td>\n",
       "      <td>0.0</td>\n",
       "      <td>0.0</td>\n",
       "      <td>0.0</td>\n",
       "      <td>0.0</td>\n",
       "      <td>0.0</td>\n",
       "      <td>0.0</td>\n",
       "      <td>0.0</td>\n",
       "      <td>...</td>\n",
       "      <td>0.0</td>\n",
       "      <td>0.0</td>\n",
       "      <td>0.0</td>\n",
       "      <td>0.0</td>\n",
       "      <td>0.0</td>\n",
       "      <td>0.0</td>\n",
       "      <td>0.0</td>\n",
       "      <td>0.000000</td>\n",
       "      <td>0.000000</td>\n",
       "      <td>0.0</td>\n",
       "    </tr>\n",
       "    <tr>\n",
       "      <th>222</th>\n",
       "      <td>baj poc volum</td>\n",
       "      <td>volumenMenos</td>\n",
       "      <td>0.0</td>\n",
       "      <td>0.0</td>\n",
       "      <td>0.0</td>\n",
       "      <td>0.0</td>\n",
       "      <td>0.0</td>\n",
       "      <td>0.0</td>\n",
       "      <td>0.0</td>\n",
       "      <td>0.0</td>\n",
       "      <td>...</td>\n",
       "      <td>0.0</td>\n",
       "      <td>0.0</td>\n",
       "      <td>0.0</td>\n",
       "      <td>0.0</td>\n",
       "      <td>0.0</td>\n",
       "      <td>0.0</td>\n",
       "      <td>0.0</td>\n",
       "      <td>0.000000</td>\n",
       "      <td>0.000000</td>\n",
       "      <td>0.0</td>\n",
       "    </tr>\n",
       "    <tr>\n",
       "      <th>223</th>\n",
       "      <td>nuev pestañ</td>\n",
       "      <td>new_tab</td>\n",
       "      <td>0.0</td>\n",
       "      <td>0.0</td>\n",
       "      <td>0.0</td>\n",
       "      <td>0.0</td>\n",
       "      <td>0.0</td>\n",
       "      <td>0.0</td>\n",
       "      <td>0.0</td>\n",
       "      <td>0.0</td>\n",
       "      <td>...</td>\n",
       "      <td>0.0</td>\n",
       "      <td>0.0</td>\n",
       "      <td>0.0</td>\n",
       "      <td>0.0</td>\n",
       "      <td>0.0</td>\n",
       "      <td>0.0</td>\n",
       "      <td>0.0</td>\n",
       "      <td>0.000000</td>\n",
       "      <td>0.000000</td>\n",
       "      <td>0.0</td>\n",
       "    </tr>\n",
       "  </tbody>\n",
       "</table>\n",
       "<p>224 rows × 322 columns</p>\n",
       "</div>"
      ],
      "text/plain": [
       "             oracion         accion  abrir  abrir alarm  abrir calculador  \\\n",
       "0         busc googl  buscar_google    0.0          0.0               0.0   \n",
       "1               busc  buscar_google    0.0          0.0               0.0   \n",
       "2      busc internet  buscar_google    0.0          0.0               0.0   \n",
       "3          quer busc  buscar_google    0.0          0.0               0.0   \n",
       "4              googl  buscar_google    0.0          0.0               0.0   \n",
       "..               ...            ...    ...          ...               ...   \n",
       "219  yo ir qued sord   volumenMenos    0.0          0.0               0.0   \n",
       "220    el volum alto   volumenMenos    0.0          0.0               0.0   \n",
       "221      bajal volum   volumenMenos    0.0          0.0               0.0   \n",
       "222    baj poc volum   volumenMenos    0.0          0.0               0.0   \n",
       "223      nuev pestañ        new_tab    0.0          0.0               0.0   \n",
       "\n",
       "     abrir carpet  abrir chrom  abrir configur  abrir googl  abrir naveg  ...  \\\n",
       "0             0.0          0.0             0.0          0.0          0.0  ...   \n",
       "1             0.0          0.0             0.0          0.0          0.0  ...   \n",
       "2             0.0          0.0             0.0          0.0          0.0  ...   \n",
       "3             0.0          0.0             0.0          0.0          0.0  ...   \n",
       "4             0.0          0.0             0.0          0.0          0.0  ...   \n",
       "..            ...          ...             ...          ...          ...  ...   \n",
       "219           0.0          0.0             0.0          0.0          0.0  ...   \n",
       "220           0.0          0.0             0.0          0.0          0.0  ...   \n",
       "221           0.0          0.0             0.0          0.0          0.0  ...   \n",
       "222           0.0          0.0             0.0          0.0          0.0  ...   \n",
       "223           0.0          0.0             0.0          0.0          0.0  ...   \n",
       "\n",
       "     what  what tim  wiki  wikipd  wikipedi  windows  www        yo     yo ir  \\\n",
       "0     0.0       0.0   0.0     0.0       0.0      0.0  0.0  0.000000  0.000000   \n",
       "1     0.0       0.0   0.0     0.0       0.0      0.0  0.0  0.000000  0.000000   \n",
       "2     0.0       0.0   0.0     0.0       0.0      0.0  0.0  0.000000  0.000000   \n",
       "3     0.0       0.0   0.0     0.0       0.0      0.0  0.0  0.000000  0.000000   \n",
       "4     0.0       0.0   0.0     0.0       0.0      0.0  0.0  0.000000  0.000000   \n",
       "..    ...       ...   ...     ...       ...      ...  ...       ...       ...   \n",
       "219   0.0       0.0   0.0     0.0       0.0      0.0  0.0  0.347884  0.395825   \n",
       "220   0.0       0.0   0.0     0.0       0.0      0.0  0.0  0.000000  0.000000   \n",
       "221   0.0       0.0   0.0     0.0       0.0      0.0  0.0  0.000000  0.000000   \n",
       "222   0.0       0.0   0.0     0.0       0.0      0.0  0.0  0.000000  0.000000   \n",
       "223   0.0       0.0   0.0     0.0       0.0      0.0  0.0  0.000000  0.000000   \n",
       "\n",
       "     youtub  \n",
       "0       0.0  \n",
       "1       0.0  \n",
       "2       0.0  \n",
       "3       0.0  \n",
       "4       0.0  \n",
       "..      ...  \n",
       "219     0.0  \n",
       "220     0.0  \n",
       "221     0.0  \n",
       "222     0.0  \n",
       "223     0.0  \n",
       "\n",
       "[224 rows x 322 columns]"
      ]
     },
     "execution_count": 54,
     "metadata": {},
     "output_type": "execute_result"
    }
   ],
   "source": [
    "carreras_listo"
   ]
  },
  {
   "cell_type": "code",
   "execution_count": 67,
   "id": "64f3f197",
   "metadata": {},
   "outputs": [
    {
     "data": {
      "text/plain": [
       "0      buscar_google\n",
       "1      buscar_google\n",
       "2      buscar_google\n",
       "3      buscar_google\n",
       "4      buscar_google\n",
       "           ...      \n",
       "219     volumenMenos\n",
       "220     volumenMenos\n",
       "221     volumenMenos\n",
       "222     volumenMenos\n",
       "223          new_tab\n",
       "Name: accion, Length: 224, dtype: object"
      ]
     },
     "execution_count": 67,
     "metadata": {},
     "output_type": "execute_result"
    }
   ],
   "source": [
    " y"
   ]
  },
  {
   "cell_type": "code",
   "execution_count": 55,
   "id": "d6cdd93d",
   "metadata": {},
   "outputs": [
    {
     "data": {
      "text/plain": [
       "'from sklearn.preprocessing import LabelEncoder\\nlb=LabelEncoder()\\ny=lb.fit_transform(y)\\n'"
      ]
     },
     "execution_count": 55,
     "metadata": {},
     "output_type": "execute_result"
    }
   ],
   "source": [
    "X=  oracion_listo.drop(axis=1,columns=['oracion','accion'])\n",
    "y=df1[\"accion\"]\n",
    "\"\"\"from sklearn.preprocessing import LabelEncoder\n",
    "lb=LabelEncoder()\n",
    "y=lb.fit_transform(y)\n",
    "\"\"\""
   ]
  },
  {
   "cell_type": "code",
   "execution_count": 56,
   "id": "2fd0571b",
   "metadata": {
    "scrolled": true
   },
   "outputs": [
    {
     "data": {
      "text/plain": [
       "array(['buscar_google', 'buscar_wikipedia', 'buscar_youtube', 'pausa',\n",
       "       'play', 'anterior', 'siguiente', 'new_tab', 'minimizar',\n",
       "       'maximizar', 'next_tab', 'previus_tab', 'close_tab', 'previus_pag',\n",
       "       'new_windows', 'abir_web', 'abrir_carpeta', 'configuraciones',\n",
       "       'alarma', 'calculadora', 'reloj', 'clima', 'noticias',\n",
       "       'volumenMas', 'volumenMenos'], dtype=object)"
      ]
     },
     "execution_count": 56,
     "metadata": {},
     "output_type": "execute_result"
    }
   ],
   "source": [
    "df1[\"accion\"].unique()\n"
   ]
  },
  {
   "cell_type": "code",
   "execution_count": null,
   "id": "0d91ea4c",
   "metadata": {},
   "outputs": [],
   "source": []
  },
  {
   "cell_type": "code",
   "execution_count": 57,
   "id": "c96e138f",
   "metadata": {},
   "outputs": [],
   "source": [
    "X_train,X_test,y_train,y_test=train_test_split(X,y,test_size=0.20,random_state=123)"
   ]
  },
  {
   "cell_type": "code",
   "execution_count": 58,
   "id": "45501bae",
   "metadata": {
    "scrolled": true
   },
   "outputs": [
    {
     "name": "stdout",
     "output_type": "stream",
     "text": [
      "Accuracy:  0.7778\n"
     ]
    }
   ],
   "source": [
    "Knn= neighbors.KNeighborsClassifier(n_neighbors=4,weights='distance')\n",
    "Knn.fit(X_train, y_train.ravel())\n",
    "y_pred3= Knn.predict(X_test)\n",
    "ACkNN=accuracy_score(y_test, y_pred3)\n",
    "\n",
    "print(\"Accuracy: \", round(ACkNN,4))"
   ]
  },
  {
   "cell_type": "code",
   "execution_count": 59,
   "id": "f14369f4",
   "metadata": {},
   "outputs": [
    {
     "name": "stdout",
     "output_type": "stream",
     "text": [
      "Accuracy:  0.889\n"
     ]
    }
   ],
   "source": [
    "modeloRLog=linear_model.LogisticRegression(max_iter= 5000,penalty='none',fit_intercept=False, random_state=123)\n",
    "modeloRLog.fit(X_train,y_train.ravel())\n",
    "y_pred=modeloRLog.predict(X_test)\n",
    "\n",
    "AC_RLog=accuracy_score(y_test, y_pred)\n",
    "print(\"Accuracy: \", round(AC_RLog,3))"
   ]
  },
  {
   "cell_type": "code",
   "execution_count": 60,
   "id": "6eac6cdc",
   "metadata": {
    "code_folding": [
     0
    ]
   },
   "outputs": [
    {
     "name": "stdout",
     "output_type": "stream",
     "text": [
      "FUNCION DE ACTIVACION: ====>  ['sigmoid']\n",
      "Epoch 1/50\n"
     ]
    },
    {
     "ename": "UnimplementedError",
     "evalue": "Graph execution error:\n\nDetected at node 'Cast_1' defined at (most recent call last):\n    File \"C:\\Users\\lobo\\anaconda3\\envs\\IA\\lib\\runpy.py\", line 196, in _run_module_as_main\n      return _run_code(code, main_globals, None,\n    File \"C:\\Users\\lobo\\anaconda3\\envs\\IA\\lib\\runpy.py\", line 86, in _run_code\n      exec(code, run_globals)\n    File \"C:\\Users\\lobo\\anaconda3\\envs\\IA\\lib\\site-packages\\ipykernel_launcher.py\", line 16, in <module>\n      app.launch_new_instance()\n    File \"C:\\Users\\lobo\\anaconda3\\envs\\IA\\lib\\site-packages\\traitlets\\config\\application.py\", line 846, in launch_instance\n      app.start()\n    File \"C:\\Users\\lobo\\anaconda3\\envs\\IA\\lib\\site-packages\\ipykernel\\kernelapp.py\", line 677, in start\n      self.io_loop.start()\n    File \"C:\\Users\\lobo\\anaconda3\\envs\\IA\\lib\\site-packages\\tornado\\platform\\asyncio.py\", line 199, in start\n      self.asyncio_loop.run_forever()\n    File \"C:\\Users\\lobo\\anaconda3\\envs\\IA\\lib\\asyncio\\base_events.py\", line 595, in run_forever\n      self._run_once()\n    File \"C:\\Users\\lobo\\anaconda3\\envs\\IA\\lib\\asyncio\\base_events.py\", line 1881, in _run_once\n      handle._run()\n    File \"C:\\Users\\lobo\\anaconda3\\envs\\IA\\lib\\asyncio\\events.py\", line 80, in _run\n      self._context.run(self._callback, *self._args)\n    File \"C:\\Users\\lobo\\anaconda3\\envs\\IA\\lib\\site-packages\\ipykernel\\kernelbase.py\", line 471, in dispatch_queue\n      await self.process_one()\n    File \"C:\\Users\\lobo\\anaconda3\\envs\\IA\\lib\\site-packages\\ipykernel\\kernelbase.py\", line 460, in process_one\n      await dispatch(*args)\n    File \"C:\\Users\\lobo\\anaconda3\\envs\\IA\\lib\\site-packages\\ipykernel\\kernelbase.py\", line 367, in dispatch_shell\n      await result\n    File \"C:\\Users\\lobo\\anaconda3\\envs\\IA\\lib\\site-packages\\ipykernel\\kernelbase.py\", line 662, in execute_request\n      reply_content = await reply_content\n    File \"C:\\Users\\lobo\\anaconda3\\envs\\IA\\lib\\site-packages\\ipykernel\\ipkernel.py\", line 360, in do_execute\n      res = shell.run_cell(code, store_history=store_history, silent=silent)\n    File \"C:\\Users\\lobo\\anaconda3\\envs\\IA\\lib\\site-packages\\ipykernel\\zmqshell.py\", line 532, in run_cell\n      return super().run_cell(*args, **kwargs)\n    File \"C:\\Users\\lobo\\anaconda3\\envs\\IA\\lib\\site-packages\\IPython\\core\\interactiveshell.py\", line 2854, in run_cell\n      result = self._run_cell(\n    File \"C:\\Users\\lobo\\anaconda3\\envs\\IA\\lib\\site-packages\\IPython\\core\\interactiveshell.py\", line 2900, in _run_cell\n      return runner(coro)\n    File \"C:\\Users\\lobo\\anaconda3\\envs\\IA\\lib\\site-packages\\IPython\\core\\async_helpers.py\", line 129, in _pseudo_sync_runner\n      coro.send(None)\n    File \"C:\\Users\\lobo\\anaconda3\\envs\\IA\\lib\\site-packages\\IPython\\core\\interactiveshell.py\", line 3098, in run_cell_async\n      has_raised = await self.run_ast_nodes(code_ast.body, cell_name,\n    File \"C:\\Users\\lobo\\anaconda3\\envs\\IA\\lib\\site-packages\\IPython\\core\\interactiveshell.py\", line 3301, in run_ast_nodes\n      if await self.run_code(code, result, async_=asy):\n    File \"C:\\Users\\lobo\\anaconda3\\envs\\IA\\lib\\site-packages\\IPython\\core\\interactiveshell.py\", line 3361, in run_code\n      exec(code_obj, self.user_global_ns, self.user_ns)\n    File \"C:\\Users\\lobo\\AppData\\Local\\Temp\\ipykernel_9296\\712975740.py\", line 24, in <cell line: 5>\n      modelo.fit(X_train,y_train,validation_data=(X_test, y_test), epochs=50,batch_size=16)\n    File \"C:\\Users\\lobo\\anaconda3\\envs\\IA\\lib\\site-packages\\keras\\utils\\traceback_utils.py\", line 64, in error_handler\n      return fn(*args, **kwargs)\n    File \"C:\\Users\\lobo\\anaconda3\\envs\\IA\\lib\\site-packages\\keras\\engine\\training.py\", line 1409, in fit\n      tmp_logs = self.train_function(iterator)\n    File \"C:\\Users\\lobo\\anaconda3\\envs\\IA\\lib\\site-packages\\keras\\engine\\training.py\", line 1051, in train_function\n      return step_function(self, iterator)\n    File \"C:\\Users\\lobo\\anaconda3\\envs\\IA\\lib\\site-packages\\keras\\engine\\training.py\", line 1040, in step_function\n      outputs = model.distribute_strategy.run(run_step, args=(data,))\n    File \"C:\\Users\\lobo\\anaconda3\\envs\\IA\\lib\\site-packages\\keras\\engine\\training.py\", line 1030, in run_step\n      outputs = model.train_step(data)\n    File \"C:\\Users\\lobo\\anaconda3\\envs\\IA\\lib\\site-packages\\keras\\engine\\training.py\", line 894, in train_step\n      return self.compute_metrics(x, y, y_pred, sample_weight)\n    File \"C:\\Users\\lobo\\anaconda3\\envs\\IA\\lib\\site-packages\\keras\\engine\\training.py\", line 987, in compute_metrics\n      self.compiled_metrics.update_state(y, y_pred, sample_weight)\n    File \"C:\\Users\\lobo\\anaconda3\\envs\\IA\\lib\\site-packages\\keras\\engine\\compile_utils.py\", line 501, in update_state\n      metric_obj.update_state(y_t, y_p, sample_weight=mask)\n    File \"C:\\Users\\lobo\\anaconda3\\envs\\IA\\lib\\site-packages\\keras\\utils\\metrics_utils.py\", line 70, in decorated\n      update_op = update_state_fn(*args, **kwargs)\n    File \"C:\\Users\\lobo\\anaconda3\\envs\\IA\\lib\\site-packages\\keras\\metrics\\base_metric.py\", line 140, in update_state_fn\n      return ag_update_state(*args, **kwargs)\n    File \"C:\\Users\\lobo\\anaconda3\\envs\\IA\\lib\\site-packages\\keras\\metrics\\base_metric.py\", line 637, in update_state\n      y_true = tf.cast(y_true, self._dtype)\nNode: 'Cast_1'\nCast string to float is not supported\n\t [[{{node Cast_1}}]] [Op:__inference_train_function_747]",
     "output_type": "error",
     "traceback": [
      "\u001b[1;31m---------------------------------------------------------------------------\u001b[0m",
      "\u001b[1;31mUnimplementedError\u001b[0m                        Traceback (most recent call last)",
      "Input \u001b[1;32mIn [60]\u001b[0m, in \u001b[0;36m<cell line: 5>\u001b[1;34m()\u001b[0m\n\u001b[0;32m     18\u001b[0m modelo\u001b[38;5;241m.\u001b[39mcompile(loss\u001b[38;5;241m=\u001b[39m \u001b[38;5;124m'\u001b[39m\u001b[38;5;124msparse_categorical_crossentropy\u001b[39m\u001b[38;5;124m'\u001b[39m , optimizer\u001b[38;5;241m=\u001b[39m \u001b[38;5;124m'\u001b[39m\u001b[38;5;124madam\u001b[39m\u001b[38;5;124m'\u001b[39m , metrics\u001b[38;5;241m=\u001b[39m[ \u001b[38;5;124m'\u001b[39m\u001b[38;5;124maccuracy\u001b[39m\u001b[38;5;124m'\u001b[39m ])\n\u001b[0;32m     20\u001b[0m \u001b[38;5;66;03m#modelo.save_weights('model.h5')\u001b[39;00m\n\u001b[0;32m     21\u001b[0m \u001b[38;5;66;03m#initial_weights = modelo.get_weights()\u001b[39;00m\n\u001b[0;32m     22\u001b[0m \n\u001b[0;32m     23\u001b[0m \u001b[38;5;66;03m#Entrenamos y hacemos prediccion\u001b[39;00m\n\u001b[1;32m---> 24\u001b[0m \u001b[43mmodelo\u001b[49m\u001b[38;5;241;43m.\u001b[39;49m\u001b[43mfit\u001b[49m\u001b[43m(\u001b[49m\u001b[43mX_train\u001b[49m\u001b[43m,\u001b[49m\u001b[43my_train\u001b[49m\u001b[43m,\u001b[49m\u001b[43mvalidation_data\u001b[49m\u001b[38;5;241;43m=\u001b[39;49m\u001b[43m(\u001b[49m\u001b[43mX_test\u001b[49m\u001b[43m,\u001b[49m\u001b[43m \u001b[49m\u001b[43my_test\u001b[49m\u001b[43m)\u001b[49m\u001b[43m,\u001b[49m\u001b[43m \u001b[49m\u001b[43mepochs\u001b[49m\u001b[38;5;241;43m=\u001b[39;49m\u001b[38;5;241;43m50\u001b[39;49m\u001b[43m,\u001b[49m\u001b[43mbatch_size\u001b[49m\u001b[38;5;241;43m=\u001b[39;49m\u001b[38;5;241;43m16\u001b[39;49m\u001b[43m)\u001b[49m\n\u001b[0;32m     25\u001b[0m \u001b[38;5;66;03m#modelo.fit(X,y,validation_split=0.25, epochs=32,batch_size=32)\u001b[39;00m\n\u001b[0;32m     26\u001b[0m \u001b[38;5;66;03m#modelo.fit(X,y,epochs=32,batch_size=32)\u001b[39;00m\n\u001b[0;32m     28\u001b[0m df_history\u001b[38;5;241m=\u001b[39m pd\u001b[38;5;241m.\u001b[39mDataFrame(modelo\u001b[38;5;241m.\u001b[39mhistory\u001b[38;5;241m.\u001b[39mhistory)\n",
      "File \u001b[1;32m~\\anaconda3\\envs\\IA\\lib\\site-packages\\keras\\utils\\traceback_utils.py:67\u001b[0m, in \u001b[0;36mfilter_traceback.<locals>.error_handler\u001b[1;34m(*args, **kwargs)\u001b[0m\n\u001b[0;32m     65\u001b[0m \u001b[38;5;28;01mexcept\u001b[39;00m \u001b[38;5;167;01mException\u001b[39;00m \u001b[38;5;28;01mas\u001b[39;00m e:  \u001b[38;5;66;03m# pylint: disable=broad-except\u001b[39;00m\n\u001b[0;32m     66\u001b[0m   filtered_tb \u001b[38;5;241m=\u001b[39m _process_traceback_frames(e\u001b[38;5;241m.\u001b[39m__traceback__)\n\u001b[1;32m---> 67\u001b[0m   \u001b[38;5;28;01mraise\u001b[39;00m e\u001b[38;5;241m.\u001b[39mwith_traceback(filtered_tb) \u001b[38;5;28;01mfrom\u001b[39;00m \u001b[38;5;28mNone\u001b[39m\n\u001b[0;32m     68\u001b[0m \u001b[38;5;28;01mfinally\u001b[39;00m:\n\u001b[0;32m     69\u001b[0m   \u001b[38;5;28;01mdel\u001b[39;00m filtered_tb\n",
      "File \u001b[1;32m~\\anaconda3\\envs\\IA\\lib\\site-packages\\tensorflow\\python\\eager\\execute.py:54\u001b[0m, in \u001b[0;36mquick_execute\u001b[1;34m(op_name, num_outputs, inputs, attrs, ctx, name)\u001b[0m\n\u001b[0;32m     52\u001b[0m \u001b[38;5;28;01mtry\u001b[39;00m:\n\u001b[0;32m     53\u001b[0m   ctx\u001b[38;5;241m.\u001b[39mensure_initialized()\n\u001b[1;32m---> 54\u001b[0m   tensors \u001b[38;5;241m=\u001b[39m pywrap_tfe\u001b[38;5;241m.\u001b[39mTFE_Py_Execute(ctx\u001b[38;5;241m.\u001b[39m_handle, device_name, op_name,\n\u001b[0;32m     55\u001b[0m                                       inputs, attrs, num_outputs)\n\u001b[0;32m     56\u001b[0m \u001b[38;5;28;01mexcept\u001b[39;00m core\u001b[38;5;241m.\u001b[39m_NotOkStatusException \u001b[38;5;28;01mas\u001b[39;00m e:\n\u001b[0;32m     57\u001b[0m   \u001b[38;5;28;01mif\u001b[39;00m name \u001b[38;5;129;01mis\u001b[39;00m \u001b[38;5;129;01mnot\u001b[39;00m \u001b[38;5;28;01mNone\u001b[39;00m:\n",
      "\u001b[1;31mUnimplementedError\u001b[0m: Graph execution error:\n\nDetected at node 'Cast_1' defined at (most recent call last):\n    File \"C:\\Users\\lobo\\anaconda3\\envs\\IA\\lib\\runpy.py\", line 196, in _run_module_as_main\n      return _run_code(code, main_globals, None,\n    File \"C:\\Users\\lobo\\anaconda3\\envs\\IA\\lib\\runpy.py\", line 86, in _run_code\n      exec(code, run_globals)\n    File \"C:\\Users\\lobo\\anaconda3\\envs\\IA\\lib\\site-packages\\ipykernel_launcher.py\", line 16, in <module>\n      app.launch_new_instance()\n    File \"C:\\Users\\lobo\\anaconda3\\envs\\IA\\lib\\site-packages\\traitlets\\config\\application.py\", line 846, in launch_instance\n      app.start()\n    File \"C:\\Users\\lobo\\anaconda3\\envs\\IA\\lib\\site-packages\\ipykernel\\kernelapp.py\", line 677, in start\n      self.io_loop.start()\n    File \"C:\\Users\\lobo\\anaconda3\\envs\\IA\\lib\\site-packages\\tornado\\platform\\asyncio.py\", line 199, in start\n      self.asyncio_loop.run_forever()\n    File \"C:\\Users\\lobo\\anaconda3\\envs\\IA\\lib\\asyncio\\base_events.py\", line 595, in run_forever\n      self._run_once()\n    File \"C:\\Users\\lobo\\anaconda3\\envs\\IA\\lib\\asyncio\\base_events.py\", line 1881, in _run_once\n      handle._run()\n    File \"C:\\Users\\lobo\\anaconda3\\envs\\IA\\lib\\asyncio\\events.py\", line 80, in _run\n      self._context.run(self._callback, *self._args)\n    File \"C:\\Users\\lobo\\anaconda3\\envs\\IA\\lib\\site-packages\\ipykernel\\kernelbase.py\", line 471, in dispatch_queue\n      await self.process_one()\n    File \"C:\\Users\\lobo\\anaconda3\\envs\\IA\\lib\\site-packages\\ipykernel\\kernelbase.py\", line 460, in process_one\n      await dispatch(*args)\n    File \"C:\\Users\\lobo\\anaconda3\\envs\\IA\\lib\\site-packages\\ipykernel\\kernelbase.py\", line 367, in dispatch_shell\n      await result\n    File \"C:\\Users\\lobo\\anaconda3\\envs\\IA\\lib\\site-packages\\ipykernel\\kernelbase.py\", line 662, in execute_request\n      reply_content = await reply_content\n    File \"C:\\Users\\lobo\\anaconda3\\envs\\IA\\lib\\site-packages\\ipykernel\\ipkernel.py\", line 360, in do_execute\n      res = shell.run_cell(code, store_history=store_history, silent=silent)\n    File \"C:\\Users\\lobo\\anaconda3\\envs\\IA\\lib\\site-packages\\ipykernel\\zmqshell.py\", line 532, in run_cell\n      return super().run_cell(*args, **kwargs)\n    File \"C:\\Users\\lobo\\anaconda3\\envs\\IA\\lib\\site-packages\\IPython\\core\\interactiveshell.py\", line 2854, in run_cell\n      result = self._run_cell(\n    File \"C:\\Users\\lobo\\anaconda3\\envs\\IA\\lib\\site-packages\\IPython\\core\\interactiveshell.py\", line 2900, in _run_cell\n      return runner(coro)\n    File \"C:\\Users\\lobo\\anaconda3\\envs\\IA\\lib\\site-packages\\IPython\\core\\async_helpers.py\", line 129, in _pseudo_sync_runner\n      coro.send(None)\n    File \"C:\\Users\\lobo\\anaconda3\\envs\\IA\\lib\\site-packages\\IPython\\core\\interactiveshell.py\", line 3098, in run_cell_async\n      has_raised = await self.run_ast_nodes(code_ast.body, cell_name,\n    File \"C:\\Users\\lobo\\anaconda3\\envs\\IA\\lib\\site-packages\\IPython\\core\\interactiveshell.py\", line 3301, in run_ast_nodes\n      if await self.run_code(code, result, async_=asy):\n    File \"C:\\Users\\lobo\\anaconda3\\envs\\IA\\lib\\site-packages\\IPython\\core\\interactiveshell.py\", line 3361, in run_code\n      exec(code_obj, self.user_global_ns, self.user_ns)\n    File \"C:\\Users\\lobo\\AppData\\Local\\Temp\\ipykernel_9296\\712975740.py\", line 24, in <cell line: 5>\n      modelo.fit(X_train,y_train,validation_data=(X_test, y_test), epochs=50,batch_size=16)\n    File \"C:\\Users\\lobo\\anaconda3\\envs\\IA\\lib\\site-packages\\keras\\utils\\traceback_utils.py\", line 64, in error_handler\n      return fn(*args, **kwargs)\n    File \"C:\\Users\\lobo\\anaconda3\\envs\\IA\\lib\\site-packages\\keras\\engine\\training.py\", line 1409, in fit\n      tmp_logs = self.train_function(iterator)\n    File \"C:\\Users\\lobo\\anaconda3\\envs\\IA\\lib\\site-packages\\keras\\engine\\training.py\", line 1051, in train_function\n      return step_function(self, iterator)\n    File \"C:\\Users\\lobo\\anaconda3\\envs\\IA\\lib\\site-packages\\keras\\engine\\training.py\", line 1040, in step_function\n      outputs = model.distribute_strategy.run(run_step, args=(data,))\n    File \"C:\\Users\\lobo\\anaconda3\\envs\\IA\\lib\\site-packages\\keras\\engine\\training.py\", line 1030, in run_step\n      outputs = model.train_step(data)\n    File \"C:\\Users\\lobo\\anaconda3\\envs\\IA\\lib\\site-packages\\keras\\engine\\training.py\", line 894, in train_step\n      return self.compute_metrics(x, y, y_pred, sample_weight)\n    File \"C:\\Users\\lobo\\anaconda3\\envs\\IA\\lib\\site-packages\\keras\\engine\\training.py\", line 987, in compute_metrics\n      self.compiled_metrics.update_state(y, y_pred, sample_weight)\n    File \"C:\\Users\\lobo\\anaconda3\\envs\\IA\\lib\\site-packages\\keras\\engine\\compile_utils.py\", line 501, in update_state\n      metric_obj.update_state(y_t, y_p, sample_weight=mask)\n    File \"C:\\Users\\lobo\\anaconda3\\envs\\IA\\lib\\site-packages\\keras\\utils\\metrics_utils.py\", line 70, in decorated\n      update_op = update_state_fn(*args, **kwargs)\n    File \"C:\\Users\\lobo\\anaconda3\\envs\\IA\\lib\\site-packages\\keras\\metrics\\base_metric.py\", line 140, in update_state_fn\n      return ag_update_state(*args, **kwargs)\n    File \"C:\\Users\\lobo\\anaconda3\\envs\\IA\\lib\\site-packages\\keras\\metrics\\base_metric.py\", line 637, in update_state\n      y_true = tf.cast(y_true, self._dtype)\nNode: 'Cast_1'\nCast string to float is not supported\n\t [[{{node Cast_1}}]] [Op:__inference_train_function_747]"
     ]
    }
   ],
   "source": [
    "#RED NEURONAL\n",
    "Resumen=[]     \n",
    "funAct=[\"sigmoid\",\"relu\",\"selu\",\"softmax\",\"softplus\",\"elu\",\"tanh\"]\n",
    "#funAct=[\"relu\"]\n",
    "for i in funAct: \n",
    "    modelo = Sequential()\n",
    "    modelo.add(Input(shape=(320,), name= \"Entrada\"))\n",
    "    print(\"FUNCION DE ACTIVACION: ====> \",[i])\n",
    "    \n",
    "    modelo.add(Dense(units=100, activation=i,kernel_initializer=initializers.glorot_uniform(seed=123)))\n",
    "    modelo.add(Dense(units=80, activation=i,kernel_initializer=initializers.glorot_uniform(seed=123)))\n",
    "    modelo.add(Dense(units=50, activation=i,kernel_initializer=initializers.glorot_uniform(seed=123)))\n",
    "\n",
    "    \n",
    "    #capa de salida\n",
    "    modelo.add(Dense(units=224, activation='sigmoid',kernel_initializer=initializers.glorot_uniform(seed=123)))\n",
    "    #compilamos\n",
    "    modelo.compile(loss= 'sparse_categorical_crossentropy' , optimizer= 'adam' , metrics=[ 'accuracy' ])\n",
    " \n",
    "    #modelo.save_weights('model.h5')\n",
    "    #initial_weights = modelo.get_weights()\n",
    "\n",
    "    #Entrenamos y hacemos prediccion\n",
    "    modelo.fit(X_train,y_train,validation_data=(X_test, y_test), epochs=50,batch_size=16)\n",
    "    #modelo.fit(X,y,validation_split=0.25, epochs=32,batch_size=32)\n",
    "    #modelo.fit(X,y,epochs=32,batch_size=32)\n",
    "    \n",
    "    df_history= pd.DataFrame(modelo.history.history)\n",
    "    array_history=np.array(df_history)\n",
    "    \n",
    "    print(\"BEST AC \"+  str(\"{:.4f}\".format(df_history.val_accuracy.max())) + \" --- VAL LOSS: \"+str(\"{:.4f}\".format(df_history.val_loss.min())))\n",
    "    print(\"EPOCH: \"+ str(np.argmax(array_history[:,3])))\n",
    "    Resumen.append(i + \" - BEST AC \"+  str(\"{:.4f}\".format(df_history.val_accuracy.max())) + \" --- VAL LOSS: \"+str(\"{:.4f}\".format(df_history.val_loss.min()))+ \" - EPOCH: \"+ str(np.argmax(array_history[:,3])))\n",
    "    print(\"___________________________________________________________________________________\")\n",
    "    #modelo.load_weights('model.h5')\n",
    "    #modelo.set_weights(initial_weights)\n",
    "   "
   ]
  },
  {
   "cell_type": "code",
   "execution_count": 61,
   "id": "ad12bdd5",
   "metadata": {
    "scrolled": true
   },
   "outputs": [
    {
     "data": {
      "text/plain": [
       "[]"
      ]
     },
     "execution_count": 61,
     "metadata": {},
     "output_type": "execute_result"
    }
   ],
   "source": [
    "Resumen"
   ]
  },
  {
   "cell_type": "code",
   "execution_count": null,
   "id": "381d364c",
   "metadata": {},
   "outputs": [],
   "source": []
  },
  {
   "cell_type": "code",
   "execution_count": 62,
   "id": "c1469e08",
   "metadata": {},
   "outputs": [
    {
     "data": {
      "text/plain": [
       "'import pandas as pd\\n\\ndf_history=pd.DataFrame(modelo.history.history)\\n'"
      ]
     },
     "execution_count": 62,
     "metadata": {},
     "output_type": "execute_result"
    }
   ],
   "source": [
    "\"\"\"import pandas as pd\n",
    "\n",
    "df_history=pd.DataFrame(modelo.history.history)\n",
    "\"\"\""
   ]
  },
  {
   "cell_type": "code",
   "execution_count": 63,
   "id": "c7807e11",
   "metadata": {},
   "outputs": [
    {
     "data": {
      "text/plain": [
       "'import matplotlib.pyplot as plt\\ndf_history.plot(figsize=(12, 8),grid=True, title=\"Learning Curves\",ylim=(0,1.5));'"
      ]
     },
     "execution_count": 63,
     "metadata": {},
     "output_type": "execute_result"
    }
   ],
   "source": [
    "\"\"\"import matplotlib.pyplot as plt\n",
    "df_history.plot(figsize=(12, 8),grid=True, title=\"Learning Curves\",ylim=(0,1.5));\"\"\""
   ]
  },
  {
   "cell_type": "code",
   "execution_count": 64,
   "id": "8b3f95bb",
   "metadata": {},
   "outputs": [
    {
     "data": {
      "text/plain": [
       "\"produccion1=Knn.fit(X,y)\\nnombre_archivo='modelo_accion2.sav'\\npickle.dump(produccion1, open(nombre_archivo, 'wb'))\""
      ]
     },
     "execution_count": 64,
     "metadata": {},
     "output_type": "execute_result"
    }
   ],
   "source": [
    "\"\"\"produccion1=Knn.fit(X,y)\n",
    "nombre_archivo='modelo_accion2.sav'\n",
    "pickle.dump(produccion1, open(nombre_archivo, 'wb'))\"\"\""
   ]
  },
  {
   "cell_type": "code",
   "execution_count": 65,
   "id": "f8aaad3c",
   "metadata": {
    "scrolled": true
   },
   "outputs": [
    {
     "data": {
      "text/plain": [
       "'play'"
      ]
     },
     "execution_count": 65,
     "metadata": {},
     "output_type": "execute_result"
    }
   ],
   "source": [
    "df1[\"accion\"].unique()[4]"
   ]
  },
  {
   "cell_type": "code",
   "execution_count": null,
   "id": "ef84887b",
   "metadata": {},
   "outputs": [],
   "source": [
    " "
   ]
  },
  {
   "cell_type": "code",
   "execution_count": 66,
   "id": "33ea8015",
   "metadata": {},
   "outputs": [],
   "source": [
    "produccion2=modeloRLog.fit(X,y)\n",
    "nombre_archivo='modelo_accion2.sav'\n",
    "pickle.dump(produccion2, open(nombre_archivo, 'wb'))"
   ]
  },
  {
   "cell_type": "code",
   "execution_count": null,
   "id": "98e51435",
   "metadata": {},
   "outputs": [],
   "source": [
    "\"\"\"nuevo=\"quer escuch stast youtub\"\n",
    "produccion1.predict(nuevo)\"\"\""
   ]
  },
  {
   "cell_type": "markdown",
   "id": "914707d1",
   "metadata": {},
   "source": [
    "-----------------------------------------------------------------------"
   ]
  },
  {
   "cell_type": "code",
   "execution_count": null,
   "id": "88e6d358",
   "metadata": {},
   "outputs": [],
   "source": [
    "\"\"\"Knn= neighbors.KNeighborsClassifier(n_neighbors=5,weights='distance')\n",
    "Knn.fit(X_train, y_train.ravel())\n",
    "y_pred3= Knn.predict(X_test)\n",
    "ACkNN=accuracy_score(y_test, y_pred3,normalize=True)\n",
    "F1kNN=f1_score(y_test,y_pred3, average='macro')\n",
    "\n",
    "        \n",
    "print('Valor de k: ', k_max)\n",
    "print(\"Accuracy: \", round(ACkNN_max,3))\"\"\""
   ]
  },
  {
   "cell_type": "code",
   "execution_count": null,
   "id": "de909562",
   "metadata": {},
   "outputs": [],
   "source": [
    "\"\"\"modeloRLog=linear_model.LogisticRegression(max_iter= 5000,penalty='none',fit_intercept=False, random_state=123)\n",
    "modeloRLog.fit(X_train,y_train.ravel())\n",
    "y_pred=modeloRLog.predict(X_test)\n",
    "\n",
    "AC_RLog=accuracy_score(y_test, y_pred)\n",
    "print(\"Accuracy: \", round(AC_RLog,3))\"\"\""
   ]
  },
  {
   "cell_type": "markdown",
   "id": "cb44018d",
   "metadata": {},
   "source": [
    "-----------------------------------------------"
   ]
  },
  {
   "cell_type": "code",
   "execution_count": null,
   "id": "e3f2e74f",
   "metadata": {},
   "outputs": [],
   "source": [
    "\"\"\"produccion1=Knn.fit(X,y)\n",
    "nombre_archivo='modelo_accion.sav'\n",
    "pickle.dump(produccion1, open(nombre_archivo, 'wb'))\"\"\""
   ]
  }
 ],
 "metadata": {
  "kernelspec": {
   "display_name": "Python 3 (ipykernel)",
   "language": "python",
   "name": "python3"
  },
  "language_info": {
   "codemirror_mode": {
    "name": "ipython",
    "version": 3
   },
   "file_extension": ".py",
   "mimetype": "text/x-python",
   "name": "python",
   "nbconvert_exporter": "python",
   "pygments_lexer": "ipython3",
   "version": "3.10.0"
  },
  "toc": {
   "base_numbering": 1,
   "nav_menu": {},
   "number_sections": true,
   "sideBar": true,
   "skip_h1_title": false,
   "title_cell": "Table of Contents",
   "title_sidebar": "Contents",
   "toc_cell": false,
   "toc_position": {},
   "toc_section_display": true,
   "toc_window_display": false
  }
 },
 "nbformat": 4,
 "nbformat_minor": 5
}
