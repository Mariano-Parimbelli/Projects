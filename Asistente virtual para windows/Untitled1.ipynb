{
 "cells": [
  {
   "cell_type": "markdown",
   "id": "9ab8d018",
   "metadata": {},
   "source": [
    "# JARVIS v0.1"
   ]
  },
  {
   "cell_type": "code",
   "execution_count": 3,
   "id": "9c830232",
   "metadata": {
    "code_folding": [],
    "run_control": {
     "marked": false
    }
   },
   "outputs": [
    {
     "name": "stderr",
     "output_type": "stream",
     "text": [
      "C:\\Users\\lobo\\anaconda3\\envs\\IA\\lib\\site-packages\\pydub\\utils.py:170: RuntimeWarning: Couldn't find ffmpeg or avconv - defaulting to ffmpeg, but may not work\n",
      "  warn(\"Couldn't find ffmpeg or avconv - defaulting to ffmpeg, but may not work\", RuntimeWarning)\n"
     ]
    }
   ],
   "source": [
    "#LIBRERIAS\n",
    "import speech_recognition as sr\n",
    "import pyttsx3, pywhatkit\n",
    "import time\n",
    "import pandas as pd\n",
    "import spacy\n",
    "import numpy as np\n",
    "import re\n",
    "import random\n",
    "#import pyjokes\n",
    "import wikipedia\n",
    "import threading\n",
    "import sys\n",
    "import multiprocessing\n",
    "import subprocess as sp\n",
    "import webbrowser\n",
    "import pyautogui\n",
    "listener=sr.Recognizer()\n",
    "engine = pyttsx3.init()\n",
    "nlp=spacy.load('es_core_news_lg')\n",
    "from data.functions.basic_utilities import *\n",
    "from pydub import AudioSegment \n",
    "from pydub.playback import play \n"
   ]
  },
  {
   "cell_type": "code",
   "execution_count": null,
   "id": "7d0efc8f",
   "metadata": {},
   "outputs": [],
   "source": [
    " "
   ]
  },
  {
   "cell_type": "code",
   "execution_count": null,
   "id": "af4f0f2e",
   "metadata": {
    "code_folding": [],
    "run_control": {
     "marked": true
    }
   },
   "outputs": [],
   "source": [
    "voices = engine.getProperty(\"voices\") \n",
    "engine.setProperty('rate',200)\n",
    "engine.setProperty('voice', voices[4].id)\n",
    "engine.say(text)\n",
    "engine.runAndWait()"
   ]
  },
  {
   "cell_type": "code",
   "execution_count": 2,
   "id": "01f05147",
   "metadata": {
    "code_folding": [
     0,
     6
    ],
    "run_control": {
     "marked": false
    }
   },
   "outputs": [],
   "source": [
    "def talk(text):\n",
    "    voices = engine.getProperty(\"voices\") \n",
    "    engine.setProperty('rate',200)\n",
    "    engine.setProperty('voice', voices[4].id)\n",
    "    engine.say(text)\n",
    "    engine.runAndWait()\n",
    "def escucha():\n",
    "    def normalize(s):\n",
    "        replacements = (\n",
    "            (\"á\", \"a\"),\n",
    "            (\"é\", \"e\"),\n",
    "            (\"í\", \"i\"),\n",
    "            (\"ó\", \"o\"),\n",
    "            (\"ú\", \"u\"),\n",
    "        )\n",
    "        for a, b in replacements:\n",
    "            s = s.replace(a, b).replace(a.upper(), b.upper())\n",
    "        return s\n",
    "    global rec\n",
    "    global r\n",
    "    \n",
    "    \n",
    "    r = sr.Recognizer()\n",
    "    \n",
    "    try:\n",
    "        with sr.Microphone() as source:  \n",
    "            global audio\n",
    "            print(\"Escuchando...\")\n",
    "            audio = r.listen(source,phrase_time_limit=None,timeout=None)\n",
    "    \n",
    "   \n",
    "        rec=normalize(r.recognize_google(audio, language = \"es-ES\"))\n",
    "        print(\"dijiste: -  \" + rec)\n",
    "\n",
    "        global auxiliar2\n",
    "        auxiliar2=(\"dijiste: -  \" + rec)\n",
    "\n",
    "        entry1 = ttk.Entry(width=45)\n",
    "        entry1. insert(0,auxiliar2)\n",
    "        entry1.configure(state=\"readonly\")\n",
    "        entry1.place(x=100, y=43)\n",
    "\n",
    "        file = open(\"Dialog.txt\", \"w\",encoding=\"utf-8\")\n",
    "        file.write(auxiliar2)\n",
    "        file.close()\n",
    " \n",
    "    except sr.UnknownValueError:\n",
    "        play(AudioSegment.from_wav(\"data/sound/no_caption.wav\"))\n",
    "        print(\"No entendi lo que me dijiste!\")\n",
    "        rec=None\n",
    "    except sr.RequestError as e:\n",
    "        print(\"Could not request results from Google Speech Recognition service; {0}\".format(e))\n",
    "        rec = None\n",
    "    except sr.WaitTimeoutError:\n",
    "        rec=None\n",
    "    except:\n",
    "        rec=None\n",
    "        pass      "
   ]
  },
  {
   "cell_type": "code",
   "execution_count": 3,
   "id": "921afa47",
   "metadata": {
    "code_folding": [
     0
    ],
    "run_control": {
     "marked": false
    }
   },
   "outputs": [],
   "source": [
    "def repYoutube():\n",
    "    sinonimo=re.search(r\"(reproducir|pon|buscar|escuchar|ver|buscar en youtube|busca|ver en youtube|pone|quiero escuchar|)\",rec)\n",
    "    sinonimo=str(sinonimo.group())\n",
    "    sinonimo = sinonimo.lower()\n",
    "    var=0\n",
    "    if sinonimo is not None:\n",
    "        var=1\n",
    "    else:\n",
    "        var=0\n",
    "    if (var==1):\n",
    "        music = rec.replace(sinonimo,'')\n",
    "        music = re.sub('buscar en youtube','',music)\n",
    "        music = re.sub('en youtube','',music)\n",
    "        music = re.sub('youtube','',music)\n",
    "        music = re.sub('Reproducir','',music)\n",
    "        music = re.sub('reproduci','',music)\n",
    "        print(\"Reproduciendo...\"+ music)\n",
    "        talk(\"Reproduciendo\"+ music)\n",
    "        pywhatkit.playonyt(music,use_api=True)\n",
    "    else :\n",
    "        var=2\n",
    "        talk(\"quizas debas decirlo de otro modo, lo siento\") "
   ]
  },
  {
   "cell_type": "code",
   "execution_count": 4,
   "id": "21e6720f",
   "metadata": {
    "code_folding": [
     0
    ]
   },
   "outputs": [],
   "source": [
    "def busqGoogle():\n",
    "        sinonimo=re.search(r\"(buscar|busqueda|busca|goglear|google|guglia|guglea|googleen|en|)\",rec)\n",
    "        sinonimo=str(sinonimo.group())\n",
    "        var=0\n",
    "        if sinonimo is not None:\n",
    "            var=1\n",
    "        else:\n",
    "            var=0\n",
    "        if (var==1):\n",
    "            busqueda=re.sub('en google','',rec)\n",
    "            busqueda=re.sub(sinonimo,'',busqueda)\n",
    "            busqueda=re.sub(\"busqueda\",'',busqueda)\n",
    "            busqueda=re.sub(\"buscar\",'',busqueda)\n",
    "            busqueda=re.sub(\"busca\",'',busqueda)\n",
    "            print(\"buscando \" + busqueda)\n",
    "            talk (\"buscando \" + busqueda)\n",
    "            pywhatkit.search(busqueda) \n",
    "        else: \n",
    "            print(\"An unknown error occured\")        "
   ]
  },
  {
   "cell_type": "code",
   "execution_count": 5,
   "id": "504fc197",
   "metadata": {
    "code_folding": [
     0,
     10
    ],
    "run_control": {
     "marked": true
    }
   },
   "outputs": [],
   "source": [
    "def Wikipedia():\n",
    "    while True:\n",
    "        sinonimo = re.search(r\"(buscar|buscar definicion|busqueda|buscar|goglear|Buscar|google|guglia|guglea|dame la definicion de|la definición de|define|la definición de|definir|googleen|lds|)\", rec)\n",
    "        sinonimo = str(sinonimo.group())\n",
    "        sinonimo = sinonimo.lower()\n",
    "        var = 0\n",
    "        if sinonimo is not None:\n",
    "                var = 1\n",
    "        else:\n",
    "            var = 0\n",
    "        if (var == 1):\n",
    "            busqueda = rec.lower()\n",
    "            busqueda = re.sub('en wikipedia', '', busqueda)\n",
    "            busqueda = re.sub('de wikipedia', '', busqueda)\n",
    "            busqueda = re.sub('wikipedia', '', busqueda)\n",
    "            busqueda = re.sub('la definición de','',busqueda)\n",
    "            busqueda = re.sub('definicion de','',busqueda)\n",
    "            busqueda = re.sub(sinonimo, '', busqueda)\n",
    "            print(\"buscando \" + busqueda)\n",
    "            print(\"sinonimo:\" + sinonimo)\n",
    "            talk(\"buscando \" + busqueda)\n",
    "\n",
    "            wikipedia.set_lang(\"es\")  # -----------------\n",
    "                #wiki = wikipedia.page(busqueda)\n",
    "            try:\n",
    "                wiki = wikipedia.summary(busqueda,sentences=7)\n",
    "                break\n",
    "        \n",
    "            except wikipedia.DisambiguationError as e:\n",
    "                print(\"Encontre varios resultados!\")\n",
    "                talk(\"Hay muchos resultados para \" + busqueda + \" ,¿podrias ser mas especifico?\")\n",
    "                escucha()\n",
    "                \n",
    "         \n",
    "    text=str(wiki)\n",
    "    text = re.sub(r'==.*?==+', '', text)\n",
    "    text = re.sub(r'\\[.*?\\]+', '', text)\n",
    "    text = text.replace('\\n', '')\n",
    "    characters = \":_¡»—[];!-«©@)(\"\n",
    "    text = ''.join(x for x in text if x not in characters)\n",
    "    \n",
    "    file = open(\"Comand.txt\", \"w\",encoding=\"utf-8\")\n",
    "    file.write(text)\n",
    "    file.close()\n",
    "   \n",
    "    def ejecutar_doc1():\n",
    "        global extProc\n",
    "        extProc = sp.Popen(['python','talk.py'])  # ejecutas myPyScript.py \n",
    "          \n",
    "    def ejecutar_doc2():\n",
    "        contador=0\n",
    "        time.sleep(1)\n",
    "        while True:\n",
    "            contador+=1\n",
    "            print(\"di parar o listo si quieres detener el speak\")\n",
    "            escucha()\n",
    "            time.sleep(1)\n",
    "            try:\n",
    "                parar = re.search(r\"(parar|okey gracias|okey|gracias|entendi|entendido|para|bueno|listo|)\", rec)\n",
    "                parar = str(parar.group())\n",
    "                if (rec == parar):\n",
    "                    print(\"DETENIENDO...\")\n",
    "                    sp.Popen.terminate(extProc) # cierras el proceso\n",
    "                    break\n",
    "                elif (rec==None):\n",
    "                    time.sleep(2)\n",
    "                    continue\n",
    "            except:\n",
    "                print(\"error\")\n",
    "                continue\n",
    "    hilo1 = threading.Thread(target=ejecutar_doc1)\n",
    "  #  hilo2 = threading.Thread(target=ejecutar_doc2)\n",
    "    hilo1.daemon=True\n",
    "    hilo1.start()\n",
    "    time.sleep(1)\n",
    "    ejecutar_doc2() \n",
    "   # hilo2.start()    "
   ]
  },
  {
   "cell_type": "code",
   "execution_count": 6,
   "id": "245c13cf",
   "metadata": {
    "code_folding": [
     0
    ],
    "run_control": {
     "marked": false
    }
   },
   "outputs": [],
   "source": [
    "def PagWeb():\n",
    "    dic_web=pd.read_csv(\"dic_web.csv\")\n",
    "    sentence = rec\n",
    "    doc = nlp(sentence)\n",
    "    try:\n",
    "        for e in doc.ents:\n",
    "            text=str(e.text)\n",
    "            text=text.lower()\n",
    "            print(\"buscando...  \" + text)\n",
    "\n",
    "        for i in dic_web.index:\n",
    "            if (dic_web[\"simple\"][i] == text):\n",
    "                link=dic_web[\"completa\"][i]\n",
    "        web=\"https:\\\\\"+link\n",
    "        webbrowser.open(web, new=2, autoraise=True)     \n",
    "    except:\n",
    "        print(\"No entendi a que pagina te referias podrias reformular?\")"
   ]
  },
  {
   "cell_type": "code",
   "execution_count": 7,
   "id": "3395b0b4",
   "metadata": {
    "code_folding": [
     0
    ],
    "run_control": {
     "marked": false
    }
   },
   "outputs": [],
   "source": [
    "def choice():\n",
    "    \n",
    "    youtube=re.search(r\"(^buscar (.)+ en (youtube$)|^buscar en youtube (.)+|^reproducir (.)+ en (youtube$)|^reproducir en youtube (.)+|)\",rec)\n",
    "    youtube=str(youtube.group())\n",
    "    youtube = youtube.lower()\n",
    "\n",
    "    \n",
    "    google=re.search(r\"(^buscar (.)+ en (google$)|^buscar en google (.)+|)\",rec)\n",
    "    google=str(google.group())\n",
    "    google=google.lower()\n",
    "   \n",
    "\n",
    "    sinonimo= re.search(r\"(^buscar (.)+ en (wikipedia$)|^buscar en wikipedia (.)+|definir|)\", rec)\n",
    "    sinonimo = str(sinonimo.group())\n",
    "    wikipedia = sinonimo.lower()\n",
    "    \n",
    " \n",
    "\n",
    "    \n",
    "    if len(youtube) >=3:\n",
    "        print(\"busca en yourube!\")\n",
    "        repYoutube()\n",
    "        \n",
    "    elif len(google) >=3: \n",
    "        print(\"busca en google!\")\n",
    "        busqGoogle()\n",
    "    \n",
    "    elif len(wikipedia) >=3:\n",
    "        Wikipedia()\n",
    "    else:\n",
    "        print(\"podrias repetir?\")    "
   ]
  },
  {
   "cell_type": "code",
   "execution_count": 8,
   "id": "80e9db07",
   "metadata": {
    "code_folding": [
     0,
     2,
     6,
     10,
     12,
     15,
     19,
     25,
     27,
     29,
     31,
     34
    ],
    "run_control": {
     "marked": true
    }
   },
   "outputs": [],
   "source": [
    "def scroll():\n",
    "    \n",
    "    def bajar_const():\n",
    "            global extProc\n",
    "            extProc = sp.Popen(['python','ScrollBajar.py'])\n",
    "            extProc \n",
    "    def subir_const():\n",
    "            global extProc\n",
    "            extProc = sp.Popen(['python','ScrollSubir.py'])\n",
    "            extProc \n",
    "    def detener():\n",
    "            \n",
    "            while True:\n",
    "                time.sleep(1)\n",
    "                escucha()\n",
    "                try:\n",
    "                    print(\"di parar o listo\")\n",
    "                    parar = re.search(r\"(parar|okey gracias|okey|gracias|entendi|entendido|para|bueno|listo|)\", rec)\n",
    "                    parar = str(parar.group())\n",
    "                    if (rec == parar):\n",
    "                        print(\"DETENIENDO...\")\n",
    "                        time.sleep(0.5)\n",
    "                        sp.Popen.terminate(extProc) # cierras el proceso\n",
    "                        break\n",
    "                        pass\n",
    "                    elif (rec==None):\n",
    "                        continue\n",
    "                except:\n",
    "                    continue\n",
    "    def subir_uno():\n",
    "            pyautogui.scroll(900)\n",
    "    def bajar_uno():\n",
    "            pyautogui.scroll(-900)\n",
    "      \n",
    "    while  ((rec ==\"bajar uno\")|(rec==\"baja uno\")|(rec==\"baja otro\")|(rec==\"bajar una\")|(rec ==\"bajar otro\")|(rec==\"bajar otra\")\n",
    "           |(rec==\"baja una\")|(rec==\"baja otra\")|(rec==\"anda hacia abajo\")|(rec==\"anda bajando\")\n",
    "           | (rec==\"baja\")|(rec==\"ir bajando\")|(rec==\"anda hacia abajo\")|(rec==\"deslizar hacia abajo\")\n",
    "           |(rec==\"subir uno\")|(rec==\"subir una\")|(rec==\"subir otro\")|(rec==\"subir otra\")\n",
    "           |(rec==\"subi uno\")|(rec==\"subi una\")|(rec==\"subi otro\")|(rec==\"subi otra\")\n",
    "           |(rec==\"anda subiendo\")|(rec==\"soy una\")|(rec==\"subir uno\")|(rec==\"deslizar hacia arriba\")\n",
    "           |(rec==\"ir subiendo\")):\n",
    "            \n",
    "            \n",
    "        if((rec ==\"bajar uno\")|(rec==\"bajar una\")|(rec ==\"bajar otro\")|(rec==\"bajar otra\")\n",
    "           |(rec==\"baja una\")|(rec==\"baja otra\")|(rec==\"baja uno\")|(rec==\"baja otro\")):\n",
    "            bajar_uno()\n",
    "            escucha()\n",
    "        elif((rec==\"subir uno\")|(rec==\"subir una\")|(rec==\"subir otro\")|(rec==\"subir otra\")\n",
    "           |(rec==\"subi uno\")|(rec==\"subi una\")|(rec==\"subi otro\")|(rec==\"subi otra\")\n",
    "           |(rec==\"soy una\")|(rec==\"subir uno\")):\n",
    "            subir_uno()\n",
    "            escucha()\n",
    "            \n",
    "        elif ((rec==\"baja\")|(rec==\"ir bajando\")|(rec==\"ir bajando\")|(rec==\"anda hacia abajo\")\n",
    "              |(rec==\"deslizar hacia abajo\")|(rec==\"anda bajando\")):\n",
    "            hilo1 = threading.Thread(target=bajar_const)\n",
    "            hilo2 = threading.Thread(target=detener)\n",
    "            hilo1.daemon=True\n",
    "            hilo1.start()\n",
    "            hilo2.start()\n",
    "            time.sleep(2)\n",
    "           \n",
    "        elif(rec == \"deslizar hacia arriba\")|(rec==\"ir subiendo\")|(rec==\"anda subiendo\")|(rec==\"subi\"):\n",
    "            hilo1 = threading.Thread(target=subir_const)\n",
    "            hilo2= threading.Thread(target=detener)\n",
    "            hilo1.daemon=True\n",
    "            hilo1.start()\n",
    "            hilo2.start()\n",
    "            time.sleep(2)"
   ]
  },
  {
   "cell_type": "code",
   "execution_count": 9,
   "id": "5d479923",
   "metadata": {
    "code_folding": [
     0,
     11
    ],
    "run_control": {
     "marked": true
    }
   },
   "outputs": [],
   "source": [
    "def correcciones(cadena):\n",
    "   \n",
    "    import spacy\n",
    "    nlp=spacy.load('es_core_news_lg')\n",
    "    from nltk.tokenize import word_tokenize\n",
    "    import re\n",
    "    from spacy.matcher import Matcher\n",
    "    global pregunta_listata\n",
    "\n",
    "    corregida=str(cadena)\n",
    "     #===ELIMINAR STOP WORDS===\n",
    "    def stopWords(corpus):\n",
    "        global oraciones_filtradas\n",
    "        f = open('stopwords.txt', 'r')\n",
    "        stopwords = f.read().split('\\n')\n",
    "        f.close()\n",
    "        \" \".join(stopwords)\n",
    "        oraciones=pd.Series(corpus)\n",
    "\n",
    "        oraciones_filtradas = [\" \".join([\n",
    "                                  palabra for palabra in oracion.split()\n",
    "                                  if palabra not in stopwords])\n",
    "                                  for oracion in oraciones]\n",
    "    stopWords(corregida)\n",
    "\n",
    "    #===STEMMATIZAR===\n",
    "    from nltk.stem import SnowballStemmer\n",
    "\n",
    "    spanish_stemmer = SnowballStemmer('spanish')\n",
    "\n",
    "    oraciones_filtradas_lematizadas=[]\n",
    "    for oracion in oraciones_filtradas:\n",
    "        oracion_lematizada = []\n",
    "        for palabra in oracion.split():\n",
    "            doc=nlp(palabra)\n",
    "            oracion_lematizada.append(doc[0].lemma_)\n",
    "        oraciones_filtradas_lematizadas.append(\" \".join(oracion_lematizada))\n",
    "\n",
    "    global pregunta_lista\n",
    "    oraciones_filtradas_lematizadas_stemm=[]\n",
    "\n",
    "    for oracion in oraciones_filtradas_lematizadas:\n",
    "        oracion_stemm = []\n",
    "        for palabra in oracion.split():\n",
    "            oracion_stemm.append(spanish_stemmer.stem(palabra))\n",
    "        oraciones_filtradas_lematizadas_stemm.append(\" \".join(oracion_stemm))\n",
    "\n",
    "    pregunta_lista=oraciones_filtradas_lematizadas_stemm"
   ]
  },
  {
   "cell_type": "code",
   "execution_count": 10,
   "id": "457de986",
   "metadata": {
    "code_folding": [
     0
    ],
    "run_control": {
     "marked": false
    }
   },
   "outputs": [],
   "source": [
    "def prediccion(corpus):\n",
    "    import warnings\n",
    "    warnings.filterwarnings('ignore')\n",
    "    import pickle\n",
    "    from sklearn.feature_extraction.text import CountVectorizer\n",
    "    global result\n",
    "    global probabilidad\n",
    "    \n",
    "    loaded_vec = CountVectorizer(vocabulary=pickle.load(open(\"prediccion/estructure.pkl\", \"rb\"))) \n",
    "    new_input=loaded_vec.transform(corpus)\n",
    "    new_input=pd.DataFrame(new_input.toarray()) \n",
    "\n",
    "\n",
    "    clf_input=pickle.load(open(\"prediccion/modelo.sav\", \"rb\"))\n",
    "    probabilidad=sorted(list(clf_input.predict_proba(new_input)[0]))[-1]\n",
    "    predict_input=clf_input.predict(new_input)\n",
    "\n",
    " \n",
    "    for index,value in enumerate(predict_input):\n",
    "        result=[]\n",
    "        if float(probabilidad) >= 0.6:\n",
    "            result.append(predict_input[index])\n",
    "\n",
    "    \n",
    "    result=np.unique(result)\n",
    "    result=\" \".join(result) "
   ]
  },
  {
   "cell_type": "code",
   "execution_count": 11,
   "id": "f977922e",
   "metadata": {
    "code_folding": [
     0
    ],
    "run_control": {
     "marked": false
    }
   },
   "outputs": [],
   "source": [
    "def functions(result):\n",
    "    if (result == \"buscar_google\"):\n",
    "        busqGoogle()\n",
    "    elif (result==\"minimizar\"):\n",
    "        minimize()\n",
    "    elif (result==\"configuraciones\"):\n",
    "        openConfiguration()\n",
    "    elif (result==\"buscar_wikipedia\"):\n",
    "        Wikipedia()\n",
    "    elif (result==\"next_tab\"):\n",
    "        nextTab()\n",
    "    elif (result==\"previus_tab\"):\n",
    "        previusTab()\n",
    "    elif (result==\"close_tab\"):\n",
    "        closeTab()\n",
    "    elif (result==\"previus_pag\"):\n",
    "        previusPag()\n",
    "    elif (result==\"new_windows\"):\n",
    "        newWindow()\n",
    "    elif (result==\"abir_web\"):\n",
    "        PagWeb()\n",
    "    elif (result==\"buscar_youtube\"):\n",
    "        repYoutube()\n",
    "    elif (result==\"pausa\")|(result==\"play\"):\n",
    "        play_pause()\n",
    "    elif (result==\"siguiente\"):\n",
    "        siguiente()\n",
    "    elif (result==\"anterior\"):\n",
    "        anterior()\n",
    "    elif (result==\"volumenMenos\"):\n",
    "        volMenos()\n",
    "    elif (result==\"volumenMas\"):\n",
    "        volMas()    "
   ]
  },
  {
   "cell_type": "code",
   "execution_count": null,
   "id": "6ed980d8",
   "metadata": {
    "code_folding": [
     0
    ],
    "run_control": {
     "marked": false
    }
   },
   "outputs": [
    {
     "name": "stdout",
     "output_type": "stream",
     "text": [
      "Escuchando...\n",
      "dijiste: -  icaro\n",
      "Escuchando...\n",
      "No entendi lo que me dijiste!\n",
      "Escuchando...\n",
      "dijiste: -  MercadoLibre pagina de MercadoLibre\n",
      "Escuchando...\n",
      "Escuchando...\n",
      "No entendi lo que me dijiste!\n",
      "Escuchando...\n",
      "Escuchando...\n"
     ]
    }
   ],
   "source": [
    "while True:\n",
    "    escucha()\n",
    "    if (rec==\"ikaro\")|(rec==\"icaro\")|(rec==\"ika\")|(rec==\"ica\")|(rec==\"escucha\")|(rec==\"escuchame\")|(rec==\"escuchar\")|(rec==\"picara\")|(rec==\"activar\")|(rec==\"activate\"):\n",
    "        play(AudioSegment.from_wav(\"data/sound/online.wav\")) \n",
    "        while True:\n",
    "            escucha()\n",
    "            if (rec == None):\n",
    "                continue\n",
    "            elif (rec==\"adios\")|(rec==\"cerrar\")|(rec==\"chau\")|(rec==\"Adios\")|(rec==\"Chau\")|(rec==\"hayas\"):\n",
    "                play(AudioSegment.from_wav(\"data/sound/exit.wav\"))\n",
    "                print(\"Exit\")\n",
    "                quit()\n",
    "\n",
    "            elif (rec==\"mute\")|(rec==\"mutear\")|(rec==\"deja de escuchar\")|(rec==\"no escuches\")|(rec==\"silencio\")|(rec==\"apagar\")|(rec==\"silenciar\"):\n",
    "                play(AudioSegment.from_wav(\"data/sound/mute.wav\")) \n",
    "                break\n",
    "\n",
    "            elif(rec!=None):\n",
    "                cadena=rec \n",
    "                correcciones(cadena)\n",
    "                prediccion(pregunta_lista)\n",
    "                print(result)\n",
    "                functions(result)\n",
    "                continue  \n",
    "    elif (rec==\"adios\")|(rec==\"cerrar\")|(rec==\"chau\")|(rec==\"Adios\")|(rec==\"Chau\")|(rec==\"hayas\"):\n",
    "        play(AudioSegment.from_wav(\"data/sound/exit.wav\"))\n",
    "        print(\"Exit\")\n",
    "        quit()      \n",
    "\n",
    "    else:\n",
    "        continue"
   ]
  }
 ],
 "metadata": {
  "kernelspec": {
   "display_name": "Python 3 (ipykernel)",
   "language": "python",
   "name": "python3"
  },
  "language_info": {
   "codemirror_mode": {
    "name": "ipython",
    "version": 3
   },
   "file_extension": ".py",
   "mimetype": "text/x-python",
   "name": "python",
   "nbconvert_exporter": "python",
   "pygments_lexer": "ipython3",
   "version": "3.10.0"
  },
  "toc": {
   "base_numbering": 1,
   "nav_menu": {},
   "number_sections": true,
   "sideBar": true,
   "skip_h1_title": false,
   "title_cell": "Table of Contents",
   "title_sidebar": "Contents",
   "toc_cell": false,
   "toc_position": {},
   "toc_section_display": true,
   "toc_window_display": false
  }
 },
 "nbformat": 4,
 "nbformat_minor": 5
}
